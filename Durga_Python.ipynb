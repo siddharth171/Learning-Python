{
 "cells": [
  {
   "cell_type": "markdown",
   "id": "ea38dca2",
   "metadata": {},
   "source": [
    "### What is Python?"
   ]
  },
  {
   "cell_type": "markdown",
   "id": "7d23589a",
   "metadata": {},
   "source": [
    "    "
   ]
  },
  {
   "cell_type": "markdown",
   "id": "12d4cdbf",
   "metadata": {},
   "source": [
    "## Where can we use Python?"
   ]
  },
  {
   "cell_type": "markdown",
   "id": "7ce7e7ca",
   "metadata": {},
   "source": [
    "    It is a general purpose programming language.\n",
    "        1. Desktop applications\n",
    "            Examples: Calculator, widgets, etc\n",
    "        2. Web apllications\n",
    "            Gmail, blog, etc\n",
    "        3. Network applications\n",
    "            Chatting apps\n",
    "        4. Games\n",
    "        5. Data Analysis\n",
    "        6. ML, NN, DL, AI, IoT\n",
    "        7. Data Science"
   ]
  },
  {
   "cell_type": "markdown",
   "id": "35b1a9a6",
   "metadata": {},
   "source": [
    "## Which companies use Python?"
   ]
  },
  {
   "cell_type": "markdown",
   "id": "a4e9b641",
   "metadata": {},
   "source": [
    "    Google, Facebook/Meta, NASA, Dropbox, Netflix, Quora, Spotify, Instagram, YouoTube, RaspberryPy, BitTorrent, twilio, redhat, Yahoo etc,."
   ]
  },
  {
   "cell_type": "markdown",
   "id": "22a10b63",
   "metadata": {},
   "source": [
    "## Features of Python."
   ]
  },
  {
   "cell_type": "markdown",
   "id": "5a1d0793",
   "metadata": {},
   "source": [
    "    1. Simple and easy to learn\n",
    "        a. Only 33 reserved words\n",
    "        b. Syntax is like reading english language\n",
    "        c. Concise code, less code, very simple languange and can be learnt easily\n",
    "        \n",
    "    \n",
    "    2. Freeware and opensource\n",
    "        Freeware:\n",
    "            Liscence fee is not required therefore, Freeware. Foundation is responsible to maintain, Python Software Foundation (PSF). Scope of using this languange is large because of no cost or liscence fee. PSF is a non-profit organisation.\n",
    "        Opensource:\n",
    "            The Python source code is open to all. You can customize and use it for your specific purposes.\n",
    "            \n",
    "    \n",
    "    3. High Level Programming Language\n",
    "        It means it is a programmer friendly language.\n",
    "        Not needed to worry about low level activities.\n",
    "        Memory allocation, security, etc, is done by Python\n",
    "        \n",
    "    4. Platform independent\n",
    "        Three platform: Windows, Linux, Mac\n",
    "        When we write an application in C, we need to write three different applications for each platform. That's why C is a platform depedent language.\n",
    "        Python Virtual Machine (PVM) for Windows is required, similarly we require PVM for Linux and Mac. So here we have only one program/application. Now this can be run on any platform therefore it is called platform independent. PVM is platform dependent.\n",
    "    \n",
    "    5. Portability\n",
    "        Example: Mobile Number Portability sevices\n",
    "        Without performing any changes in application it can be migrated from one platfrom to another platform. Similar to paltform independent.\n",
    "    \n",
    "    6. Dynamically typed\n",
    "        In other languages if you declare a variable:\n",
    "            a = 10\n",
    "        It will give an error. It says you did not declare a variable\n",
    "        We have to declare each and every variable with its type otherwise it will throw error. Such languages are called statically typed languages.\n",
    "        \n",
    "        But in Python:\n",
    "            a = 10\n",
    "        It will not throw error. Because it will automatically the type will be considered. So it is not required to declare the type of the variable. More flexibility is given to the programmer.\n",
    "    \n",
    "    7. Both Procedure Oriented and Object Oriented\n",
    "        C - Procedure Oriented Programming\n",
    "            No benefits like OOPs\n",
    "        Java - Obejct Oriented Programming\n",
    "            No benefits of POPs\n",
    "        Python - POP, OOP, Scripting, Modular\n",
    "            Python acts as an all rounder programming language\n",
    "        \n",
    "    \n",
    "    8. Interpreted\n",
    "        It is not required to compile the program. Internally the PVM will handle the compilation. We are not required to compile explicitly. It gives more flexibility to the programmer.\n",
    "    \n",
    "    9. Extensible\n",
    "        We can use other language program in Pyhton. What is the need? \n",
    "        We can use legacy non-python code in our apllication. Some feature.\n",
    "        Overall performace of the application can be improved. For example some feature can be devleloped using Python.\n",
    "    \n",
    "    10. Embedded\n",
    "        We can use any python code in any other language application. It can work with Java application. Or C# apllication. We can emmbed our python script in an apllication where other languages are used.\n",
    "        Scope of scalability is enormous.\n",
    "    \n",
    "    11. Extensive Library\n",
    "        There are ready made libraries, numberorus libraries. Rich library, we can write concise code. Library/Battery. For example to create a random OTP there is already a random library.\n",
    "        You can pass any number of argument in print() statement."
   ]
  },
  {
   "cell_type": "markdown",
   "id": "ad6db065",
   "metadata": {},
   "source": [
    "## Limitations of Python."
   ]
  },
  {
   "cell_type": "markdown",
   "id": "80f05690",
   "metadata": {},
   "source": [
    "    1. Python is used to build ML applications with many libraries available like Numpy, Pandas, etc. Library support is there.\n",
    "    \n",
    "        Not suitable to develop mobile applications. Because library support is not there.\n",
    "    \n",
    "    2. Entreprise application\n",
    "        Banking, Telecom\n",
    "        \n",
    "        Here Python is not have necessary libraries, that's why python is not the best choice.\n",
    "        \n",
    "    3. Python is an interpreted language. That is the code is executed line by line.\n",
    "        Performance is low.\n",
    "        JIT (similar to JIT) compiler concept to PVM. This is called PyPy. AKA Python for speed.\n",
    "        \n",
    "    4. Opensource Python, can be custamized for our specific usage.\n",
    "        \n",
    "\n",
    "        "
   ]
  },
  {
   "cell_type": "markdown",
   "id": "9da78956",
   "metadata": {},
   "source": [
    "## Flavours of Python."
   ]
  },
  {
   "cell_type": "markdown",
   "id": "03259260",
   "metadata": {},
   "source": [
    "    1. Cython\n",
    "        C - language applications\n",
    "    2. JPython/Jython\n",
    "        Java applications\n",
    "    3. Ruby Python\n",
    "    4. Anaconda Python\n",
    "        Specialized python platform. To work with lrge volumes of data we require Anaconda\n",
    "    5. Stackless\n",
    "        Python for concurrency\n",
    "    6. PyPy (Python for speed)\n",
    "        JIT Compiler + PVM\n",
    "    \n",
    "    All these flavours are available because Python is \"OPENSOURCE\""
   ]
  },
  {
   "cell_type": "markdown",
   "id": "c893cf4e",
   "metadata": {},
   "source": [
    "## Python Versions"
   ]
  },
  {
   "cell_type": "markdown",
   "id": "6d616a56",
   "metadata": {},
   "source": [
    "    Python 3 in 2008, Dec 3\n",
    "    \n",
    "    Backward compatibility in Java\n",
    "        Every new version supports for old versions\n",
    "        \n",
    "    Python 2.x is not the extension of Python 3.x. Python 3.x has been developed as completely different language.\n",
    "        We can add any new feature without worrying the backward compatability, since backward campatability if not availbale in Python 3.x. We can add features as per current programming requirements not worrrying about the 20-30 years old requirements."
   ]
  },
  {
   "cell_type": "markdown",
   "id": "7a02e32d",
   "metadata": {},
   "source": [
    "## Python Identifiers"
   ]
  },
  {
   "cell_type": "markdown",
   "id": "9b8bd666",
   "metadata": {},
   "source": [
    "    Identifiers and reserviors\n",
    "    \n",
    "    What is Identifier?\n",
    "        A name in Python is called identifier. It can be a variable name, class name, method name.\n",
    "        Example: \n",
    "            a = 10\n",
    "            Here 'a' is identifier.\n",
    "            \n",
    "    Rules to create identifiers:\n",
    "        1. a - z\n",
    "           A - Z\n",
    "           0 - 9\n",
    "            '_' - underscore\n",
    "            \n",
    "        2. Cannot start with digits\n",
    "            Example: 123list = [] #this an invalid way\n",
    "            \n",
    "        3. Pyhton is Case Sensitive programming language\n",
    "            total = 10\n",
    "            Total = 20\n",
    "            TOTAL = 30\n",
    "            \n",
    "            all are different\n",
    "            \n",
    "        4. There is no length limit to an identifier\n",
    "            Example: xxxxxxxxxxxxxxxxxxxxxxxxxxxxxxxxxxxxxxxxxxxxxxxxxxxxxxxxxxxxxxxxxxx = 10\n",
    "            This is valid in Python. But it is not recommended to use such a large names.\n",
    "            \n",
    "        5. Keywords or reserved words cannot be used as identifiers.\n",
    "        \n",
    "\n",
    "    The difference between different variables:\n",
    "        x      -    normal variable\n",
    "        _x     -    protected variable\n",
    "        __x    -    private variable\n",
    "        __x__  -    magic varibale"
   ]
  },
  {
   "cell_type": "markdown",
   "id": "e00a446f",
   "metadata": {},
   "source": [
    "## Python Reserved words or Keywords"
   ]
  },
  {
   "cell_type": "markdown",
   "id": "0e1df3ff",
   "metadata": {},
   "source": [
    "    Python contains only 33 reserved words. Java has 53.\n",
    "    \n",
    "    Words that represent some meaning or functionality are called reserved words.\n",
    "    \n",
    "    The keywords in Python:\n",
    "    \n",
    "        True, False, None\n",
    "        and, or, not, is\n",
    "        if, elif, else\n",
    "        while, for, break, continue, return, in, yield\n",
    "        try, except, finally, raise, assert\n",
    "        import, from, as, class, def, pass\n",
    "        global, nonlocal, lambda, del, with\n",
    "        \n",
    "        \n",
    "    1. Contains only alphabets\n",
    "    2. only True, False, None are uppercase, other all are smallcase.\n",
    "    3. Switch state/concept is not there in Python\n",
    "    4. Do While is not there in Python\n",
    "    5. int, float, etc, are required as reseverd words        \n"
   ]
  },
  {
   "cell_type": "markdown",
   "id": "ce0fefbb",
   "metadata": {},
   "source": [
    "## Datatypes in Python"
   ]
  },
  {
   "cell_type": "markdown",
   "id": "c7c88b86",
   "metadata": {},
   "source": [
    "#### Int datatype"
   ]
  },
  {
   "cell_type": "markdown",
   "id": "08f9d578",
   "metadata": {},
   "source": [
    "    Type of data stored in database. Is it int, float, True, bool, etc,.\n",
    "    \n",
    "    In Python while declaring variables we are not reuired to specify type explicitly.\n",
    "    \n",
    "    Types of in-built Datatypes in Python:\n",
    "        1. int\n",
    "        2. float\n",
    "        3. complex\n",
    "        4. bool\n",
    "        5. str\n",
    "        6. list\n",
    "        7. tuple\n",
    "        8. set\n",
    "        9. frozen set\n",
    "        10. dict\n",
    "        11. bytes\n",
    "        12. bytearray\n",
    "        13. range\n",
    "        14. None\n",
    "        \n",
    "        \n",
    "    Everything in Pyton is OBJECT!\n",
    "        a = 10\n",
    "        type(a) - to know the type\n",
    "        id(a) - to know the address\n",
    "        print(a) - to print the value of variable\n",
    "        \n",
    "    int and long datatypes in Python.\n",
    "        int - 1\n",
    "        long - 1111111111111111111111111111111111111111111111111111111111111111111\n",
    "        \n",
    "        long was present in Pyton 2.x, it is not available in Python 3.x\n",
    "        \n",
    "    Integral values in python can be represented in 4 ways:\n",
    "        1. decimal\n",
    "            a = 1111\n",
    "            \n",
    "        2. binary\n",
    "            a = 0b1111\n",
    "            or\n",
    "            a = 0B1111\n",
    "            \n",
    "            print(a) # python is always going to provide output in decimal - decimal is default\n",
    "            \n",
    "        3. ocatal\n",
    "            allowed digits are 0 - 7.\n",
    "            a = 0o123\n",
    "            or\n",
    "            a = 0O123\n",
    "            print(a) # prints in decimal form\n",
    "        \n",
    "        4. hexa decimal\n",
    "            allowed digits 0 -9, alphabets A - F (you can take any case, small or upper)\n",
    "            a = 0x10\n",
    "            or\n",
    "            a = oX10\n",
    "            print(a) # prints in default decimal form\n",
    "            \n",
    "            a = oXFace # is it valid or not\n",
    "            a = 0xBeef # valid or not\n",
    "            \n",
    "            \n",
    "    Base conversion functions:\n",
    "\n",
    "        1. bin()\n",
    "            bin(15)\n",
    "            bin(0o123)\n",
    "            bin(0XFace)\n",
    "\n",
    "        2. oct()    \n",
    "\n",
    "        3. hex()\n",
    "        \n",
    "    These conversions are apllicable only for integral numbers.\n",
    "    \n",
    "    Float data type:\n",
    "    "
   ]
  },
  {
   "cell_type": "markdown",
   "id": "5917978c",
   "metadata": {},
   "source": [
    "#### Float Datatype"
   ]
  },
  {
   "cell_type": "markdown",
   "id": "82bab275",
   "metadata": {},
   "source": [
    "    f = 1.12345 # only this one is valid, because float is represented only in decimal form. Other will throw error. The below values will throw error. i.e invalid syntax!\n",
    "    f = 0B1.1011\n",
    "    f = 0o123.456\n",
    "    f = 0X123.57"
   ]
  },
  {
   "cell_type": "markdown",
   "id": "e0135b97",
   "metadata": {},
   "source": [
    "#### Exponential form"
   ]
  },
  {
   "cell_type": "markdown",
   "id": "02c3fad2",
   "metadata": {},
   "source": [
    "    f = 1.2e3 or f = 1.2E3\n",
    "    print(f) # this will not throw error. This is called scientific notation/representation. Output will be in decimal"
   ]
  },
  {
   "cell_type": "markdown",
   "id": "ace6287f",
   "metadata": {},
   "source": [
    "#### Complex Data Type"
   ]
  },
  {
   "cell_type": "markdown",
   "id": "bc40a5d4",
   "metadata": {},
   "source": [
    "    x = a+bj\n",
    "    x = 10+20J\n",
    "    # We have to use 'j' only. It is kind of reserved for complex data type. lowercase or uppercase\n",
    "    x = 10+20i # this will throw error, i\n",
    "    print(x.real) # output: 10.0\n",
    "    print(x.imag) # output: 20.0\n",
    "    \n",
    "    acceptable represetaions:\n",
    "        x = 10.0 + 20.0J\n",
    "        x = 10.5 + 20J\n",
    "        x = 10.5 + 20.5j\n",
    "        # all the above representations are correct\n",
    "        \n",
    "        x = 0B1111 + 20.0j # correct representation\n",
    "        x = 0B1111 + 0B1111J # this will throw error because you cannot use other number systems in imaginary part. You can use only decimal system/float in the imaginary part"
   ]
  },
  {
   "cell_type": "markdown",
   "id": "3e122223",
   "metadata": {},
   "source": [
    "#### Bool Datatype"
   ]
  },
  {
   "cell_type": "markdown",
   "id": "be358a43",
   "metadata": {},
   "source": [
    "    In python booleans are True, Flase. They have to be uppercase. true and false are not acceptable.\n",
    "    \n",
    "    b = True\n",
    "    print(type(b))\n",
    "    \n",
    "    a = 10\n",
    "    b = 20\n",
    "    c = a>b\n",
    "    \n",
    "    print(type(c)) # output will be False\n",
    "    \n",
    "    print(True + True) # output is 2\n",
    "    print(True + False) # output is 1\n",
    "    print(True * False) # output is 0\n",
    "    Internally True is represented as 1 and False as 0."
   ]
  },
  {
   "cell_type": "markdown",
   "id": "c90f8420",
   "metadata": {},
   "source": [
    "#### String Datatype"
   ]
  },
  {
   "cell_type": "markdown",
   "id": "2f4f6a04",
   "metadata": {},
   "source": [
    "    Any sequesnce of characters is treated as string.\n",
    "    \n",
    "    Both single and double quotes can be used. Even triple quotes can be used.\n",
    "    \n",
    "    s = 'sid'\n",
    "    print(type(s))\n",
    "    \n",
    "    In python there is no char datatype. We have only str type. Even single alphabet.\n",
    "    \n",
    "    \n",
    "    Triple Quotes:\n",
    "        '''\n",
    "            xyz\n",
    "        '''\n",
    "        Three apllications are there:\n",
    "            1. Multiline string. to define multiline string literals\n",
    "                s = ' this\n",
    "                      is\n",
    "                      awesome'\n",
    "                The above example will throw an error. Syntax Error\n",
    "                To solve this we can use triple-single-quotes or tripe-double-quotes\n",
    "                \n",
    "            2. If you want to use single-quote and double-quote as a normal string the triple-quotes can help.\n",
    "                ''' This is 'me' and that is \"you\". '''\n",
    "            3. To define doc string\n",
    "            \n",
    "            \n",
    "    Index:\n",
    "        s = 'siddharth'\n",
    "        How to access characters of the string?\n",
    "        \n",
    "        print(s[2]) # output is d\n",
    "        print(s[100]) # output is it will throw an error i.e. String Index error\n",
    "        print(s[-1] # output is h, starts from the end, python supports both positive and negative index. Positive - left to right. Negative - right to left.\n",
    "        \n",
    "        \n",
    "    Slice operator:\n",
    "        Getting part of the string is a slice.\n",
    "        \n",
    "        s = 'abcdefghijklmnopqrstuvwxyz'\n",
    "        \n",
    "        print(s[2:8]) # we will get the letters from 2nd index to n-1th index i.e. 8-1=7th index.\n",
    "        There are two arguments for the slice operator.\n",
    "        If you are not specifying end index it will cosider till the end of the index.\n",
    "        If you do not consider beginning index then it will start from 0th index and will consider till the specified index.\n",
    "        Slice operator will not raise index error. So if we do print(s[3:1000]) then the output will be d to z. It will not throw an error.\n",
    "        print(s[5:1]) # output is you will get empty string i.e.: ''\n",
    "        \n",
    "        \n",
    "    + and * operators for string:\n",
    "        When we concatenante in Python then: s = 'sidd' + 'arth'\n",
    "        s = 'sid' + 10 # in python both has to be string otherwise it will throw error\n",
    "        \n",
    "        s = 'sid' * 3 # output is sidsidsid, * is acceptable in python\n",
    "        \n",
    "        s = 3 * 'sid' # is this valid or not? It is valid!!\n",
    "        \n",
    "        s = 'sid' * 'dharth' # it will throw an error"
   ]
  },
  {
   "cell_type": "markdown",
   "id": "42c95695",
   "metadata": {},
   "source": [
    "## Type Casting or Type Conversion"
   ]
  },
  {
   "cell_type": "markdown",
   "id": "5ca6ef44",
   "metadata": {},
   "source": [
    "    int()\n",
    "        Complex number cannot be converted to int, it will throw error.\n",
    "        Bool to int we can convert, because internally True is 1 and False is 0\n",
    "        String internally contains only integral values and in base-10 system only.\n",
    "\n",
    "    float()\n",
    "        int to float\n",
    "        float(0B1111) # output is 15.0\n",
    "\n",
    "        complex to float\n",
    "        float(10+20j) # throws error\n",
    "\n",
    "        blool to float\n",
    "        float(True) # 1.0\n",
    "        float(False) # 0.0\n",
    "\n",
    "        str to float\n",
    "        float('12') # output is 12.0\n",
    "        float('0XFace') # output throws error\n",
    "\n",
    "    complex()\n",
    "        complex(x) # real part\n",
    "        complex(x,y) # x is real and y is imaginary\n",
    "\n",
    "        complex(10) # output is 10+0j\n",
    "        complex(0B1111) # output is 15+0j\n",
    "        complex(10.5) # output is 10.5+0j\n",
    "        complex(True) # 1+0j\n",
    "        complex(False) # 0+0j\n",
    "        complex('12') # 12+0j\n",
    "        complex('12.6')# 12.6+0j\n",
    "        comolex('0B1111') # error, as with other typecasting it has to be in decimal system\n",
    "\n",
    "        complex(10, 20) # 10+20j\n",
    "        complex(10.5, 12.5) # 10.5+12.5j\n",
    "        complex('10','20') # type error\n",
    "        complex(10, '20') # type error, second argument can't be a string\n",
    "\n",
    "    bool()\n",
    "        bool(10) # output is True, If it is other than zero i.e. non-zero then it is always True\n",
    "        bool(0) # False\n",
    "        bool(0.0) # False\n",
    "        bool(0.1) # True\n",
    "        bool(0.0000001) # True\n",
    "        \n",
    "        bool(0+0j) # False, if both the arguments are 0 only then it will return False otherwise True\n",
    "        bool(1+0j) # True\n",
    "        \n",
    "        bool('') # False, only if the string is empty then False othewise in all the opther cases it will return True\n",
    "        bool('True') # True\n",
    "        bool('10') # True\n",
    "        bool('no') # True\n",
    "        \n",
    "\n",
    "\n",
    "    str()\n",
    "        str(10) # '10'\n",
    "        str(0B1111) # '15'\n",
    "        str(10.5) # '10.5' , you can convert anything into string\n",
    "        str(10+10j) # '10+10j'\n",
    "        str(True) # 'True'"
   ]
  },
  {
   "cell_type": "markdown",
   "id": "0fecce80",
   "metadata": {},
   "source": [
    "## Fundamental Datatypes and Immutability"
   ]
  },
  {
   "cell_type": "markdown",
   "id": "c60f690b",
   "metadata": {},
   "source": [
    "    Once we create an object, we cannot perform any changes in that object. If we are trying to perform any changes, with those changes, a new object will be created.\n",
    "    \n",
    "    Int object is immutable.\n",
    "        x = 10\n",
    "        print(id(x)) # prind address\n",
    "        x = x+1 # new object is created and new address, old is collected by garbage collector\n",
    "        \n",
    "    Why is there an immutability concept in Pyhton?\n",
    "    \n",
    "    a = 10\n",
    "    b = 10\n",
    "    c = 10\n",
    "    \n",
    "    We think that three objects are created, but in python it doesn't happen. Python first checks whether there is an object already existing with needed requirements, then it reuses the object.\n",
    "    \n",
    "    print(id(a))\n",
    "    print(id(b))\n",
    "    print(id(c))\n",
    "    \n",
    "    Biggest advantage is memory unitlization is efficient\n",
    "    In programming creating an object is a costly operation. Hence, using the sme object increases the performance.\n",
    "    \n",
    "    print(a is b) # checks if the adress is same.\n",
    "    \n",
    "    Same for float, bool, str objects\n",
    "    \n",
    "    Does python need to search everytime an object to verify whether it exists already? Yes, it does require to search but creating operation is more costlier than searching operation.\n",
    "    \n",
    "    What are the disadvantages in this approach?\n",
    "        Voter registration apllication example:\n",
    "            entering city name: Bangalore\n",
    "            \n",
    "    In the case of complex(), reusing is not applicable to this datatype.\n",
    "    \n",
    "    \n",
    "    Mutability:\n",
    "        List is a mutable object.\n",
    "        l1 = [10,20,30]\n",
    "        l2 = l1\n",
    "        Both point to the same object, they have same address\n",
    "        Changes are made in the existing object only"
   ]
  },
  {
   "cell_type": "markdown",
   "id": "57433443",
   "metadata": {},
   "source": [
    "## Collection Data Types"
   ]
  },
  {
   "cell_type": "markdown",
   "id": "c11f3eba",
   "metadata": {},
   "source": [
    "    List\n",
    "    Tuple\n",
    "    Set\n",
    "    Frozenset\n",
    "    Dict\n",
    "    Range\n",
    "    Bytes\n",
    "    Bytearray\n",
    "    \n",
    "    All these can be used to represent a group of entities."
   ]
  },
  {
   "cell_type": "markdown",
   "id": "0935b2bf",
   "metadata": {},
   "source": [
    "#### List"
   ]
  },
  {
   "cell_type": "markdown",
   "id": "5aaee08d",
   "metadata": {},
   "source": [
    "    Where order is important and duplicates are allowed then we can go for lists.\n",
    "    \n",
    "    It is represented by square brackets - []\n",
    "    Example: [10,20,30]\n",
    "    \n",
    "    l = [10, 'sid', 20, 10, 30] # order is important and \n",
    "    \n",
    "    print(type(l))\n",
    "    \n",
    "    Points:\n",
    "        1. Order is preserved\n",
    "        2. Duplicate objects are allowed\n",
    "        3. Sqaure brackeet representation\n",
    "        4. Heterogenius objects are allowed\n",
    "        5. The list is indexed, starts with 0.  Slicing concept is possible.\n",
    "        6. Add or remove elements\n",
    "            l = []    \n",
    "            l.append()\n",
    "            l.remove()\n",
    "        7. List is mutable"
   ]
  },
  {
   "cell_type": "markdown",
   "id": "16d0fed3",
   "metadata": {},
   "source": [
    "#### Tuple"
   ]
  },
  {
   "cell_type": "markdown",
   "id": "4e6a345f",
   "metadata": {},
   "source": [
    "    It is exactly same as list, except it is not mutable.\n",
    "    \n",
    "    It is kind of read only version of list.\n",
    "    \n",
    "    Tuple is represented by parenthesis notation; ()\n",
    "        t = (10, 20, 30, 40, 'sid') # only one difference is it cannot be changed or is immutable.\n",
    "        \n",
    "        t[0] = 7777\n",
    "        t.append(50)\n",
    "        t.remove(40)\n",
    "        These above operations will throw error, these are trying to modify. Tuple is immutable.\n",
    "        \n",
    "        Very Very important, a special case.\n",
    "            t = ()\n",
    "            print(type(t()))\n",
    "            \n",
    "            t = (10)\n",
    "            print(type(t))) # the output is not a tuple, it is int type. Such problem can arise only in the tuple and not in the case of [], {}.\n",
    "            \n",
    "            t = (10,)\n",
    "            print(type(t))) # so this problem is solved by adding comma(,), after the single valued tuple."
   ]
  },
  {
   "cell_type": "markdown",
   "id": "4c4ea6d5",
   "metadata": {},
   "source": [
    "#### Difference between Tuple and List"
   ]
  },
  {
   "cell_type": "markdown",
   "id": "ccddd199",
   "metadata": {},
   "source": [
    "                List                               |    Tuple\n",
    "            _______________________________________|__________________________________________\n",
    "            1. Mutable                             |    1. Immutable\n",
    "            2.                                     |    2. ()\n",
    "            3. More memory                         |    3. Less memory\n",
    "            4. Perfromance is less                 |    4. Faster access (Performance is more)\n",
    "            5. If the content keeps on changing    |    5. If content doen't change gor for tuple"
   ]
  },
  {
   "cell_type": "markdown",
   "id": "e9e6d844",
   "metadata": {},
   "source": [
    "#### Set"
   ]
  },
  {
   "cell_type": "markdown",
   "id": "914d491e",
   "metadata": {},
   "source": [
    "    Two important points:\n",
    "        Duplicates are not allowed\n",
    "        Order not required\n",
    "        Indexing and Sclicing is not apllicable\n",
    "        Heterogeneous objects are allowed\n",
    "        It is growable and mutable\n",
    "        \n",
    "    \n",
    "    s = {10, 20, 30}\n",
    "    print(type(s))\n",
    "    \n",
    "    s = {10, 20, 10, 'sid', 30, 40}\n",
    "    print(s) # output is: {10,20,'sid',30,40}, remember order is not preserved\n",
    "    \n",
    "    print(s[0]) # throws error, indexing is not applicable for the set.\n",
    "    print(s[1:4]) # throws error, indexing is not applicable for the set.\n",
    "    \n",
    "    s.add(50) # append() for list add() for set\n",
    "    print(s) # {10, 20,30, 50} # order is not preserved\n",
    "    \n",
    "    s.remove(30)\n",
    "    \n",
    "    Why do we have append() in set and add() in set? Why different methods?\n",
    "        append(), this method will always add element at the last.\n",
    "        add(), there is no guarantee that it will be added at the last. Order is not preserved. It can be added anywhere.\n",
    "        \n",
    "    Very Very Important:\n",
    "        s = {} # this is not an empty set! It is not set it is empty dictionary.\n",
    "        print(s) # by default it is given as dictionary. But why? This is because dictionary is most commonly and frequently used so by default it is dictionary.\n",
    "        \n",
    "        Then how to create empty set?\n",
    "            s = set() # need to use empty function.  "
   ]
  },
  {
   "cell_type": "markdown",
   "id": "f93d9b8c",
   "metadata": {},
   "source": [
    "#### Difference between List and Set"
   ]
  },
  {
   "cell_type": "markdown",
   "id": "c61052a3",
   "metadata": {},
   "source": [
    "                     List                                             Set\n",
    "                     ______________________________________________________________________\n",
    "                     1. Order is preserved                    1. Order is not preserved\n",
    "                     2. Duplicates are allowed                2. Duplicates are not allowed\n",
    "                     3. []                                    3. {}\n",
    "                     4. l = []                                4. s = set()"
   ]
  },
  {
   "cell_type": "markdown",
   "id": "f4e8e884",
   "metadata": {},
   "source": [
    "#### Frozenset"
   ]
  },
  {
   "cell_type": "markdown",
   "id": "3f2197da",
   "metadata": {},
   "source": [
    "    s  = {10,20,30}\n",
    "    fs = frozenset(s)\n",
    "    print(type(fs))\n",
    "    \n",
    "    fs.add() # throws error\n",
    "    fs.remove() # throws error. It is immutable"
   ]
  },
  {
   "cell_type": "markdown",
   "id": "bdc1bff3",
   "metadata": {},
   "source": [
    "#### Difference between Tuple and  Frozenset"
   ]
  },
  {
   "cell_type": "markdown",
   "id": "780f92af",
   "metadata": {},
   "source": [
    "            Tuple                                           Frozenset\n",
    "            _________________________________________________________________________________\n",
    "            1. Order is preserved                      1. Order is not applicable\n",
    "            2. Duplicates are allowed                  2. Duplicates are not allowed\n",
    "            3. Indexing and sclicing is allowed        3. Indexing and sclicing is not allowed\n",
    "            4. Immutable                               4. Immutable                    "
   ]
  },
  {
   "cell_type": "markdown",
   "id": "c347413a",
   "metadata": {},
   "source": [
    "#### Dictionary"
   ]
  },
  {
   "cell_type": "markdown",
   "id": "dcd7d2fb",
   "metadata": {},
   "source": [
    "    If you want to represent a group of values as key-value pairs then go for dict data type.\n",
    "    \n",
    "    d = {100: 'sid', 200: 'mil', 300: 'jil'}\n",
    "    \n",
    "    How to create a dict.\n",
    "    \n",
    "    d = {} # empty dictionary, it is not set.\n",
    "    d[key] = value\n",
    "    \n",
    "    Very Very Important:\n",
    "        Duplicate keys are allowed or not??\n",
    "            Duplicate keys are not allowed!! Values can be duplicate.\n",
    "        Duplicate values is allowed\n",
    "        Order is not preserved\n",
    "        Heterogeneous objects are allowed\n",
    "        It is Mutable\n",
    "        Indexing and sclicing is not applicable            "
   ]
  },
  {
   "cell_type": "markdown",
   "id": "803d5ece",
   "metadata": {},
   "source": [
    "#### Range Datatype"
   ]
  },
  {
   "cell_type": "markdown",
   "id": "2f666ccd",
   "metadata": {},
   "source": [
    "    r = range(10) # 0 to 9\n",
    "    print(type(r))\n",
    "    print(r) # output is range(0,10)\n",
    "    \n",
    "    Form-1\n",
    "        ranage(10) # from 0 to n-1\n",
    "        \n",
    "    Form-2\n",
    "        range(10,20) # begin with your desired value\n",
    "        range(1,11)\n",
    "        \n",
    "    Form-3\n",
    "        range(begin, end, increment/decrement)\n",
    "        range(1,10,1)\n",
    "        range(1,10,2)\n",
    "        range(11,1,-1) # decrementing values\n",
    "    \n",
    "    Order is important\n",
    "    Range means sequence of values, it means it has indexing, sclicing.    \n",
    "    Very Very Important:\n",
    "        Range object is immutable. Once you create a range, you cannot add or remove its contents."
   ]
  },
  {
   "cell_type": "markdown",
   "id": "283ebfa1",
   "metadata": {},
   "source": [
    "#### Bytes Datatype"
   ]
  },
  {
   "cell_type": "markdown",
   "id": "259731e2",
   "metadata": {},
   "source": [
    "    l = [10, 20, 30, 40]    \n",
    "    b = bytes(l)\n",
    "    print(type(b))\n",
    "    \n",
    "    for x in b:\n",
    "        print(x)\n",
    "        \n",
    "    Values only from 0 - 255 only. If you tried to add another vakue it will throw error. Bytes must be in the range of 0 - 255 only.\n",
    "    \n",
    "    l = [10, 20, 30, 40]    \n",
    "    b = bytes(l)\n",
    "    print(b[0]) # output 10\n",
    "    If you want to assign b[0] = 77 # though it is in the range 0-255 only but still it throws error because bytes are immutable."
   ]
  },
  {
   "cell_type": "markdown",
   "id": "9018c0eb",
   "metadata": {},
   "source": [
    "#### Bytearray Datatype"
   ]
  },
  {
   "cell_type": "markdown",
   "id": "1f4f79c6",
   "metadata": {},
   "source": [
    "    l = [10, 20, 30, 40]    \n",
    "    b = bytearray(l)\n",
    "    \n",
    "    Bytes are immutable whereas bytearrays are mutable.\n",
    "    \n",
    "    print(b[0]) # output is 10\n",
    "    \n",
    "    Values should be in the range 0 - 255 only.\n",
    "    \n",
    "    b[0] = 77\n",
    "    \n",
    "    for x in b:\n",
    "        print(x) # output is 77, 20, 30, 40 : so it is mutable\n",
    "        \n",
    "    Bytes and Bytearrays we use when we want to represent data in binary format: video files, images, audio, etc"
   ]
  },
  {
   "cell_type": "markdown",
   "id": "3b7e22b0",
   "metadata": {},
   "source": [
    "#### None Datatype"
   ]
  },
  {
   "cell_type": "markdown",
   "id": "fb82996e",
   "metadata": {},
   "source": [
    "    None means nothing. i.e. no value is associated\n",
    "    How to handle such type of situation? We use None datatype.\n",
    "    \n",
    "    To make object available for garbage collection, we use None datatype\n",
    "    \n",
    "    Internally None is also an object."
   ]
  },
  {
   "cell_type": "markdown",
   "id": "6bc55fc5",
   "metadata": {},
   "source": [
    "## Escape Characters"
   ]
  },
  {
   "cell_type": "markdown",
   "id": "37c0cd37",
   "metadata": {},
   "source": [
    "    \\n - new line\n",
    "    \\t - horizontal tab\n",
    "    \\r - carriage return\n",
    "    \\b - backspace\n",
    "    \\f - form feed\n",
    "    \\' - single quote\n",
    "    \\\\ - back slash"
   ]
  },
  {
   "cell_type": "markdown",
   "id": "c3725411",
   "metadata": {},
   "source": [
    "## Comments"
   ]
  },
  {
   "cell_type": "markdown",
   "id": "04588413",
   "metadata": {},
   "source": [
    "    Single line comment: # symbol\n",
    "    \n",
    "    multiline comment: multiple # symbols\n",
    "    \n",
    "    ''' ''' - this is documentation string, it is not multiline comment"
   ]
  },
  {
   "cell_type": "markdown",
   "id": "bbf3fc4a",
   "metadata": {},
   "source": [
    "## Constants in Python"
   ]
  },
  {
   "cell_type": "markdown",
   "id": "0f90fb13",
   "metadata": {},
   "source": [
    "    Constants concept is not applicable in python.\n",
    "    \n",
    "    If you don't want to change value:\n",
    "        MAX_LENGTH = 10 # this is simply a convention, i.e all the letters in variable name are capital"
   ]
  },
  {
   "cell_type": "markdown",
   "id": "c37ee34c",
   "metadata": {},
   "source": [
    "## Operators"
   ]
  },
  {
   "cell_type": "markdown",
   "id": "2235fca6",
   "metadata": {},
   "source": [
    "    1. Arithmatic Operators\n",
    "    2. Relational Operators or Comparision Operators\n",
    "    3. Logical Operators\n",
    "    4. Bitwise Operators\n",
    "    5. Assignment Operators\n",
    "    6. Special Operators"
   ]
  },
  {
   "cell_type": "markdown",
   "id": "ffe9140f",
   "metadata": {},
   "source": [
    "#### Arithmatic Operators"
   ]
  },
  {
   "cell_type": "markdown",
   "id": "9c60023c",
   "metadata": {},
   "source": [
    "    + Additions\n",
    "    - Subtraction\n",
    "    * Multiplication\n",
    "    / Division\n",
    "    % Modulo\n",
    "    \n",
    "    // Floor Division\n",
    "    ** Exponent/Power "
   ]
  },
  {
   "cell_type": "markdown",
   "id": "ad614b41",
   "metadata": {},
   "source": [
    "#### Bitwise Operator"
   ]
  },
  {
   "cell_type": "markdown",
   "id": "940dae33",
   "metadata": {},
   "source": [
    "    &, |, ^, ~, <<, >>\n",
    "    \n",
    "    Applicable for only int type and boolean type\n",
    "    \n",
    "    & - if both bits are 1 then only 1 otherwise 0\n",
    "    \n",
    "    | - atleast one bit is 1 otherwise 0\n",
    "    \n",
    "    ^ - if both arguments/bits are different then 1 otherwise 0\n",
    "    \n",
    "    ~ - bitwise complement operator: 1 -> 0, 0 -> 1: one will be zero and zero will be one\n",
    "    \n",
    "    << - Left Shift Operator\n",
    "    \n",
    "    >> - Right Shift Operator"
   ]
  },
  {
   "cell_type": "markdown",
   "id": "0a225ee1",
   "metadata": {},
   "source": [
    "#### Assignement Operator"
   ]
  },
  {
   "cell_type": "markdown",
   "id": "d742d8e8",
   "metadata": {},
   "source": [
    "    Increment and Decrement Operator is not available in Python\n",
    "    \n",
    "    Compound Assignment\n",
    "        +=\n",
    "        -=\n",
    "        *=\n",
    "        /=\n",
    "        %=\n",
    "        ^=\n",
    "        ~=\n",
    "        >>=\n",
    "        <<="
   ]
  },
  {
   "cell_type": "markdown",
   "id": "e7f67fcb",
   "metadata": {},
   "source": [
    "#### Ternary Operator"
   ]
  },
  {
   "cell_type": "markdown",
   "id": "106077bb",
   "metadata": {},
   "source": [
    "    ?:\n",
    "    \n",
    "    x = condition ? first_value : second_value\n",
    "    x = (10<20) ? 30 : 40\n",
    "    print(x) # It will throw an error\n",
    "    \n",
    "    The syntax style is different:\n",
    "        x = first_value if condition else second_value"
   ]
  },
  {
   "cell_type": "markdown",
   "id": "2a385834",
   "metadata": {},
   "source": [
    "#### Identity Operator"
   ]
  },
  {
   "cell_type": "markdown",
   "id": "1843a9e1",
   "metadata": {},
   "source": [
    "    The purpose is to use for address comparision\n",
    "    \n",
    "    a = 10\n",
    "    b = 10\n",
    "    \n",
    "    print(a is b)\n",
    "    print(a is not b)\n",
    "    \n",
    "    == will do content comparision\n",
    "        l1 = [10,20]\n",
    "        l2 = [10,20]\n",
    "        print(l1 is l2) # output is False\n",
    "        print(l1 == l2) # output is True"
   ]
  },
  {
   "cell_type": "markdown",
   "id": "5b374746",
   "metadata": {},
   "source": [
    "#### Membership Operator"
   ]
  },
  {
   "cell_type": "markdown",
   "id": "dbd72671",
   "metadata": {},
   "source": [
    "    l1 = [10, 20, 30]\n",
    "    print(10 in l1)\n",
    "    \n",
    "    To check whether a given member is in a given list.\n",
    "    \n",
    "    print(10 not in l1)"
   ]
  },
  {
   "cell_type": "markdown",
   "id": "7d937d57",
   "metadata": {},
   "source": [
    "## Module"
   ]
  },
  {
   "cell_type": "markdown",
   "id": "7f197016",
   "metadata": {},
   "source": [
    "    A group of functions, varaibles, and classes\n",
    "    \n",
    "    Library:\n",
    "        A group of such modules is called libraries"
   ]
  },
  {
   "cell_type": "markdown",
   "id": "b64a61a5",
   "metadata": {},
   "source": [
    "## Input function"
   ]
  },
  {
   "cell_type": "markdown",
   "id": "f4322b23",
   "metadata": {},
   "source": [
    "    input()"
   ]
  },
  {
   "cell_type": "markdown",
   "id": "455aafe5",
   "metadata": {},
   "source": [
    "## Eval function"
   ]
  },
  {
   "cell_type": "markdown",
   "id": "698aa26d",
   "metadata": {},
   "source": [
    "    x = eval(input('Enter something: '))\n",
    "\n",
    "    print(type(x))\n",
    "    \n",
    "    a,b,c = [eval(x) input(\"Enter 3 values\").split(\",\")]\n",
    "    \n",
    "    print(type(a))\n",
    "    print(type(b))\n",
    "    print(type(c))"
   ]
  },
  {
   "cell_type": "markdown",
   "id": "0f1f3353",
   "metadata": {},
   "source": [
    "## Command Line Arguments"
   ]
  },
  {
   "cell_type": "markdown",
   "id": "c8521180",
   "metadata": {},
   "source": [
    "#### argv"
   ]
  },
  {
   "cell_type": "markdown",
   "id": "772c18ce",
   "metadata": {},
   "source": [
    "    py test.py\n",
    "    \n",
    "    argv is list type\n",
    "    \n",
    "    print(type(argv))\n",
    "    \n",
    "    What ever values/arguments you pass from the command promt, these arguments are considered as command line arguments. How are these arguments available/read?\n",
    "    You use argv function from sys module. The output is a list of contents. It is in fact a list.\n",
    "    \n",
    "    \n",
    "    Read a group of int values from the keyboard as cmd line arguments and print sum.\n",
    "    Use argv\n",
    "    \n",
    "    Use double quotes only, single quotes is not possible\n",
    "    \n",
    "        >py test.py 'Siddharth Ballure'\n",
    "            print(argv[1]) # The output will be 'Siddharth\n",
    "            # May be internally python is implemented in that way. We need to use double quotes\n",
    "            \n",
    "    print(argv[1] + argv[2])\n",
    "    1020 # it concatenates, to get addition you need to typecast to int\n",
    "    \n",
    "    print(argv[100]) # error, list index out of range\n",
    "    \n",
    "    print(argv[7:1000]) # we get empty list [] as output, because internally argv is list"
   ]
  },
  {
   "cell_type": "markdown",
   "id": "cd3f0309",
   "metadata": {},
   "source": [
    "## print() function"
   ]
  },
  {
   "cell_type": "markdown",
   "id": "5cfcdf64",
   "metadata": {},
   "source": [
    "    Print without any argument\n",
    "        print() # a new line will be inserted\n",
    "        \n",
    "    println() is not available in python.\n",
    "    \n",
    "    print('Hello \\n Siddharth') # we can use escape characters within the quotes\n",
    "    \n",
    "    print('Hello \\t Siddharth')\n",
    "    \n",
    "    print('sid' + 'arth')\n",
    "    \n",
    "    print('sid' * 3) # one is string and the other is int, order doesn't matter\n",
    "    \n",
    "    print('siddharth', 'ballure') # 'siddharth ballure' is the output, comma is not printed\n",
    "    \n",
    "    It can take any number of arguments,  default separator is there in the output i.e. space. We can have our desired separator.\n",
    "    print(a,b,c)\n",
    "    \n",
    "    Print with end attribute. New line is added by default, therefore if you want output in same line then use 'end' attribute.\n",
    "    \n",
    "    default attribute for sep is space, for end attribute it is new line character\n",
    "    \n",
    "    print(object)\n",
    "        You can print any object too.\n",
    "        \n",
    "    print(with formatted string)\n",
    "        %i --- int\n",
    "        %d --- int\n",
    "        %f --- float\n",
    "        %s --- str\n",
    "        \n",
    "        print(formatted string %(variable list))\n",
    "        a,b,c = 10,20,30\n",
    "        print(\"a value of %i and b value is %i\" %(a,b))\n",
    "        \n",
    "        name = 'sid'\n",
    "        l = [10,20,30]\n",
    "        \n",
    "        print('hello %s the list is: %s' %(name,l)\n",
    "        \n",
    "    print function with replacement operator\n",
    "        name = 'sid'\n",
    "        salary = 1000\n",
    "        gf = 'girl'\n",
    "        print(\"Hello {1} your salary is {2} your gf {3} is waiting\".format(name,salary,gf))\n",
    "        \n",
    "        print(\"Hello {} your salary is {} your gf {} is waiting\".format(name,salary,gf))\n",
    "\n",
    "        print(\"Hello {x} your salary is {y} your gf {z} is waiting\".format(x=name,y=salary,z=gf)) # order is not important\n",
    "        \n",
    "        print(f\"Hello {name} your salary is {salary} your gf {gf} is waiting\")"
   ]
  },
  {
   "cell_type": "markdown",
   "id": "73d16b3f",
   "metadata": {},
   "source": [
    "## Flow Control"
   ]
  },
  {
   "cell_type": "markdown",
   "id": "39a00622",
   "metadata": {},
   "source": [
    "    1. Conditional statemets / Selections statements\n",
    "        if\n",
    "        if else\n",
    "        if elif\n",
    "        if elif else\n",
    "        \n",
    "    2. Iterative Statements\n",
    "        for\n",
    "        while\n",
    "        do while and switch statements is not available\n",
    "        \n",
    "        If you know number of iterations in advance then we should go for for-loop. If we don't know number of iterations in advance then go for while loop.\n",
    "        \n",
    "    3. Transfer Statements\n",
    "        break\n",
    "        continue\n",
    "        pass\n",
    "        \n",
    "    Else comes with loop and exception handling:\n",
    "        for - else\n",
    "        while - else\n",
    "        try - except - else - finally\n",
    "        \n",
    "        cart = [10,20,600,70,90]\n",
    "\n",
    "    for item in cart:\n",
    "        if item>500:\n",
    "            print('cannot process', item, 'insurance needed')\n",
    "            break\n",
    "        print('Processing item', item)\n",
    "    else:\n",
    "        print('congrats, all items processed successfully')\n",
    "        \n",
    "    # else means loop without break i.e if break is not executed only then else part will be executed.\n",
    "    \n",
    "    \n",
    "    for-loop\n",
    "        execute body for every item in a given sequence\n",
    "    while-loop\n",
    "        execute body as long as a condition is satified/true\n",
    "    How to exit from the loop\n",
    "        break\n",
    "    How to skip and continue for the next iteration\n",
    "        continue\n",
    "    When else part will be executed?\n",
    "        If loop is executed without executing break statement then else part is executed\n",
    "    pass?\n",
    "        pass is a keyword in python. If the code block is syntaxtically but doesn't do any action then pass keyword is used.\n",
    "        It is an empty statement. It doesn't do anything.\n",
    "        "
   ]
  },
  {
   "cell_type": "markdown",
   "id": "e814cf76",
   "metadata": {},
   "source": [
    "## del keyword"
   ]
  },
  {
   "cell_type": "markdown",
   "id": "b8070928",
   "metadata": {},
   "source": [
    "    del statement is used to make objects available for garbage collecttion. If the object is not required anymore then use, del statement so that the obejct is collected by the garbage.\n",
    "    \n",
    "    varibale name and the corresponding object is no longer required.\n",
    "    \n",
    "    Advantage is memory utilization by default will be improved.\n",
    "    \n",
    "    Doubt:\n",
    "        If three different variable are pointing to the same object and one varibale is del then other two variables can still access the obejct. It is not yet available for garbage collection.\n",
    "        del keyword cannot be used for function call.\n",
    "            del function() # not possible, it will throw error"
   ]
  },
  {
   "cell_type": "markdown",
   "id": "c2faf8e1",
   "metadata": {},
   "source": [
    "## None"
   ]
  },
  {
   "cell_type": "markdown",
   "id": "94b55ead",
   "metadata": {},
   "source": [
    "    If you want to use a variable name in the future but don't want orresponding object to be used then None is used. The object is available for garbage collection.\n",
    "    s1 = None"
   ]
  },
  {
   "cell_type": "markdown",
   "id": "0415f74d",
   "metadata": {},
   "source": [
    "## String Datatype"
   ]
  },
  {
   "cell_type": "markdown",
   "id": "8759222c",
   "metadata": {},
   "source": [
    "    Most commonly used string object.\n",
    "    \n",
    "    Any sequence of character either in single quote or double quote is a string.\n",
    "        s = 'sid'\n",
    "        s = \"sid\"\n",
    "        \n",
    "    Note:\n",
    "        ch = 'a' # in other languages it is considered as char. But in python even a single character is treated as string.\n",
    "        \n",
    "    Multiline string literals.\n",
    "        '''This is multiline\n",
    "            string literal'''\n",
    "        or\n",
    "        \n",
    "        \"\"\"This is multiline\n",
    "            string literal\"\"\"\n",
    "            \n",
    "        You can use single triple quote or double triple quote\n",
    "        \n",
    "    How to access characters of the string?\n",
    "        By using index\n",
    "        By using slice operator\n",
    "        Can access both by positive and negative index\n",
    "        \n",
    "        Index Method:\n",
    "        \n",
    "            s = 'siddharth'\n",
    "\n",
    "            i = 0\n",
    "            for x in s:\n",
    "                print(i, i-len(s),x)\n",
    "                i+=1\n",
    "                \n",
    "        Slicing Method:\n",
    "            s[begin:end:step]\n",
    "            \n",
    "            s[0:9:1]\n",
    "            \n",
    "    \n",
    "    Reverse a String:\n",
    "        s[:] ---- forward\n",
    "        s[::-1] --- reversed\n",
    "    \n",
    "    Remove duplicates characters from the string.\n",
    "    Each charater how many times is it availabe?\n",
    "    Reverse words in-place\n",
    "        example: sid is working -------- dis si gnikrow\n",
    "        \n",
    "    membership operator to check substring:\n",
    "        s = 'siddharth'\n",
    "        print('ddh' in s)\n",
    "        \n",
    "    What is the difference between '=='  and 'is' operator?\n",
    "    \n",
    "    Removing the spaces:\n",
    "        strip()\n",
    "            remove the space at beginning and end\n",
    "        lstrip()\n",
    "            remove space on left\n",
    "        rstrip()\n",
    "            removes space on right\n",
    "        \n",
    "    Finding substring:\n",
    "    \n",
    "        find() # returns the index of first occurance, if not available returns -1. It also return the index of a space\n",
    "            s = 'siddharthballuresiddharth'\n",
    "            print(s.find('siddharth'))\n",
    "            print(s.find('siddharth', 5,10))\n",
    "            \n",
    "        index()\n",
    "            print(s.index('siddharth')) # the difference between find() and index() is that the former returns -1 and the later returns ValueError\n",
    "            print(s.index('siddharth', 5,10))\n",
    "        \n",
    "        rfind() # in reverse direction, return only first matched\n",
    "            print(s.rfind('siddharth'))\n",
    "            print(s.rfind('siddharth', 5,10))\n",
    "            \n",
    "        rindex()\n",
    "            print(s.rindex('siddharth'))\n",
    "            print(s.index('siddharth', 5,10))\n",
    "            \n",
    "    Q. Program to display the position of all the substring.\n",
    "        s = input('Enter a string: ')\n",
    "        subs = input('Enter a sub string: ')\n",
    "        \n",
    "        flag=False\n",
    "        pos=-1\n",
    "        \n",
    "        n = len(s)\n",
    "        \n",
    "        while True:\n",
    "            pos = s.find(subs, pos+1,n)\n",
    "            if pos = -1:\n",
    "                break\n",
    "            print('found at index: ', pos)\n",
    "            flag = True\n",
    "        if flag = False:\n",
    "            print('Not Found')\n",
    "            \n",
    "    \n",
    "    Counting substring in the given string:\n",
    "        s.count(substring)\n",
    "        s.count(substring, begin, end)\n",
    "        \n",
    "    Replacing a string with another string:\n",
    "        s.replace('old string', 'new string')\n",
    "        \n",
    "        Strings are immutable then how are we able to replace the string?\n",
    "        Whenever we call replace(), a new object is going to be created, the original object is no muted, the fundamental datatypes are immutable. Check with id() function.\\\n",
    "        \n",
    "        s = 'abababa'\n",
    "        s = s.replace('a','b') # here the s is assigned to a new object and the original object is now available for garbage collection.\n",
    "        \n",
    "    Splitting of strings:\n",
    "        s.split() # the default separator is space\n",
    "        \n",
    "        l = s.split()\n",
    "        print(i)\n",
    "        \n",
    "        What is the difference between sep and split. Split is applicable to string, sep is applicable to print() function.\n",
    "        \n",
    "        rsplit() # from reverse direction\n",
    "        \n",
    "    Joining the strings:\n",
    "        s.join()\n",
    "        l = ['sid', 'arth', 'ball', 'ure'] #it can be list or tuple\n",
    "        \n",
    "        s = '-'.join(l)\n",
    "        \n",
    "    Changing the case of string:\n",
    "        upper()\n",
    "        lower()\n",
    "        swapcase()\n",
    "        title()\n",
    "        capitalize()\n",
    "        \n",
    "    Checking the starting and ending part of a string:\n",
    "        s.startswith()\n",
    "        s.endswith() # these methods are case sensitive, output is in boolean\n",
    "        \n",
    "    To check type of character in a string:\n",
    "        isalnum()\n",
    "        isalpha()\n",
    "        isdigit()\n",
    "        islower()\n",
    "        isupper()\n",
    "        istitle()\n",
    "        isspace() # apllicable only if there are spaces\n",
    "        \n",
    "        iscapitalize() method is not available\n",
    "        \n",
    "        \n",
    "    Formatting strings:\n",
    "        print(f'')\n",
    "        print('{} {}'.format(x,y))\n",
    "        \n",
    "    Write a program to reverse a string:\n",
    "        1. s = 'sid'\n",
    "           l = s[::-1]\n",
    "           \n",
    "        2. reversed(s)\n",
    "            1. for x in reversed(s):\n",
    "                   print(x, end='')\n",
    "                \n",
    "            2. print(''.join(reversed(s)))\n",
    "            \n",
    "            3. for x in reversed(s):\n",
    "                   print(x,end='')\n",
    "               \n",
    "        3. s = input('Enter string: ')\n",
    "           i=len(s)\n",
    "           output=''\n",
    "           while i>=0:\n",
    "               output=output+s[i]\n",
    "               i=i-1\n",
    "           print(output)\n",
    "           \n",
    "    Some questions:\n",
    "        1. input: Siddharth Ballure\n",
    "           output: Ballure Siddharth\n",
    "        \n",
    "        2. input: Siddharth Ballure\n",
    "           output: htrahddiS erullaB\n",
    "           \n",
    "        3. even or odd index\n",
    "            s1 = 'sid'\n",
    "            s2 = 'bal'\n",
    "            \n",
    "            output: ssbiadl\n",
    "            \n",
    "            s1 = 'siddharth'\n",
    "            s2 = 'bal'\n",
    "            \n",
    "            output: ssbiadldharth\n",
    "            \n",
    "        4. input: B4A1D3\n",
    "           output: ABD134\n",
    "           \n",
    "        5. input: a4b3c2\n",
    "           putput: aaaabbbcc\n",
    "           \n",
    "        6. input: a4k3b2\n",
    "           output: aeknbd\n",
    "               solve using chr() and ord()\n",
    "           \n",
    "        7. input: a3z5\n",
    "           output: adz$\n",
    "        \n",
    "        8. Print characters at even position or odd position\n",
    "            input: siddharth\n",
    "            output: sdhrh\n",
    "            \n",
    "            input: ballure\n",
    "            output: alr\n",
    "            \n",
    "            There are two methods:\n",
    "                1. using slice operator\n",
    "                2. without using slice operator \n",
    "                \n",
    "        9. Write a program to remove duplicates in the string:\n",
    "            input: ABABAHHBABDBDB\n",
    "            output: ABDH\n",
    "            \n",
    "        10. Find the number of occurances in each character\n",
    "            input: ABCABCABC\n",
    "            output: A - 3\n",
    "                    B - 3\n",
    "                    C - 3"
   ]
  },
  {
   "cell_type": "markdown",
   "id": "11490639",
   "metadata": {},
   "source": [
    "# Collections"
   ]
  },
  {
   "cell_type": "markdown",
   "id": "ee168c9e",
   "metadata": {},
   "source": [
    "    Collection is a group of objects as a single entity.\n",
    "    \n",
    "    Some requirements when having collections:\n",
    "        1. Duplicates are allowed\n",
    "        2. Duplicates are not allowed\n",
    "        3. Insertion order must be required\n",
    "        4. Order is not important\n",
    "        "
   ]
  },
  {
   "cell_type": "markdown",
   "id": "02d62be6",
   "metadata": {},
   "source": [
    "## List"
   ]
  },
  {
   "cell_type": "markdown",
   "id": "657de570",
   "metadata": {},
   "source": [
    "    1. Insertion order is preserved\n",
    "    2. Duplicte objects are allowed\n",
    "    3. Heterogeneous objects are allowed\n",
    "    4. List by default is growable\n",
    "    5. It is represented by square brackets notation - []\n",
    "    6. How is insertion order preserved\n",
    "        By using index\n",
    "        \n",
    "    \n",
    "    How List and String objects are different?\n",
    "        A sequence of characters is a string, but a group of objects is a List.\n",
    "        \n",
    "    \n",
    "    Creating a List, different ways:\n",
    "    \n",
    "        1. Empty List\n",
    "            l = []\n",
    "            \n",
    "        2. If we know elements already\n",
    "            l = [10,20,30,40]\n",
    "            \n",
    "        3. With dynamic input, directly from the keyboard\n",
    "            \n",
    "            l = input('Enter some list: ') # but this is a string\n",
    "            \n",
    "            So the correct way or eval()\n",
    "            \n",
    "            l = eval(input('Enter some list: ')) # the user enters: ['sid', 10, 2.5]\n",
    "            \n",
    "        4. With list() function:\n",
    "            \n",
    "            l = list(range(0,10,2))\n",
    "            \n",
    "            l = list('siddharth')\n",
    "            \n",
    "        5. Using split() function\n",
    "        \n",
    "            This will always give output in the form of list\n",
    "            \n",
    "            l = 'siddharth'.split(separator)\n",
    "            \n",
    "    Nested Lists:\n",
    "        [10,20, [20, 30, 50, [1,2,3,4]]]\n",
    "        \n",
    "    Accessing the elements:\n",
    "        \n",
    "        By index\n",
    "        Or by slice operator\n",
    "            l[index]\n",
    "            l[index1:index2]\n",
    "            l[start:end:step] # step can be positive or negative\n",
    "            \n",
    "    List vs Immutability:\n",
    "    \n",
    "        List object is mutable\n",
    "        \n",
    "    Traversing the elements of the List:\n",
    "    \n",
    "        By using while-loop\n",
    "        \n",
    "        i=o\n",
    "        while i<=len(l):\n",
    "            print(l[i])\n",
    "            i+=1\n",
    "            \n",
    "    \n",
    "    Important functions of List:\n",
    "        \n",
    "        If you define any function of method outside of a class, it is called function.\n",
    "        If you declare a function inside a class, such fucntions are called medthod.\n",
    "        \n",
    "        1. len()\n",
    "            It is a function, give the number of characters/elements or length of list\n",
    "        \n",
    "        2. count()\n",
    "            count(l) # it is a method means:\n",
    "                l.count('element in list')\n",
    "            \n",
    "        3. index()\n",
    "            l.index('element') # it is a method\n",
    "            \n",
    "    \n",
    "    Manipulating elements in the list.\n",
    "        \n",
    "        1. append()\n",
    "            l.append() # it is method\n",
    "            \n",
    "        2. insert() \n",
    "            l.insert(index, element) # it is a method to insert an element at a specified index\n",
    "                If the index is greater than the last element then it will be added in the last/end.\n",
    "                If the specified index is smaller than the smallest index i.e -ve then the new element will be added to the 0th index.\n",
    "                \n",
    "        What is the difference between append() and insert()?\n",
    "        \n",
    "        3. extend()\n",
    "            What is the difference between extend() and append()\n",
    "                When you l.append('sid') # output is ['sid']\n",
    "                When you l.extend('sid') # output is ['s','i','d']\n",
    "\n",
    "        4. remove()\n",
    "            l.remove(element) # if element is not available in the list then we get ValueError\n",
    "                It is a method\n",
    "                Removes first occurance of an element.\n",
    "                It will not return anything\n",
    "                ValueError\n",
    "                \n",
    "        5. pop()\n",
    "            l.pop(index)\n",
    "                Remove last inserted element.\n",
    "                It will return the popped element. It is a method.\n",
    "                If the list is empty, then we will get IndexError.\n",
    "                How to check if the list is empty? Use len() function\n",
    "                \n",
    "        6. clear()\n",
    "            To remove all the elements from the list. It will remove the elements but an empty list remains.\n",
    "        \n",
    "        \n",
    "        Are list objects are dynamic? There are methods to icrease and decrease the size.\n",
    "        \n",
    "    \n",
    "    Ordering the elements of the List:\n",
    "        \n",
    "        1. reverse()\n",
    "            l.reverse() # it is a method\n",
    "            \n",
    "        2. sort()\n",
    "            sort(l) # it is a method\n",
    "            In list by default insertion order is preserved. According to default natural sorting order.\n",
    "            For string objects it is alphabetical order.\n",
    "            \n",
    "            It is valid only for homogenoes elements in the list otherwise it will throw an error in Pyton 3.x but in Python 2.x it was able to sort both int and str\n",
    "            \n",
    "            l.sort(reverse=True)\n",
    "            \n",
    "    \n",
    "            x = [1,2,3,4]\n",
    "            y=x # how many list obejcts are there? There is only one, they are pointing to same object. By doing y=x we are aliasing. There are two reference objects pointing to same object. This is not recommended because change in one list will be affected to another reference variable.\n",
    "    \n",
    "    What if I want completely separate object?\n",
    "        Shallow Copy and \n",
    "        Deep Copy\n",
    "        How an we create a clone object?\n",
    "            1. By using slice operator.\n",
    "                \n",
    "                y = x[:]\n",
    "                \n",
    "                print(id(x), id(y)) # both will different addresses\n",
    "                \n",
    "            2. By using copy() method\n",
    "                 y = x.copy()\n",
    "                 \n",
    "                 \n",
    "        What is the difference between = operator and copy() method?\n",
    "        \n",
    "    \n",
    "    Mathematical operators for list objects:\n",
    "        \n",
    "        + and * operators can be used.\n",
    "        \n",
    "        1. + for concatenation and addition\n",
    "                a = [1,2,3]\n",
    "                b = [4,5,6]\n",
    "                c = a + b\n",
    "                c = a+40 # throws error, \n",
    "                c = a.extend(b) # output c is None because extend method doesn't return anything.\n",
    "\n",
    "\n",
    "    Comparing the List objects:\n",
    "        \n",
    "        l1 == l2\n",
    "        l1 != l2\n",
    "        \n",
    "        1. If you are comparing two list objects then the number of elements in each list must be equal.\n",
    "        2. The order should be same\n",
    "        3. The contents should be smae (including case, python is case sensitive) # you may get error or False as output\n",
    "        \n",
    "        \n",
    "        When you compare l1>l2 it will compare first elements only\n",
    "        \n",
    "    \n",
    "    Nested List:\n",
    "        A list inside a list:\n",
    "            emp = [['name1', 'age1', 'DOB1'], ['name2', 'age2', 'DOB2']]"
   ]
  },
  {
   "cell_type": "markdown",
   "id": "be555ead",
   "metadata": {},
   "source": [
    "## List Comprehensions"
   ]
  },
  {
   "cell_type": "markdown",
   "id": "d421aaf6",
   "metadata": {},
   "source": [
    "    Basic comprehesion:\n",
    "    \n",
    "        list = [expression for x in sequence]\n",
    "\n",
    "            l = [x*x for x in range(1,11)]\n",
    "\n",
    "            l = [x+x for x in range(1,11)]\n",
    "\n",
    "    \n",
    "    Conditional Comprehensions:\n",
    "        \n",
    "        list = [expression for s in sequence condition]\n",
    "        \n",
    "            l = [x+x for x in range(1,11) if x%2==0]\n",
    "            \n",
    "    Nested Cpmprehesion Lists\n",
    "        \n",
    "        words = 'the quick brown fox jumps over the lazy dog'.split()\n",
    "        \n",
    "        l = [[w.upper(), len(w)] for w in words]\n",
    "        \n",
    "        \n",
    "    Q. Write a program to display unique vowels present in the given word?\n",
    "    "
   ]
  },
  {
   "cell_type": "markdown",
   "id": "4ab37e82",
   "metadata": {},
   "source": [
    "## Tuple"
   ]
  },
  {
   "cell_type": "markdown",
   "id": "3a764e59",
   "metadata": {},
   "source": [
    "    The read only version of list is called Tuple. We cannot change its contents once we create it. It is immutable.\n",
    "    Insersion order is preserved\n",
    "    Heterogeneous objects are allowed\n",
    "    Duplicate objects are allowed\n",
    "    Index concept is applicable but only to read the elements\n",
    "    It is represented by oaranthesis ()\n",
    "    \n",
    "    If it is list square brackets are mandatory\n",
    "    Paranthesis is not mandatory it is optional\n",
    "        t = 10,20,30,40\n",
    "        print(t)\n",
    "        \n",
    "    t =(10) # it is not a tuple\n",
    "    t = (10,) # this is a tuple\n",
    "    \n",
    "    Tuple Creation:\n",
    "        1. t = () # creating empty tuple\n",
    "        2. t = (10,)\n",
    "        3. tuple() # using tuple fucntion to typecaste\n",
    "        \n",
    "    Accessing elements of tuple:\n",
    "        t[0]\n",
    "        t[1:4:1]\n",
    "        \n",
    "        t = ('sid') # each letter is itself treated as an object\n",
    "        \n",
    "    Tuple and Immutability\n",
    "        t=(10,20,30)\n",
    "        t[1] = 4 # throws error\n",
    "        \n",
    "        t1 = (1,2,3)\n",
    "        t2 = (4,5,6)\n",
    "        t3 = t1+t2 # content is not changed but you get a contents from both t1 and t2 in t3\n",
    "        \n",
    "        t4 = t1*3 # output is (1,2,3,1,2,3) \n",
    "        \n",
    "    \n",
    "    Important functions/method of tuple:\n",
    "        \n",
    "        1. len()\n",
    "        2. count()\n",
    "        3. index()\n",
    "        4. sorted() # tuple has no object/method called sort(). But after using sorted() it is stored in a list. Because tuple is immutable.\n",
    "            t = (1,2,3,1,2,3) \n",
    "\n",
    "            s = sorted(t) # output: [1, 1, 2, 2, 3, 3] \n",
    "            \n",
    "            s = t.sort() # will throw error\n",
    "            \n",
    "            To convert back to tuple\n",
    "            \n",
    "            t1 = tuple(s)\n",
    "        5. Revers sort\n",
    "            s = sorted(t, reverse=True)\n",
    "        6. min() and max()\n",
    "            It is applicable for list, tuple, set but doesn't work for string\n",
    "            Output is wrt to the unicode\n",
    "        7. cmp() \n",
    "            not available in python 3.x,\n",
    "\n",
    "    Comparision:\n",
    "        t1 = (10,20,30)\n",
    "        t2 = (40,50,60)\n",
    "        \n",
    "        print(t1<t2) # it will only compare the first elements in each tuple then gives the result. If the first elements are same then the comparision will go to the second element\n",
    "        \n",
    "        \n",
    "    Tuple packing and tuple unpacking\n",
    "        Packing\n",
    "            Packing  means grouping into single unit\n",
    "\n",
    "            a=10\n",
    "            b=20\n",
    "            c=30\n",
    "            d=40\n",
    "\n",
    "            t = a,b,c,d # this is called tuple packing\n",
    "            \n",
    "        Unpacking\n",
    "            un-packing the grouping\n",
    "            t=(10,20,30,40)\n",
    "            a,b,c,d = t\n",
    "            print('a=',a, 'b=',b,'c=',c,'d=',d)\n",
    "            \n",
    "        These methods are applicable to list also. Actually it is applicable for any sequence."
   ]
  },
  {
   "cell_type": "markdown",
   "id": "7bbf3513",
   "metadata": {},
   "source": [
    "## Tuple Comprehension"
   ]
  },
  {
   "cell_type": "markdown",
   "id": "e995f089",
   "metadata": {},
   "source": [
    "    l = (x*x for x in range(1,11))\n",
    "    \n",
    "    If you try to execute the above code the output will produce a generator object. Therefore tuple comprehension is not supported in Python.\n",
    "    \n",
    "    for x in l:\n",
    "        print(x)\n",
    "        \n",
    "    eval() # if input is (10,20,30) automatically eval() will identify as tuple\n",
    "    \n",
    "    \n",
    "    Difference between List and Tuple\n",
    "        List objects cannot be used as keys for the dictionary, tuples can be used as keys - to be discussed in further classes.\n",
    "        \n",
    "        "
   ]
  },
  {
   "cell_type": "markdown",
   "id": "b9ec5fff",
   "metadata": {},
   "source": [
    "## Set"
   ]
  },
  {
   "cell_type": "markdown",
   "id": "55c6a8de",
   "metadata": {},
   "source": [
    "    List and Set\n",
    "    in Set objects are stored based on hash value, this value is never going to be changed.\n",
    "    Order is not preserved. It is not based on insertion order.\n",
    "    s = {} by default it is dictionary, it is not set.\n",
    "    s = set() # we have to use empty set function\n",
    "    \n",
    "    Functions/methods in Set:\n",
    "        \n",
    "        s = {10,20,30}\n",
    "        \n",
    "        1. add()\n",
    "            s.add(new_element) # it will take only one argument\n",
    "            \n",
    "        2. update()\n",
    "            s.update(x) # it adds all elements in x. x can be a list. Single value will throw error because the argument must be iterable\n",
    "            \n",
    "            s.update(x,y,z) # each one is a different sequence\n",
    "            \n",
    "        3. copy()\n",
    "            s1 = s # same object two references\n",
    "            s1 = s.copy() # If you want different objects cloning is done using copy(). To create duplicate objects. If you wnt backup copy.\n",
    "            \n",
    "        4. pop()\n",
    "            To remove and return the element\n",
    "            \n",
    "        5. remove(element)\n",
    "            To remove the specified element\n",
    "            If you try to remove element which is not there then it will throw KeyError\n",
    "            \n",
    "        6. discard()\n",
    "            If the specified element is not available use discard(), it will not throw KeyError\n",
    "            \n",
    "        7. clear()\n",
    "            To remove all elements from the set\n",
    "            \n",
    "        \n",
    "    Mathematical Operations on Set:\n",
    "        \n",
    "        1. union()\n",
    "            s1.union(s2) or s1|s2\n",
    "            \n",
    "        2. intersection()\n",
    "            s1.intersection(s2) or s1&s2\n",
    "            \n",
    "        3. difference()\n",
    "            s1.difference(s2) or s1-s2 # the elements present in s1 but not in s2\n",
    "            \n",
    "        4. symmetric_difference()\n",
    "            s1.symmetric_difference(s2) or s1^s2 # excluding common objects\n",
    "            \n",
    "            \n",
    "    Membership operators:\n",
    "        \n",
    "        in and not in operator can be applied.\n",
    "        "
   ]
  },
  {
   "cell_type": "markdown",
   "id": "7140a40d",
   "metadata": {},
   "source": [
    "## Set Comprehesion"
   ]
  },
  {
   "cell_type": "markdown",
   "id": "ba5f4273",
   "metadata": {},
   "source": [
    "    s = {x*x for x in range(1,6)}\n",
    "    \n",
    "    Indexing and sclicing is not apllicable because order is not important in Set. Set object doesn't support indexing."
   ]
  },
  {
   "cell_type": "markdown",
   "id": "1e0aad4e",
   "metadata": {},
   "source": [
    "## Dictionary"
   ]
  },
  {
   "cell_type": "markdown",
   "id": "83106dc0",
   "metadata": {},
   "source": [
    "    List, Tuple, Set are used to hold only individual objects. But what if I require a group of obejcsts as key-value pair?\n",
    "    Then i need to go for Dictionary\n",
    "    \n",
    "    Duplicates are not allowed, but duplicate values are allowed\n",
    "    Heterogeneous keys as well as values are allowed\n",
    "    Dictionaries are dynamic, can grow, is mutable\n",
    "    Indexing and sclicing is not applicable\n",
    "    It has no order, or doesn't preserve order\n",
    "    \n",
    "    Create Dictionary object:\n",
    "        d = {}\n",
    "        \n",
    "        d = dict() # we can create using dict() function too.\n",
    "        \n",
    "        d[key] = value\n",
    "        \n",
    "    How to access the elements of the dictionary:\n",
    "        \n",
    "        We can access based on key. The corresponding value will be returned. If specified key is not available then key error will be thrown\n",
    "        \n",
    "        If the specified key is already available the old value will be replaced by new value.\n",
    "        \n",
    "        If you want to delete elements from the dictionary:\n",
    "            We can use del operator\n",
    "                del d[key] # if the specified key is already available then key and value both will be removed/deleted. If key is not available it will throw KeyError, therefore we need to check if key is available before deleting\n",
    "                \n",
    "        To delete all the key value pairs:\n",
    "        \n",
    "            d.clear() # this will clear all the keys and correspondinig values. It will return an empty set.\n",
    "            What if I did del d?\n",
    "                del d and d.clear() are both same?\n",
    "                Id del d is done then we can't use d anymore. It will be made available for garbage collection.\n",
    "                d.clear() it will return an empty object and you are still able to use this dictionary object.\n",
    "                To delete a particular entry\n",
    "                    del d[key]\n",
    "                    \n",
    "    Can we specify multiple values for single key?\n",
    "                d = {key : []}\n",
    "                d = {key : {,}}\n",
    "                d = {key : ()}\n",
    "                d = {key : {}}\n",
    "            \n",
    "            \n",
    "    Important functions/methods for dictionary:\n",
    "        1. dict() # to create empty dictionary\n",
    "            d.dict({}) # can be created this way too.\n",
    "            d = dict([(k1,v1),(k2,v2),(k3,v3)]) # this is list of tuples but we can create dictionary using the dict() function\n",
    "            d = dict(((k1,v1),(k2,v2),(k3,v3))) # this is also acceptable\n",
    "            d = dict({(k1,v1),(k2,v2),(k3,v3)}) # this is also possible\n",
    "            \n",
    "            d = dict({[k1,v1],[k2,v2],[k3,v3]}) # this is set of list objects, this is not possible. Internally/inside it has to be tuple only.\n",
    "            \n",
    "            d = dict((k1,v1),(k2,v2),(k3,v3)) # this will throw error, dict() takes only one argument. If it was tuple of tuples then it wouldn't throw error.\n",
    "        \n",
    "        2. len()\n",
    "        \n",
    "        3. get()\n",
    "            \n",
    "            It will return the value of the key\n",
    "            d.get(key) # if key is not there then it will return None\n",
    "            d.get(key, 'default value if no key') # two arguments\n",
    "            \n",
    "        4. pop()\n",
    "        \n",
    "            pop(key) # to remove the entry i.e. key and its corresponding value and it return the value\n",
    "            \n",
    "        5. popitem()\n",
    "        \n",
    "            One key-value will by default will be removed and the removed item will be returned. It wil randomly choose one key and remove it.\n",
    "            \n",
    "        6. keys()\n",
    "            \n",
    "            It will return all keys associated with the keys\n",
    "            \n",
    "        7. values()\n",
    "        \n",
    "            It will return all the values\n",
    "            \n",
    "        8. items()\n",
    "        \n",
    "            It will return a list of tuples, each tuple consists s key and a value. If you want both key and values then use item()\n",
    "            \n",
    "        9. copy()\n",
    "        \n",
    "            for cloning or to get a duplicate\n",
    "            \n",
    "        10. setdefault()\n",
    "        \n",
    "            d.setdefault(key,new_value) # if the key value if there then the existing value will be returned otherwise the new value will be added\n",
    "            \n",
    "        11. update()\n",
    "            \n",
    "            d.update(d1) # we can pass only one argument, i.e. a dictionary\n",
    "            \n",
    "            d.update([('k8','v8'),('k9','v9')])\n",
    "            \n",
    "            \n",
    "    Practice Questions\n",
    "        1. Write a program to take dictionary from the keyboard and print the sum of values\n",
    "            d = eval(input('Enter a dictionary: '))\n",
    "            s = sum(d.values())\n",
    "            print(s) # the dictionary has to be homogeneous\n",
    "            \n",
    "        2. Number of occurance of each letter present in the given string."
   ]
  },
  {
   "cell_type": "markdown",
   "id": "6f4e3645",
   "metadata": {},
   "source": [
    "## Dictionary Comprehension"
   ]
  },
  {
   "cell_type": "markdown",
   "id": "3121b9b6",
   "metadata": {},
   "source": [
    "    squares = {x:x*x for x in range(1,5)}\n",
    "    \n",
    "    Comprehension is applicable to Dictioanry also."
   ]
  },
  {
   "cell_type": "markdown",
   "id": "7b8c36dc",
   "metadata": {},
   "source": [
    "# Functions"
   ]
  },
  {
   "cell_type": "markdown",
   "id": "a11f2a21",
   "metadata": {},
   "source": [
    "    Code reusability\n",
    "    Method also we use but we also use this word in specific circumstances.\n",
    "    \n",
    "    Two types of functions:\n",
    "        1. Predefined functions or in-built functions\n",
    "        2. User defined functions\n",
    "        \n",
    "    How to declare user defined function?\n",
    "    \n",
    "        def wish():\n",
    "            ''' doc string, something about this function'''\n",
    "            \n",
    "            body\n",
    "            \n",
    "            return something\n",
    "            \n",
    "    Return statement is mandatory or optional?\n",
    "        It is optional\n",
    "        \n",
    "    Taking the arguments:\n",
    "        \n",
    "        def wish(name):\n",
    "            print('Good Morning', name)\n",
    "            \n",
    "        What is the difference between argument and parameter?\n",
    "            In general you can use both words interchangebly\n",
    "            \n",
    "    def function_name(parameters/arguments):\n",
    "    \n",
    "        some business logic\n",
    "        \n",
    "        return\n",
    "        \n",
    "        \n",
    "    In Python a function can return multiple values:\n",
    "        \n",
    "        if the returned values are s follows:\n",
    "            \n",
    "            return x,y,z\n",
    "            \n",
    "            then\n",
    "            \n",
    "            a,b,c = f() # the x is assigned to a, y to b and z to c.\n",
    "            \n",
    "            def s_s(a,b):\n",
    "    \n",
    "                s1 = a+b\n",
    "\n",
    "                s2 = a-b\n",
    "\n",
    "                return s1, s2\n",
    "\n",
    "                t = s_s(10,5)\n",
    "            \n",
    "            By default t here is tuple.\n",
    "            \n",
    "\n",
    "    Types of arguments:\n",
    "        \n",
    "        def f1(a,b):\n",
    "            body\n",
    "            \n",
    "        f1(10,20)\n",
    "        \n",
    "        a,b are formal argument, 10,20 are actual argument\n",
    "        \n",
    "        1. Positional Argument\n",
    "        2. Keywords Argument\n",
    "        3. Default Argument\n",
    "        4. Variable length Argument\n",
    "        \n",
    "        \n",
    "        1. Positional Arguments:\n",
    "            \n",
    "            def sub(a,b):\n",
    "                print(a-b)\n",
    "                \n",
    "            If I call sub(10,5), 10 will be assigend to a and 5 will be assigned to b. The arguments are assigend in the order.\n",
    "            The number arguments must be matched with the formal arguments. The number of arguments and order must match here.\n",
    "            By mistake if the number of arguments or order is changed then the results will be unexpected.\n",
    "            \n",
    "            \n",
    "        2. Keyword Arguments:\n",
    "            \n",
    "            def wish(name, msg):\n",
    "                print('Hello', name, msg)\n",
    "                \n",
    "            wish(name='sid', msg='GM') # here even if you change the order there won't be no difference in output.\n",
    "            Order is not important.\n",
    "            But number of arguments is important. You cannot enter more than formal argument.\n",
    "            \n",
    "            We can use both positional and keyword argument both together\n",
    "            \n",
    "            wish('sid', msg='GM') # this is going to work and will not throw error\n",
    "            \n",
    "            wish(msg='GM', 'sid') # this will throw error, positional arguments should be at the beginning then follwed by Keyword argument.\n",
    "            \n",
    "            \n",
    "        3. Default Argument:\n",
    "            \n",
    "            We can define the default argument values.\n",
    "            \n",
    "                def wish(msg, name='Guest')\n",
    "                \n",
    "                    print(f'Hello {name}') # if you did not pass any value, the default argument value will be taken.\n",
    "                    After default argument we should not take non-default argument, the default argument should be taken in the last.\n",
    "                    \n",
    "                    def wish(name='Guest', msg) # this one will throw error\n",
    "                    \n",
    "                    def (marks, age, name='guest', msg='GM'): # here the order is important i.e while declaring\n",
    "                        you can receive your argument here in your desired arder.\n",
    "                        \n",
    "                    def wish('sid', name='sid') # throws an error, name receives ne argument but wo were provided\n",
    "                        \n",
    "\n",
    "\n",
    "        4. Variable length Argument:\n",
    "            \n",
    "            def sum(*some_name):\n",
    "                result = 0\n",
    "                \n",
    "                for x in some_name:\n",
    "                    result = result + x\n",
    "                \n",
    "                print(result)\n",
    "                \n",
    "            Internally *some_name is a tuple\n",
    "            \n",
    "            \n",
    "            You can take positional argument as well as var-len argument, and there is no problem with the order.\n",
    "            \n",
    "            \n",
    "            def sum(name, *some_name): # This is valid\n",
    "                print()\n",
    "                \n",
    "            def sum(*some_name, name):\n",
    "                print()\n",
    "                \n",
    "            # This is valid in python too. But is is important to follow as a convention as sum(name='sid', 10,20,30,40)\n",
    "            \n",
    "                \n",
    "                \n",
    "            5. Keyword variable length argument:\n",
    "                kwargs\n",
    "                \n",
    "                def display(**kwargs): # **kwargs is in fact a dictionary\n",
    "                    print()\n",
    "                    \n",
    "                display(name='sid', brand1='rcb', color='pink')\n",
    "                display(name='sid', empid='123', desk='first', dept='IT')\n",
    "            "
   ]
  },
  {
   "cell_type": "markdown",
   "id": "bc2eaa57",
   "metadata": {},
   "source": [
    "### Types of Variable or Scope"
   ]
  },
  {
   "cell_type": "markdown",
   "id": "db58efe7",
   "metadata": {},
   "source": [
    "    Pyhton supports two types of variables:\n",
    "        1. Global variable\n",
    "        2. Local varible\n",
    "        \n",
    "        1. Global variable\n",
    "            Variable which is declared outside a function which is available for all functions in the module.\n",
    "\n",
    "            a=10\n",
    "\n",
    "            def f1():\n",
    "                print('f1: ',a)\n",
    "\n",
    "            def f2():\n",
    "                print('f2: ',a)\n",
    "\n",
    "\n",
    "        2. Local variable\n",
    "            \n",
    "            Varibales declared inside functions are called local varibale, and are available for that particular function.\n",
    "            def f1():\n",
    "                a =10\n",
    "                print('f1: ',a)\n",
    "\n",
    "            def f2():\n",
    "                print('f2: ',a) # throws error name is not defined, because a is local in f1\n",
    "            \n",
    "            \n",
    "    \n",
    "        a=10\n",
    "\n",
    "            def f1():\n",
    "                \n",
    "                a = 997\n",
    "                \n",
    "                print('f1: ',a) # here a=997, if a is not declared inside function then a would be equal to 10 i.e it would access global variable\n",
    "\n",
    "            def f2():\n",
    "                print('f2: ',a) # here a=10\n",
    "                \n",
    "           ################################################     \n",
    "            a=10\n",
    "\n",
    "            def f1():\n",
    "                global a # if we specify like this then it will take global varible a only\n",
    "                a=977\n",
    "                print('f1: ',a)\n",
    "\n",
    "            def f2():\n",
    "                print('f2: ',a) # now the global varibale is changed, a becomes 977\n",
    "                \n",
    "            ###################################################\n",
    "                \n",
    "            def f1():\n",
    "                   global a\n",
    "                   a = 97\n",
    "                   print('f1: ',a)\n",
    "\n",
    "            def f2():\n",
    "               print('f2: ',a) # now a is availble to f2 also. If you execute f2 first then it will throw error\n",
    "             \n",
    "             ###################################################\n",
    "             \n",
    "             a = 10\n",
    "             def f1():\n",
    "                   a = 97\n",
    "                   print('f1: ',a)\n",
    "                   print(globals()['a']) # output is 10\n",
    "                   \n",
    "            \n",
    "            #####################################################\n",
    "            \n",
    "            def f1():\n",
    "                a =10\n",
    "                global a\n",
    "                a=50\n",
    "                print(a) # this will throw an error, 'a' is assigned to before global declaration\n",
    "                \n",
    "        What is the purpose of global keyword?\n",
    "            1. To make global variable available to the function so that we can make required modification\n",
    "            2. \n",
    "            "
   ]
  },
  {
   "cell_type": "markdown",
   "id": "4ea0f4df",
   "metadata": {},
   "source": [
    "### Recursive Function"
   ]
  },
  {
   "cell_type": "markdown",
   "id": "8fcb5f44",
   "metadata": {},
   "source": [
    "    A fucntion that calls itself.\n",
    "        factorial(3) = 3 * factorial(2)\n",
    "        \n",
    "    1. Reduce the length of code and improves readability\n",
    "    2. Some problems can be solved efficiently\n",
    "        example: tower of hanoi\n",
    "        \n",
    "    \n",
    "    Factorial:\n",
    "        def factorial(n):\n",
    "            if n == 0:\n",
    "                result = 1\n",
    "            else:\n",
    "                result = n * factorial(n-1)\n",
    "                \n",
    "            return result"
   ]
  },
  {
   "cell_type": "markdown",
   "id": "14f0d8c4",
   "metadata": {},
   "source": [
    "### Anonymous Function"
   ]
  },
  {
   "cell_type": "markdown",
   "id": "9b3b349f",
   "metadata": {},
   "source": [
    "    Anonymous Functions:\n",
    "        \n",
    "        Means no name. That is we can declare a function without a name. It is called anonymous or nameless function.\n",
    "        It is used only if we have an instant use or one time use.\n",
    "        \n",
    "        def square(n):\n",
    "            return n*n\n",
    "            \n",
    "        nameless/anonymous function\n",
    "        \n",
    "            lambda input: expression\n",
    "            \n",
    "            lambda n: n*n # lambda is one of the 33 keywords in python\n",
    "            \n",
    "            we can also assign this function to variable name\n",
    "                s = lambda n: n*n\n",
    "                print(s(4))\n",
    "                \n",
    "                \n",
    "                s = lambda a,b: a if a>b else b"
   ]
  },
  {
   "cell_type": "markdown",
   "id": "90750c4d",
   "metadata": {},
   "source": [
    "### Function in a Function"
   ]
  },
  {
   "cell_type": "markdown",
   "id": "efc64dab",
   "metadata": {},
   "source": [
    "    Passing a function in a function:\n",
    "        It is possible and there is no problem\n",
    "        \n",
    "        \n",
    "    \n",
    "        We can pass a function as a argument and lambda expression is the best choice\n",
    "    \n",
    "            Examples:\n",
    "                \n",
    "                filter()\n",
    "                map()\n",
    "                reduce()\n",
    "                \n",
    "                These functions expect another function as argument.\n",
    "                \n",
    "                1. filter()\n",
    "                    \n",
    "                    If you want to filter only required things in the group then go for filter. We filter based on some condition.\n",
    "                    \n",
    "                    filter(function, sequence) # for every element it will apply the function. It is always like True or False\n",
    "                    \n",
    "                    def iseven(x):\n",
    "                        if x%2==0:\n",
    "                            return True\n",
    "                        else:\n",
    "                            return False\n",
    "                            \n",
    "                    l = [0,5,10,15,20,25,30]\n",
    "                    \n",
    "                    l1 = list(filter(iseven,l))\n",
    "                    \n",
    "                    print(l1)\n",
    "                    \n",
    "                    Using lambda function: # same thing as above but with less code\n",
    "                        \n",
    "                        l = [0,5,10,15,20,25,30]\n",
    "                    \n",
    "                        l1 = list(filter(lambda x:x%2==0,l))\n",
    "                        l2 = list(filter(lambda x:x%2!=0,l))\n",
    "                        print(l1)\n",
    "                        print(l2)\n",
    "                        \n",
    "\n",
    "                2. map()\n",
    "                \n",
    "                    If you apply map() then the function passed will be applied to each element in the sequence\n",
    "                        map(function, sequence) # the difference is filter() is True or False, here every element is applied with function\n",
    "                        \n",
    "                        l = [0,5,10,15,20,25,30]\n",
    "                        \n",
    "                        def double(x):\n",
    "                            return 2*x\n",
    "                            \n",
    "                        l1 = list(map(double,l))\n",
    "                        print(l1)\n",
    "                        \n",
    "                        \n",
    "                    Using lambda\n",
    "                    \n",
    "                        l = [0,5,10,15,20,25,30]\n",
    "                        \n",
    "                            \n",
    "                        l1 = list(map(lambda x:2*x,l))\n",
    "                        print(l1)\n",
    "                        \n",
    "                        \n",
    "                        l1 = [0,5,10,15,20,25,30]\n",
    "                        l2 = [0,5,10,15,20,25,30]\n",
    "                        l3 = list(map(lambda x,y:x*y,l1, l2))\n",
    "                        print(l3)\n",
    "                        \n",
    "                        l1 = [0,5,10,15]\n",
    "                        l2 = [0,5,10,15,20,25,30]\n",
    "                        l3 = list(map(lambda x,y:x*y,l1, l2))\n",
    "                        print(l3) # output will be for only first 4 elements, it doesn't throw any error\n",
    "\n",
    "\n",
    "                3. reduce()\n",
    "                \n",
    "                    reduce(function, sequence)\n",
    "                    \n",
    "                    The sequence will be reduced to single value or something like that. The result will be reduced to only one value based on our input/specified function.\n",
    "                    \n",
    "                    l = [10,20,30,40,50]\n",
    "                    \n",
    "                    result = reduce(lambda x,y: x+y, l)\n",
    "                    \n",
    "                    print(result) # this throws an erro? Why? This is because the reduce() by default is not available in Python.\n",
    "                    \n",
    "                    functools: We need to import this module then we can use reduce()\n",
    "                    \n",
    "                    from functools import * # need to import\n",
    "\n",
    "                    l = [10,20,30,40,50]\n",
    "\n",
    "                    result = reduce(lambda x,y: x+y, l)\n",
    "\n",
    "                    print(result)\n",
    "                    \n"
   ]
  },
  {
   "cell_type": "markdown",
   "id": "7e212bfa",
   "metadata": {},
   "source": [
    "### Function aliasing"
   ]
  },
  {
   "cell_type": "markdown",
   "id": "7dae7c4e",
   "metadata": {},
   "source": [
    "    Everything in Python is treated as object.\n",
    "    \n",
    "    Function aliasing\n",
    "        def f1():\n",
    "            print('hello')\n",
    "            \n",
    "        hello2 = f1 # this is function aliasing, both the functions are pointing the same funtion\n",
    "        \n",
    "        \n",
    "        del f1 # name is deleten, hello2 still works, it is still pointing to the function"
   ]
  },
  {
   "cell_type": "markdown",
   "id": "25e52a02",
   "metadata": {},
   "source": [
    "### Nested Functions"
   ]
  },
  {
   "cell_type": "markdown",
   "id": "dc495ea8",
   "metadata": {},
   "source": [
    "    def outer():\n",
    "        print('Outer')    \n",
    "        def inner():\n",
    "            print('Inner')        \n",
    "        inner()        \n",
    "    outer()\n",
    "    \n",
    "    Where do we have such requirements?\n",
    "        If a group of statements repeatedly required inside a function then we need a nested funtion.\n",
    "        The functons defined inside a function can be called only inside that function, outside it you cannot call.\n",
    "        outer().inner() and outer.inner() # this is not possible, it will throw errors\n",
    "        \n",
    "        If the f1 function is only to be used inside f then why define it outside f?\n",
    "            It is therefore advisiable to use it inside f only\n",
    "            \n",
    "                def f():\n",
    "                    def f1():\n",
    "                        print()\n",
    "                        \n",
    "                    f1()\n",
    "                    .........\n",
    "                    ..........\n",
    "                    .........\n",
    "                    ........\n",
    "                    f1()\n",
    "                    .....\n",
    "                    f1()"
   ]
  },
  {
   "cell_type": "markdown",
   "id": "f2bdb273",
   "metadata": {},
   "source": [
    "### Function returning another function"
   ]
  },
  {
   "cell_type": "markdown",
   "id": "76be18ba",
   "metadata": {},
   "source": [
    "    def outer():\n",
    "        print('outer')\n",
    "        \n",
    "        def inner():\n",
    "            print('inner')\n",
    "            \n",
    "        print('returning inner')\n",
    "        \n",
    "        return inner\n",
    "        \n",
    "        \n",
    "    You can also return a function\n",
    "    \n",
    "    f = outer() # now the inner function is assigned to f. i.e. outer function returns inner()\n",
    "    \n",
    "    f() # output is 'inner'\n",
    "    \n",
    "    f = outer() # this is function call, returns something\n",
    "    f = outer # you are creating another aliasing"
   ]
  },
  {
   "cell_type": "markdown",
   "id": "17f07265",
   "metadata": {},
   "source": [
    "### Function Decorator"
   ]
  },
  {
   "cell_type": "markdown",
   "id": "fc687c29",
   "metadata": {},
   "source": [
    "    The input function is retured with an extended functionality using a decorator function.\n",
    "    \n",
    "    How is it done?\n",
    "    \n",
    "    Decorators help our code make shorter and more pyhtonic\n",
    "    \n",
    "    For existing functionality if you want to add some functioality without changing the existing functionality.\n",
    "    \n",
    "    def decor(func):\n",
    "        def inner(name):\n",
    "            if name=='Sunny':\n",
    "                print(\"Hello\",name,\"Bad Morning\")\n",
    "            else:\n",
    "                func(name)\n",
    "        return inner\n",
    "    \n",
    "    @decor # whenever I call wish() by default it will execute decor()\n",
    "    def wish(name):\n",
    "        print(\"Hello\",name,\"Good Morning\")\n",
    "        \n",
    "            \n",
    "    wish('Sid')\n",
    "    wish('Ravi')\n",
    "    wish('Sunny')\n",
    "    \n",
    "    Can we call a function with or without decorator?\n",
    "        Yes, it is possible. We can have extended functionality with original functionality\n",
    "        \n",
    "        decorfunction = decor(wish)\n",
    "        \n",
    "    \n",
    "    Summary:\n",
    "        1. What is decorator?\n",
    "            A decorator is a function which can take another function and provide some output function with extended functionality.\n",
    "            \n",
    "        2. What is the purspose of decorator function?\n",
    "            Without modifying existing function I can extend its functionality.\n",
    "            \n",
    "        3. Expalain with example.\n",
    "            Te above example is sufficient.\n",
    "            \n",
    "    def smart_division(func):\n",
    "        def inner(a,b):\n",
    "            if b==0:\n",
    "                print(\"Can't divide with Zero\")\n",
    "                return \n",
    "            else:\n",
    "                return func(a,b)\n",
    "                \n",
    "        return inner\n",
    "    \n",
    "    @smart_division\n",
    "    def division(a,b):\n",
    "        return a/b\n",
    "        \n",
    "    \n",
    "    print(division(10,5))\n",
    "    print(division(10,2))\n",
    "    print(division(10,0)) # throws error, can the functionality be extended?\n",
    "        \n",
    "    \n",
    "    Decorator chaining?\n",
    "    \n",
    "        def decor(func):\n",
    "        def inner(name):\n",
    "            if name=='Sunny':\n",
    "                print(\"Hello\",name,\"Bad Morning\")\n",
    "            else:\n",
    "                func(name)\n",
    "        return inner\n",
    "        \n",
    "        def decor1(func):\n",
    "            def inner(name):\n",
    "                print(\"Second decor i.e decor1\")\n",
    "        \n",
    "        @decor1\n",
    "        @decor # which decorator is going to be executed? Order of execution: @decor and then @decor1\n",
    "        def wish(name):\n",
    "            print(\"Hello\",name,\"Good Morning\")\n",
    "\n",
    "\n",
    "        wish('Sid')\n",
    "        wish('Ravi')\n",
    "        wish('Sunny')\n",
    "        \n",
    "    Decorator from top to bottom. Execution from bottom to top.\n",
    "    \n",
    "    @decor2\n",
    "    @decor1\n",
    "    def f(a):\n",
    "        print('Hello') # f is an input function to decor1 and decor1 returns inner function which is input to decor2\n",
    "    "
   ]
  },
  {
   "cell_type": "markdown",
   "id": "e445711d",
   "metadata": {},
   "source": [
    "### Generators"
   ]
  },
  {
   "cell_type": "markdown",
   "id": "a543cad6",
   "metadata": {},
   "source": [
    "    l = [x*x for x in range(100000000000000000000000000000000000000000)]\n",
    "    \n",
    "    print(l)\n",
    "    \n",
    "    What will be the output? What happens to the memory?\n",
    "    \n",
    "    Immediately it will throw memory error. The reason is it is trying to hold large number of values.\n",
    "    \n",
    "    How much time we waited to execution?\n",
    "    \n",
    "    l = (x*x for x in range(100000000000000000000000000000000000000000))\n",
    "        This looks like a tuple but is not. Comprehension concept is not applicable to tuples.\n",
    "        print(type(l)) # output is <class 'generator'>\n",
    "    print(next(l))\n",
    "    print(next(l))\n",
    "    print(next(l))\n",
    "    print(next(l))\n",
    "    \n",
    "    for x in l:\n",
    "        print(x) # this will execute there will not be memory error problem. What is just happening?\n",
    "        \n",
    "    What is the difference?\n",
    "        We should always go for second approach.\n",
    "        \n",
    "        In the first case the objects will be created and internally stored in the memory.\n",
    "        \n",
    "        In the second case no object will be strored in the memory. Performance will be improved in the second case. It is recommended to go for second approach.\n",
    "        \n",
    "        This second concept is called generators.\n",
    "        \n",
    "    yield\n",
    "    \n",
    "    If you want to store then we have to go for data structures. If you don't want to store we can go for generators.\n",
    "    \n",
    "    \n",
    "    To genrate first n numbers:\n",
    "        \n",
    "        def first_n(num):\n",
    "            n = 1\n",
    "            while n <= num:\n",
    "                yield n\n",
    "                n += 1\n",
    "                \n",
    "        values = first_n(7)\n",
    "        \n",
    "    \n",
    "    To generate fibonacci numbers:\n",
    "        \n",
    "        def fib():\n",
    "            a,b = 0,1\n",
    "            \n",
    "            while True:\n",
    "                yield a\n",
    "                a,b = b, a+b\n",
    "                \n",
    "        f = fib()\n",
    "        \n",
    "        for n in f:\n",
    "            print(n)\n",
    "            \n",
    "    Advantages of Generator Function:\n",
    "        1. Easy to use\n",
    "        2. Memory utilization\n",
    "        3. Performance will be improved\n",
    "        4. Best suitable for reading data from large number of files\n",
    "        5. Web Scraping & Web Crawling (need to scrap and crawl huge number of sites and data)"
   ]
  },
  {
   "cell_type": "markdown",
   "id": "c51d8d60",
   "metadata": {},
   "source": [
    "# Modules"
   ]
  },
  {
   "cell_type": "markdown",
   "id": "0ee20905",
   "metadata": {},
   "source": [
    "    A group of functions and variables in one module.\n",
    "    A group of modules is Package.\n",
    "    A group of packages is Library.\n",
    "    \n",
    "    Advantages of Modules:\n",
    "        1. Code reusability\n",
    "        2. Readability will be improved\n",
    "        3. Maintainability \n",
    "        \n",
    "    How to access members of a module?\n",
    "        import module\n",
    "        modulename.x # accessing variable\n",
    "        modulename.function() # accessing functions\n",
    "        \n",
    "    __pychache__\n",
    "        This is a folder created automatically\n",
    "        For every module the compiled file - .pyc file will be created and stored in __pycache__ file.\n",
    "        \n",
    "    Creating aliasing when you import\n",
    "        import module as mod # mod is an alias name\n",
    "        Once we create alias name, we must use alias name, otherwise it will throw error.\n",
    "        \n",
    "    Is it possible to use variables and functions without using module name?\n",
    "        from module import variable1, varibale2, function1, function2\n",
    "        or\n",
    "        from module import *\n",
    "        Yes you can do it without using module name as module.variable1, module.function1, etc\n",
    "        \n",
    "    As we created alias name for module, we can create alias names for members too\n",
    "        from module import variable1 as v1, function1 as f1\n",
    "        \n",
    "    Ways to import:\n",
    "        1. import module\n",
    "        2. import module1, module2, module3\n",
    "        3. import module1 as m1, module2 as m2, module3 as m3\n",
    "        4. from module import member1\n",
    "        5. from module import member1, member2, member3, member4\n",
    "        6. from module import member1 as m\n",
    "        7. from module import *\n",
    "        \n",
    "    \n",
    "    Reloading module and dynamic module:\n",
    "    \n",
    "        That is if we wanted to modify? Will the module o=be imported once or does it load acutomatically any number of times?\n",
    "        \n",
    "        To do this there is a function called reload()\n",
    "            reload(module)\n",
    "            \n",
    "    Finding members of the module:\n",
    "        \n",
    "        Using dir() function\n",
    "        \n",
    "        dir() # it provides a list of all current module members\n",
    "        \n",
    "        dir(module_member_name) # gives you the specific members of the module"
   ]
  },
  {
   "cell_type": "markdown",
   "id": "d0f3d9d4",
   "metadata": {},
   "source": [
    "# __ name __ - a special variable"
   ]
  },
  {
   "cell_type": "markdown",
   "id": "d782e424",
   "metadata": {},
   "source": [
    "    This is a special variable.\n",
    "    \n",
    "    Whether a function/varibale is executed from a module directly or indirectly is know by using __name__ varibale.\n",
    "    \n",
    "    __name__ = __main__"
   ]
  },
  {
   "cell_type": "markdown",
   "id": "35f4b63a",
   "metadata": {},
   "source": [
    "# Working wiht math module"
   ]
  },
  {
   "cell_type": "markdown",
   "id": "0dca863d",
   "metadata": {},
   "source": [
    "    This module contains several math functions\n",
    "    \n",
    "    sqrt()\n",
    "    ceil()\n",
    "    floor()\n",
    "    sin()\n",
    "    tan()\n",
    "    pow()....\n",
    "    \n",
    "    Not import to discuss all the functions in this module because we engineers know most of the math operations."
   ]
  },
  {
   "cell_type": "markdown",
   "id": "bc979fcf",
   "metadata": {},
   "source": [
    "# random module"
   ]
  },
  {
   "cell_type": "markdown",
   "id": "4ad77c0c",
   "metadata": {},
   "source": [
    "    This module defines severl functions that gives random numbers.\n",
    "    \n",
    "    Games, OTPs, capcha, cryptography\n",
    "    \n",
    "    Functions available:\n",
    "        \n",
    "        1. random()\n",
    "            Between 0 and 1 not inclusive, some float value is output\n",
    "            \n",
    "        2. randint()\n",
    "            If you want to random numbers\n",
    "            randint(a,b) here a,b are inclusive\n",
    "            \n",
    "        3. uniform()\n",
    "            Returns float values between two values\n",
    "            uniform(a,b) between a, b generates float values, a,b are exclusive\n",
    "            \n",
    "        4. randrange()\n",
    "            randrange(start, stop, step)\n",
    "            start <= x < stop , step is optional and default value is 1.\n",
    "            \n",
    "        5. choice()\n",
    "            Suppose there is a list of some names\n",
    "            l = ['name1', 'name2', 'name3', 'name4', 'name5']\n",
    "            \n",
    "            It also works for tuple\n",
    "            \n",
    "            print(choice(l))"
   ]
  },
  {
   "cell_type": "markdown",
   "id": "18f17110",
   "metadata": {},
   "source": [
    "# Packages"
   ]
  },
  {
   "cell_type": "markdown",
   "id": "f8c544c3",
   "metadata": {},
   "source": [
    "    A group of related item.\n",
    "    It is an encapsulation mechanism to group related modules into a single unit. Any folder or directory is a package.\n",
    "    \n",
    "    This folder contains a special file called __init__\n",
    "    \n",
    "    If this file (__init__.py) is available then it is called a package.\n",
    "    \n",
    "    From python 3.3 onwards this file is not mandatory.\n",
    "    \n",
    "    A package can contain sub packages also.\n",
    "    \n",
    "    Advantages:\n",
    "        \n",
    "        1. Resolve naming conflicts\n",
    "        2. Identify components uniquely\n",
    "        3. Modularity improved\n",
    "        4. Readability and maintainability is improved\n",
    "        \n",
    "    __init__\n",
    "        To recognize as a package it was required in the folder."
   ]
  },
  {
   "cell_type": "markdown",
   "id": "cea3ef28",
   "metadata": {},
   "source": [
    "# Exception Handling"
   ]
  },
  {
   "cell_type": "markdown",
   "id": "9dac4344",
   "metadata": {},
   "source": [
    "    Types of errors:\n",
    "        1. Syntax Errors\n",
    "        2. Runtime Errors\n",
    "        \n",
    "    Exception handling talks about runtime error only.\n",
    "    \n",
    "    What is exception?\n",
    "        Something goes wrong and distrurbs the flow of program at runtime and program stops.\n",
    "        \n",
    "        An unwanted nad unexpected event that disturbs normal flow of the program.\n",
    "        \n",
    "        e.g:\n",
    "            ZeroDivisionError\n",
    "            TypeError\n",
    "            ValueError\n",
    "            FileNotFoundError\n",
    "            EOFError\n",
    "            \n",
    "    Exception hierarchy! later...\n",
    "    \n",
    "    It is highly recomended to handle the exceptions.\n",
    "    \n",
    "    Graceful termination of the program is the purpose of the Exception handling.\n",
    "    \n",
    "    What is the meaning of Exception Handling?\n",
    "        Defining alternative way to continue the rest of the program.\n",
    "        \n",
    "    \n",
    "    try:\n",
    "        read data from remote file locating at london\n",
    "    except FileNotFoundError:\n",
    "        use local file and continue rest of the program normally\n",
    "        \n",
    "    \n",
    "    1. What is exception?\n",
    "    2. What is the purpose of exception handling?\n",
    "    3. What is the meaning of exception handling?\n",
    "    \n",
    "    Default Exception Handling:\n",
    "        \n",
    "    Python Exception Hierarchy:\n",
    "        Every exception in Python is a child class of BaseException\n",
    "        Every Exception in Python is error\n",
    "        It is not necessary to remember the following things\n",
    "        \n",
    "                                        BaseException\n",
    "                                        \n",
    "            Exception  |  SystemExit  |  GeneratorExit  |  KeyBoardInterrupt\n",
    "            \n",
    "    AttributeError | ArthmaticError  | EOFError | NameError | LookupError | OSError | TypeError | ValueError\n",
    "                   |ZeroDivisionError|\n",
    "                   |                 |\n",
    "                   |                 | \n",
    "                   |\n",
    "                   |\n",
    "                   |\n",
    "                   |\n",
    "                   |\n",
    "                   \n",
    "    \n",
    "    Important Points:\n",
    "        1. Every Exception in Python is a class.\n",
    "        2. Every Exception in Python is Error\n",
    "        \n",
    "    \n",
    "    How to handle exceptions? Customized Exception Handling by using Try-Except:\n",
    "        The code which may raise an exception is called a Risky Code. Where we have alternative is called except block\n",
    "        \n",
    "        try:\n",
    "            Risky Code\n",
    "        except:\n",
    "            Handled Code\n",
    "            \n",
    "    Control Flow in Try-Except block:\n",
    "        \n",
    "        try:\n",
    "            statement- 1\n",
    "            statement- 2\n",
    "            statement- 3\n",
    "        except SomeError:\n",
    "            statement-4\n",
    "        statement- 5\n",
    "        \n",
    "        case 1: If there is no exception\n",
    "        case 2: If an exception raised at statement 2 and correspoinding except block matched\n",
    "        case 3: If exception raised at statement 2 and corresponding except block not matched. It is not graceful termination\n",
    "        case 4: If exception raised at statement 4? Exceptions doesn't raise only in Try block, exceptions are also raised in Except block too. But it is always abnormal termination.\n",
    "        \n",
    "    Important Points:\n",
    "        1. If within a Try block if anywhere exception is raised, immediately the control comes to Exception block. Control doesn't go back to Try block. And code below the line where exception arose also doesn't execute.\n",
    "        2. If any statement which is not part of Try block, raising an exception wil lead to always an abnormal termination\n",
    "        \n",
    "    \n",
    "    How to print exception information:\n",
    "        \n",
    "        try:\n",
    "            print(10/0)\n",
    "        except ZeroDivisonError as msg:\n",
    "            print('Exception raised and its description is, ', msg)\n",
    "            \n",
    "    Try with multiple Except blocks:\n",
    "        \n",
    "        try:\n",
    "            some risky code\n",
    "        except ZeroDivisionError:\n",
    "            perform alternative arthmetic operation\n",
    "        except FileNotFoundError:\n",
    "            use local file instead of remote file\n",
    "            \n",
    "    We need to use different except block for each kind of exception.\n",
    "    \n",
    "    Python interpretor reads code top to bottom. Therefore it reads except blocks from top to bottom.\n",
    "    \n",
    "    A single except block can handle multiple exceptions\n",
    "    \n",
    "    try:\n",
    "        some risky code\n",
    "    except (except 1, except 2, except 3, ...): # parenthesis are mandatory, internally it is tuple\n",
    "        handling code\n",
    "        \n",
    "    Default except block should be at last?\n",
    "        Yes it has to be at he last \n",
    "        \n",
    "    \n",
    "    In how many styles can we write Try Except?\n",
    "        1. except ZeroDivisonError:\n",
    "        2. except ZeroDivisonError as msg:\n",
    "        3. except (ZeroDivisonError, ValueError):\n",
    "        4. except (ZeroDivisonError, ValueError) as msg:\n",
    "        5. except:\n",
    "        \n",
    "    \n",
    "    Finally block:\n",
    "        \n",
    "        try:\n",
    "            open database connection\n",
    "            reading data\n",
    "        except:\n",
    "            some handling code\n",
    "        finally:\n",
    "            close database connection #exception raised or not this line will always be executed.\n",
    "            \n",
    "        \n",
    "        try:\n",
    "            risky code\n",
    "        except:\n",
    "            handling code\n",
    "        finally:\n",
    "            cleanup code\n",
    "            \n",
    "        Even if there is abnormal termination of program because of exception handling, try and finally block will execute and then the program will terminate abnormally. Finally block will be executed irrespective of whether excet block executes or not.\n",
    "        \n",
    "        \n",
    "    A scenario where finally block will not be executed:\n",
    "        os._exit(0) # if you execute this then finally block will not be executed\n",
    "        \n",
    "        try:\n",
    "            risky code\n",
    "            os._exit(0) # finally block doesn't execute. Can take os._exit(1), any status code\n",
    "        except:\n",
    "            handling code\n",
    "        finally:\n",
    "            cleanup code           "
   ]
  },
  {
   "cell_type": "markdown",
   "id": "c0284431",
   "metadata": {},
   "source": [
    "### Nested try-except-finally block"
   ]
  },
  {
   "cell_type": "markdown",
   "id": "5856924c",
   "metadata": {},
   "source": [
    "    try: # general risky code outside\n",
    "        .....\n",
    "        .....\n",
    "        try: # too much risky code take in here, i.e. inside\n",
    "            .....\n",
    "            .....\n",
    "        except:\n",
    "            .....\n",
    "            .....\n",
    "        .....\n",
    "        .....\n",
    "    except:\n",
    "        .....\n",
    "        .....\n",
    "   \n",
    "   ____________________________________________\n",
    "    \n",
    "    try:\n",
    "        print('outer')\n",
    "        try:\n",
    "            print('inner try block')\n",
    "            print(10/0)\n",
    "        except ZeroDivisionError:\n",
    "            print('inner except block')\n",
    "        finally:\n",
    "            print('inner finally block')\n",
    "    except:\n",
    "        print('outer except block')\n",
    "    finally:\n",
    "        print('outer finally block')\n",
    "        \n",
    "   ___________________________________________"
   ]
  },
  {
   "cell_type": "markdown",
   "id": "7272ea61",
   "metadata": {},
   "source": [
    "### Try-Except-Finally-Else"
   ]
  },
  {
   "cell_type": "markdown",
   "id": "21ffcf0d",
   "metadata": {},
   "source": [
    "    We can use else block with try-except-finally block.\n",
    "\n",
    "    If there is not exception I want to execute something.\n",
    "\n",
    "    What is the difference between Else block and Finally block.\n",
    "\n",
    "    try:\n",
    "        risky code\n",
    "    except:\n",
    "        will be executed if exception in try\n",
    "    else:\n",
    "        will be executed if no exception in try\n",
    "    finally:\n",
    "        will be executed always. Whether exception raised or not raised, handled or not handled.\n",
    "        \n",
    "    \n",
    "    Possible Combinations:\n",
    "        1. try block and compulsory except or finally must come\n",
    "        2. except without try is invalid\n",
    "        3. finally without try is invalid\n",
    "        4. We can take multiple except blocks fot the same try block but we cannot take multiple else and finally block\n",
    "        5. else without except is invalid\n",
    "        6. try-except-else-finally, order is important\n",
    "        7. We can take try-except-else-finally can be taken in try, except, else, finally bolcks. Nesting of try-except-else-finally is possible"
   ]
  },
  {
   "cell_type": "markdown",
   "id": "9712f52f",
   "metadata": {},
   "source": [
    "### Types of Exceptions"
   ]
  },
  {
   "cell_type": "markdown",
   "id": "0f78ce20",
   "metadata": {},
   "source": [
    "    1. Predefined Exceptions or In Built exceptions\n",
    "    2. User defined exceptions or customised exceptions\n",
    "    \n",
    "    \n",
    "    1. Predefined Exceptions or In Built exceptions\n",
    "        Whenever exceptions are raised automatically by Python whenever an event occurs.\n",
    "        \n",
    "    2. User defined exceptions or customised exceptions\n",
    "        Based on our programming requirement we are developin these exceptions\n",
    "        \n",
    "        \n",
    "    How to define and raise coustomized exceptions?\n",
    "        Every exception in Python is a class."
   ]
  },
  {
   "cell_type": "markdown",
   "id": "c5422066",
   "metadata": {},
   "source": [
    "# Logging"
   ]
  },
  {
   "cell_type": "markdown",
   "id": "1d59df89",
   "metadata": {},
   "source": [
    "    What is the meaning of logging?\n",
    "    \n",
    "    Log book in Lab classes\n",
    "        What are the advantages of writing a log?\n",
    "            1. Track\n",
    "            \n",
    "    Here in computer programming we say it as Log File:\n",
    "        Track\n",
    "        Used for Debugging purpose too\n",
    "        We can provide statistics information\n",
    "    \n",
    "    To implement logging Python has an inbuilt module called- logging.\n",
    "    \n",
    "    6 levels of logging:\n",
    "        1. CRITICAL 50\n",
    "        2. ERROR 40\n",
    "        3. WARNING 30\n",
    "        4. INFO 20\n",
    "        5. DEBUG 10\n",
    "        6. NOTSET 0\n",
    "        \n",
    "        These above things are knows as logging priority.\n",
    "        \n",
    "    \n",
    "    How to implement logging?\n",
    "        1. Name of the file\n",
    "        2. Level of messages\n",
    "        \n",
    "        Can do this by using basicConfig() function o flogging module\n",
    "        \n",
    "        logging.basicConfig(filename='lof.txt', level=logging.WARNING)\n",
    "        \n",
    "        If log file is not availbale it will be created automatically.\n",
    "        \n",
    "        logging.debug(message)\n",
    "        logging.info(message)\n",
    "        logging.warning(message)\n",
    "        logging.error(message)\n",
    "        logging.critical(message)\n",
    "        \n",
    "    \n",
    "    When do we need to write logging file?\n",
    "        How do you store exception information to the log file?\n",
    "        "
   ]
  },
  {
   "cell_type": "markdown",
   "id": "51b47726",
   "metadata": {},
   "source": [
    "### Debugging    "
   ]
  },
  {
   "cell_type": "markdown",
   "id": "23dd8ae2",
   "metadata": {},
   "source": [
    "    Bug: Mismatch between expected results and actual results\n",
    "    \n",
    "    Debugging is the responsibility of developers not testers\n",
    "    \n",
    "    How do you perform debugging?\n",
    "            Most of the times we use print() statement\n",
    "            \n",
    "            assert statement\n",
    "                Used for debugging\n",
    "                \n",
    "    Types of assert statement\n",
    "        1. Simple Version\n",
    "            assert conditional expression \n",
    "        2. Very Simple Version (Augmented Version)\n",
    "            assert conditional expression with a message\n",
    "            \n",
    "    \n",
    "    >>> py -O test.py # assert statements in this file will not be executed.\n",
    "    \n",
    "    The biggest advantage over print() statements is that we can leave assert statements there without removing them. Had we used print() statements we should have removed which would be double work and if left it could hamper the performance.\n",
    "        \n",
    "        Difference between Exception Handling and Assertion:\n",
    "            Assertions:\n",
    "                To alert programmers to resolve development time error\n",
    "            Exceptions:\n",
    "                To alert runtime errors"
   ]
  },
  {
   "cell_type": "markdown",
   "id": "2fad89eb",
   "metadata": {},
   "source": [
    "# File Handling"
   ]
  },
  {
   "cell_type": "markdown",
   "id": "087ad432",
   "metadata": {},
   "source": [
    "    As a programmer it is highly required to store a data for future use.\n",
    "    \n",
    "    If we have a very small info to store then we go for file.\n",
    "    \n",
    "    Huge amount (that is in lakhs of customers) to go for database concept.\n",
    "    \n",
    "    Very huge amount we go for big data.\n",
    "    \n",
    "    Types of files:\n",
    "        1. Text files\n",
    "        2. Binary files\n",
    "        \n",
    "    \n",
    "    Opening a file:\n",
    "        If we want to write a data first we need to open a file.\n",
    "        \n",
    "        To open there is a python in-built function open()\n",
    "        \n",
    "        f = open(filename, mode)\n",
    "        \n",
    "        f = open('abc.txt','r')\n",
    "        \n",
    "        allowed modes in python are :\n",
    "        \n",
    "            1. r -- open an existing file for read operation. It is default mode. If there is no file it will throw error.\n",
    "            \n",
    "            2. w -- open a existing file for write operation. If file is not available it will create file. It overides existing data.\n",
    "            \n",
    "            3. a -- if file has data already then new data will be appended.\n",
    "            \n",
    "            4. r+ -- read and write data. Previous file/data will not be deleted.\n",
    "            \n",
    "            5. w+ -- write and read. It will override existing data and then can be read.\n",
    "            \n",
    "            6. a+ -- to append and read. It will not override existing data.\n",
    "            \n",
    "            7. x -- to open file in exclusive creation mode in write operation\n",
    "                File should not be available otherwise it will throw FileExixtsError.\n",
    "                \n",
    "            All these seven-7 modes are applicable for text files.\n",
    "            \n",
    "    If you want to work with images then suffix the above modes with b.\n",
    "        rb, wb, r+b, w+b, xb, ab, a+b\n",
    "                \n",
    "        \n",
    "    Closing file:\n",
    "        After completing the operation, we need to close the file. It is higly recommended.\n",
    "\n",
    "        f.close()\n",
    "\n",
    "        This helps in releasing resources allocated to work with files.\n",
    "\n",
    "\n",
    "    Various properties of the file object.\n",
    "        \n",
    "        f.name\n",
    "        f.mode\n",
    "        f.closed\n",
    "        \n",
    "        these all are variable names only. They are not methods.\n",
    "        \n",
    "        f.readable() # this is a method.\n",
    "        f.writable()\n",
    "    \n",
    "    \n",
    "    Writing data to text files:\n",
    "        \n",
    "        f.write(string)\n",
    "        \n",
    "        f.writelines(list of lines)\n",
    "        \n",
    "    Reading character data from the file:\n",
    "        \n",
    "        read() -- to read total data from the file\n",
    "        read(n) -- to read n characters from the file\n",
    "        readline() -- to read only one line\n",
    "        readlines() -- to read all lines into a list \n",
    "        \n",
    "    \n",
    "    The with-statement:\n",
    "        \n",
    "        What is the advantge of with statement.\n",
    "        We can group a block of statements inside the with block.\n",
    "        \n",
    "        with open('abcd.txt', 'w') as f:\n",
    "    \n",
    "            f.write('Python\\n')\n",
    "            f.write('is\\n')\n",
    "            f.write('the\\n')\n",
    "            f.write('coolest\\n')\n",
    "            f.write('thing\\n')\n",
    "            print('is the file closed: ', f.closed)\n",
    "\n",
    "        print('is the file closed: ', f.closed)\n",
    "        \n",
    "    tell():\n",
    "        This method will always tell the current position of the first character.\n",
    "        \n",
    "    seek():\n",
    "        Seeking the cursor to a specified location.\n",
    "        \n",
    "        f.seek(offset, from_where) # this syntax is valind in Python 2.x not in Python 3.x\n",
    "        \n",
    "        f.seek(offset) # this is valid in Pyton 3.x \n",
    "        \n",
    "    \n",
    "    How to check if particular file exists or not?\n",
    "        use os library\n",
    "        \n",
    "        path is the submodule name. It contains isfile() function to check if particular file available or not.\n",
    "            os.path.isfile(filename)\n",
    "            \n",
    "    Handling binary files:\n",
    "        Image and Videos"
   ]
  },
  {
   "cell_type": "markdown",
   "id": "d9d1f2e2",
   "metadata": {},
   "source": [
    "# Handling CSV Files"
   ]
  },
  {
   "cell_type": "markdown",
   "id": "ebe6154a",
   "metadata": {},
   "source": [
    "    Python has csv module.\n",
    "    \n",
    "    To write data:\n",
    "        import csv\n",
    "\n",
    "        with open(\"emp.csv\", 'w', newline='') as f:\n",
    "            w = csv.writer(f) # return wroter object pointing to f\n",
    "            w.writerow([\"ENO\",\"ENAME\",\"ESAL\",\"EADDR\"])\n",
    "            n = int(input(\"Enter Number of Employees: \"))\n",
    "            for i in range(n):\n",
    "                eno = int(input(\"Employee NUmber: \"))\n",
    "                ename = input(\"Employee Name: \")\n",
    "                esal = float(input(\"Employee Salary\"))\n",
    "                eaddr = input(\"Employee Address: \")\n",
    "                w.writerow([eno,ename,esal,eaddr])\n",
    "\n",
    "        print(\"Entries saved successfully\")\n",
    "        \n",
    "    \n",
    "    To read data:\n",
    "        import csv\n",
    "        \n",
    "        f = open(\"emp.csv\",'r')\n",
    "        r = csv.reader(f) # returns reader object\n",
    "        data = list(r)\n",
    "        print(type(data))\n",
    "        \n",
    "        ___________________________________________\n",
    "        \n",
    "        import csv\n",
    "        \n",
    "        f = open(\"emp.csv\",'r')\n",
    "        r = csv.reader(f) # returns reader object\n",
    "        data = list(r)\n",
    "        for line in data:\n",
    "            for word in line:\n",
    "                print(word, \"\\t\",\"\\t\", end='') \n",
    "            print()"
   ]
  },
  {
   "cell_type": "markdown",
   "id": "c07e94ef",
   "metadata": {},
   "source": [
    "# Zipping and Unzipping Files"
   ]
  },
  {
   "cell_type": "markdown",
   "id": "bec8acc1",
   "metadata": {},
   "source": [
    "    Advantages:\n",
    "        1. Memory utilization will be improved\n",
    "        2. Transportation time will be improved\n",
    "        3. Improve performance of the application\n",
    "        \n",
    "    Python inbuilt module - zipfile\n",
    "    \n",
    "    ZipFile is a class name\n",
    "    \n",
    "    f = ZipFile(\"files.zip\", \"w\", \"ZIP_DEFLATED\") # third argument is optional\n",
    "    f.write(filename1)\n",
    "    f.write(filename2)\n",
    "    f.write(filename3)\n",
    "    \n",
    "    \n",
    "    from zipfile import *\n",
    "    \n",
    "    f = ZipFile(\"files.zip\", \"w\", \"ZIP_DEFLATED\")\n",
    "    f.write(\"file1.txt\")\n",
    "    f.write(\"file2.txt\")\n",
    "    f.write(\"file3.txt\")\n",
    "    f.close()\n",
    "    print(\"zip file created successfully.\")\n",
    "    \n",
    "    \n",
    "    Unzip operation:\n",
    "        f = ZipFile(\"files.zip\", \"r\", \"ZIP_STORED\") # you can remove the constant i.e ZIP_STORED. It is default value.\n",
    "        name = f.namelist()\n",
    "        \n",
    "        for name in names:\n",
    "            print(\"File name: \", name)\n",
    "            print(\"The content of the file is: \")\n",
    "            f1 = open(name, 'r')\n",
    "            print(f2.read())\n",
    "            print()"
   ]
  },
  {
   "cell_type": "markdown",
   "id": "3e1229b6",
   "metadata": {},
   "source": [
    "# Working with Directory"
   ]
  },
  {
   "cell_type": "markdown",
   "id": "954243c1",
   "metadata": {},
   "source": [
    "    1. To know current working directory\n",
    "    \n",
    "        os.getcwd()\n",
    "    \n",
    "    2. To create a sub directory in current working directory\n",
    "    \n",
    "        os.mkdir(\"file_name\")\n",
    "    \n",
    "    3. Sub sub directory\n",
    "        \n",
    "        os.mkdir(\"file_name1/file_name2\")\n",
    "    \n",
    "    4. To create multiple sub directories\n",
    "    \n",
    "        os.makedirs(\"sub1/sub2/sub3/sub4\")\n",
    "    \n",
    "    5. To remove a directory\n",
    "    \n",
    "        os.rmdir(\"filename\") # it will throw error if there is sub-directory\n",
    "        \n",
    "    6. To remove all directories\n",
    "        \n",
    "        os.removedirs(\"sub1/sub2/sub3/sub4\")\n",
    "    \n",
    "    7. To rename a folder/directory\n",
    "        \n",
    "        os.rename(\"old_name\", \"new_name\")\n",
    "        \n",
    "    8. To know the contents of the directory\n",
    "        \n",
    "        os.listdir() # it lists contents of the current directory and not the sub-directories\n",
    "        \n",
    "    9. Contents of directory and sub directories\n",
    "    \n",
    "        os.walk(path, topdown=True, onerror=None, followlinks=False)\n",
    "        "
   ]
  },
  {
   "cell_type": "markdown",
   "id": "5bef55c3",
   "metadata": {},
   "source": [
    "### os modules"
   ]
  },
  {
   "cell_type": "markdown",
   "id": "535830db",
   "metadata": {},
   "source": [
    "    system()\n",
    "        \n",
    "        os.system(\"command string\")\n",
    "    \n",
    "    How to get information about the file?\n",
    "        st_mode # bits\n",
    "        st_ino # i node number\n",
    "        st_dev # device\n",
    "        st_nlink # hard links available\n",
    "        st-uid # user id\n",
    "        st_gid # group id\n",
    "        st_size # size of file\n",
    "        st_atime # last accessed time\n",
    "        st_mtime # last modified time\n",
    "        st_ctime # last time meta data changed\n",
    "        \n",
    "        all these are statistics of a file\n",
    "        \n",
    "        stats = os.stat(\"abc.txt\")\n",
    "        "
   ]
  },
  {
   "cell_type": "markdown",
   "id": "0f2f69b4",
   "metadata": {},
   "source": [
    "# Pickling & Unpickling of Objects"
   ]
  },
  {
   "cell_type": "markdown",
   "id": "6736a581",
   "metadata": {},
   "source": [
    "    The values of instance varibale are considered as 'state of object'\n",
    "    \n",
    "    Pickling:\n",
    "        The process of writing 'state of obejct' to a file is called pickling. In other languages it called \"Serialization\".\n",
    "        \n",
    "    Unpickling:\n",
    "        The process of reading 'state of object' from a file is called unpickling. In other languanges it is \"Deserialization\"\n",
    "        \n",
    "    \n",
    "    dump()\n",
    "        Pickle module contains dump() method. It is used for pickling.\n",
    "        \n",
    "        pickle.dump(object, file)\n",
    "    \n",
    "    load()\n",
    "        Load is used for unpickling purpose\n",
    "        \n",
    "        pickle.load(file)\n",
    "        \n",
    "    Why do you need pickling and unpickling:\n",
    "        If you require object data multiple times in the future, it is important to save it permanently.\n",
    "        \n",
    "        \n",
    "        import pickle\n",
    "\n",
    "        class Employee:\n",
    "            def __init__(self, eno,ename,esal,eaddr):\n",
    "                self.eno = eno\n",
    "                self.ename = ename\n",
    "                self.esal = esal\n",
    "                self.eaddr = eaddr\n",
    "\n",
    "            def display(self):\n",
    "                print(self.eno, \"\\t\", self.ename, \"\\t\", self.esal, \"\\t\", self.eaddr)\n",
    "\n",
    "        with open(\"emp.dat\", \"wb\") as f:\n",
    "            e = Employee(100, \"Sid\", 1000, \"Bangalore\")\n",
    "            pickle.dump(e,f)\n",
    "            print(\"Pickling of employee object completed...\")\n",
    "\n",
    "        with open(\"emp.dat\", \"rb\") as f:\n",
    "            obj = pickle.load(f)\n",
    "            print(\"Employee information after unpickling\")\n",
    "            obj.display()\n",
    "            print(obj)"
   ]
  },
  {
   "cell_type": "markdown",
   "id": "562db4e2",
   "metadata": {},
   "source": [
    "# OOPs"
   ]
  },
  {
   "cell_type": "markdown",
   "id": "71f1fc7e",
   "metadata": {},
   "source": [
    "    1. class - it is kind of blue print for required thing\n",
    "    2. object - physical existance of a class is an object\n",
    "    3. reference vaiable - variable used to refer object is called reference variable. It is used to access or operate objects\n",
    "    \n",
    "    Define/create a class:\n",
    "        \n",
    "        data (variables/state)\n",
    "        methods(behaviour)\n",
    "        \n",
    "        class Account:\n",
    "            data\n",
    "            methods\n",
    "            \n",
    "        class Student:\n",
    "            pass\n",
    "        \n",
    "    To create and object:\n",
    "\n",
    "        s = Student()\n",
    "    \n",
    "    To create methods:\n",
    "        \n",
    "        class Student:            \n",
    "            def read(self): # minimum argument is one i.e. self\n",
    "                print(\"Reading Python....\")\n",
    "                \n",
    "    \n",
    "    Constructor:\n",
    "        What is its purpose?\n",
    "            To perform initialization of an object. It means to provide value for \n",
    "    \n",
    "    Within the class we can access instance-variable only by using \n",
    "    \n",
    "    \n",
    "    What are the types of variable that can be declared inside a class?\n",
    "        We can have three types of variables:\n",
    "            1. Static variables\n",
    "            2. Non-static variable\n",
    "            3. Local Variable\n",
    "        \n",
    "        And three types of methods:\n",
    "            1. Static methods\n",
    "            2. Non-static methods\n",
    "            3. Class methods\n",
    "        \n",
    "        class Student:\n",
    "            class_name = \"Bright\" # static variable, memory management by default will be improved. I fwe make any change to this variable it will affect to all the objects of this class. But if we change this variable using an object then the in the original\n",
    "            \n",
    "        \n",
    "        class level variables means static variable.\n",
    "        instance variables or object level variable\n",
    "        \n",
    "    \n",
    "    If a function is declared inside a class is called a function.\n",
    "    \n",
    "    class ClassName:\n",
    "        ''' Document String '''\n",
    "        variables: instance variables, static variables and local variables\n",
    "        methods: instance methods, class methods, static methods\n",
    "        \n",
    "    \n",
    "    to print doc string:\n",
    "        \n",
    "        print(classname.__doc__)\n",
    "        help(classname)\n",
    "        print(objectreference.__doc__)\n",
    "        \n",
    "    \n",
    "    class Student:\n",
    "        def __init__(self):\n",
    "            self.name = \"Sid\"\n",
    "            self.rollnumber = 100\n",
    "            self.marks = 100\n",
    "        \n",
    "        def talk(self):\n",
    "            print(\"My name is \", self.name)\n",
    "            print(\"My roll number is \", self.rollnumber)\n",
    "            print(\"My marks is \", self.marks)\n",
    "    \n",
    "        if any method with name __init__ it is called constructor. The first argument is always self. It can be anything but as a good programming convention we use \"self\"\n",
    "        \n",
    "        What ever variables we declare inside a constructor these variables are called instance variables. Variables declared inside methods are also called instance variables. We can access instance variable using self keyword\n",
    "        \n",
    "        If you don't write a constructor, by default the python will create a contructor\n",
    "        \n",
    "    What is syntax to create an object?\n",
    "        Physical existance of a class is an object. From blueprint to phhysical object.\n",
    "        \n",
    "        reference_variable = ClassName()\n",
    "        \n",
    "        By using this reference variable we can access properties, methods, etc.\n",
    "        \n",
    "        s = Student() # creating an object\n",
    "        \n",
    "        s.name # accessgin properties\n",
    "        s.rollnumber\n",
    "        s.marks\n",
    "        s.talk() # calling/accessing a method"
   ]
  },
  {
   "cell_type": "markdown",
   "id": "d8ab0185",
   "metadata": {},
   "source": [
    "### self"
   ]
  },
  {
   "cell_type": "markdown",
   "id": "5b6f265d",
   "metadata": {},
   "source": [
    "    To access instance variable inside a class we use self varibale.\n",
    "    \n",
    "    It is a reference variable to current object.\n",
    "    \n",
    "    We can access instance variable and instance method\n",
    "    \n",
    "    self is not a keyword. self is a universally accepted convention.\n",
    "    \n",
    "    It should be the first paramater inside the constructor.\n",
    "    \n",
    "    self should be first paramater inside instance method. The name is not special but the position is special."
   ]
  },
  {
   "cell_type": "markdown",
   "id": "e0cf781f",
   "metadata": {},
   "source": [
    "### Constructor"
   ]
  },
  {
   "cell_type": "markdown",
   "id": "237e7bb2",
   "metadata": {},
   "source": [
    "    It is a special method\n",
    "    \n",
    "    The name should be __init__\n",
    "    \n",
    "    Is it required to call or will it execute automatically?\n",
    "        It will be executed automatically when ever we are crreating object.\n",
    "        \n",
    "    Per object how many time the constructor will be executed?\n",
    "        Only once.\n",
    "        \n",
    "    What is the purpose?\n",
    "        To declare and initialize instance variable of an object\n",
    "        \n",
    "    Constructor can take how many arguments?\n",
    "        It takes atleast one argument. And any number of arguments.\n",
    "        \n",
    "    Is constructor mandatory or optional?\n",
    "        It is optional. The reason is, if you don't have constructor then python will provide default constructor."
   ]
  },
  {
   "cell_type": "markdown",
   "id": "25eea69e",
   "metadata": {},
   "source": [
    "### Difference between Method and Constructor"
   ]
  },
  {
   "cell_type": "markdown",
   "id": "1dd5d1f4",
   "metadata": {},
   "source": [
    "                   Method                  |            Constructor\n",
    "          -------------------------------------------------------------\n",
    "          1. Any name can be given         | 1. It has to be __init__\n",
    "                                           |\n",
    "          2. It executes on if called      | 2. It executes automatically whenever \n",
    "                                           |       we create an object\n",
    "                                           |\n",
    "          3. Per object method can be      | 3. Per object constructor will be executed only once\n",
    "              called any number of times   |\n",
    "                                           |\n",
    "          4. Inside method we can write    | 4. We declare and initialize instance variables\n",
    "              business logic               |"
   ]
  },
  {
   "cell_type": "markdown",
   "id": "ff5945b6",
   "metadata": {},
   "source": [
    "### Types of variables"
   ]
  },
  {
   "cell_type": "markdown",
   "id": "171ca9a6",
   "metadata": {},
   "source": [
    "    Types:\n",
    "        1. Instance varibale # instance means object related\n",
    "        2. Static varibale # something like class level variables\n",
    "        3. Local variables\n",
    "\n",
    "                \n",
    "        "
   ]
  },
  {
   "cell_type": "markdown",
   "id": "6f149afa",
   "metadata": {},
   "source": [
    "#### 1. Instance Variable"
   ]
  },
  {
   "cell_type": "markdown",
   "id": "7f5ff127",
   "metadata": {},
   "source": [
    "    1. Instance Variable:\n",
    "\n",
    "            1. If the value of a variable is varying from object to object such varibale are instance varibles or object variables\n",
    "            2. For every object a separate copy of instance variables will be created.\n",
    "            3. In general inside constructor we declare these variable using self \n",
    "            4. How to access instance variable:\n",
    "                1. Within the class by using self \n",
    "                2. Outside of a class by using reference variable\n",
    "\n",
    "            How to kow how many instance variables are there?\n",
    "                print(objectReference.__dict__) # prints objects inside dictionary\n",
    "\n",
    "            5. By using one obejct reference if we perform any change to the instance variables, the changes won't be affected to remaining objects.\n",
    "\n",
    "            6. We can declrare instance variables not just inside constructor but also inside inside instance method. Such varibles will be executed only if ou call them otherwise not. But in constructor it would execute automatically.\n",
    "\n",
    "            7. Where we can declare varibles?\n",
    "                1. Inside constructor\n",
    "                2. Inside instance method.\n",
    "                3. But we can also declare instances variable from outside of the class also. By using reference variable.\n",
    "\n",
    "\n",
    "            How can we remove instance variables?\n",
    "                We can delete using del keyword\n",
    "                del s1.c\n",
    "\n",
    "                del self.variablename\n",
    "                del.objectreference.variablename"
   ]
  },
  {
   "cell_type": "markdown",
   "id": "ca88819d",
   "metadata": {},
   "source": [
    "#### 2. Static Variable"
   ]
  },
  {
   "cell_type": "markdown",
   "id": "eee2b326",
   "metadata": {},
   "source": [
    "    If a variable is fixed for all the objects then it is not recommended to declare it as instance variable.\n",
    "    \n",
    "    How to access static variable?\n",
    "        objectReference.staticVariable\n",
    "        className.staticVariable\n",
    "        \n",
    "    It is stored once and used again and again. Memory management is efficient.\n",
    "    \n",
    "    In how many places can we declare static variable? What are the places?\n",
    "        1. Within the clas direcltly\n",
    "        2. Inside constructor using class name # ClassName.staticVariabel = x\n",
    "        3. Inside instance method by using class name\n",
    "        4. Inside class method by using cls variable or class name. # cls refers to current class. We use @classmethod decorator to differenciate the argument in the method. So, cls is different to self. And you can use cls or any name similar to self.\n",
    "             # Here you can call using objectReference also but it is recomende to call using class name because that is the convention used.\n",
    "        5. Inside static method by using class name # @staticmethod decorator is used or if you don't pass any argument then it is by default static method. \n",
    "        6. From outside of the class by using class name\n",
    "        \n",
    "        All the static variables can be accessed using object reference. you can use class name too.\n",
    "        \n",
    "    How to access static variables?\n",
    "        1. Within the class you can use self or className\n",
    "        2. Inside @classmethod you can access by cls or className\n",
    "        3. Inside @staticmethod we can access by using only className. Because there is no argument passed like self, cls.\n",
    "        4. Outside of the class either by objectReference of ClassName.\n",
    "        \n",
    "    \n",
    "    Where we can modify the value of static variable?***** Very Very imp topic\n",
    "    \n",
    "        You can modify from anywhere. Compulsory you have to use ClassName or by using cls variable if it is a class method.\n",
    "        \n",
    "        We should not use objectReference or self keyword. If we use then it is not going to modify static variable but it will modify or add/create instance varible if it is not available.\n",
    "        \n",
    "        If you want to modify static variable you must use ClassName only.\n",
    "        \n",
    "        'self' talks about object level. 'cls' talks about class level.\n",
    "            'self' contain address of current object. 'cls' contains object of current class.\n",
    "            'self' is only available in instance method and constructor.\n",
    "            \n",
    "        \n",
    "    How to delete a static variable:\n",
    "        \n",
    "        del ClassName.variable\n",
    "        del cls.variable\n",
    "        \n",
    "        del self.varible # this will throw an error\n",
    "        \n",
    "    \n",
    "    To conclude:\n",
    "        \n",
    "        To read static variable:\n",
    "            1. ClassName\n",
    "            2. self\n",
    "            3. cls\n",
    "            4. objectReference\n",
    "        \n",
    "        To modify/delete static variable:\n",
    "            1. ClassName\n",
    "            2. cls"
   ]
  },
  {
   "cell_type": "markdown",
   "id": "e6fcf20b",
   "metadata": {},
   "source": [
    "#### 3. Local Variable"
   ]
  },
  {
   "cell_type": "markdown",
   "id": "cf7910c3",
   "metadata": {},
   "source": [
    "    Local variable is limited to scope of the method we declare them inside methods.\n",
    "    \n",
    "        class Test:\n",
    "            \n",
    "            def m1():\n",
    "                a=10\n",
    "                print(a)\n",
    "            \n",
    "            def m2():\n",
    "                b=20\n",
    "                print(b)\n",
    "            \n",
    "        Test.m1()\n",
    "        Test.m2()"
   ]
  },
  {
   "cell_type": "markdown",
   "id": "66310d8d",
   "metadata": {},
   "source": [
    "### Types of Methods"
   ]
  },
  {
   "cell_type": "markdown",
   "id": "84e6a28b",
   "metadata": {},
   "source": [
    "    1. Instance methods\n",
    "    2. Class methods\n",
    "    3. Static methods"
   ]
  },
  {
   "cell_type": "markdown",
   "id": "301713d7",
   "metadata": {},
   "source": [
    "#### 1. Instance Method"
   ]
  },
  {
   "cell_type": "markdown",
   "id": "8380b5f0",
   "metadata": {},
   "source": [
    "     Object related methods.\n",
    "     \n",
    "     Inside method body, if we are accessing instance variables such type of methods are declared as instance methods. \n",
    "     \n",
    "     #Example\n",
    "     def method1(self):\n",
    "         print(\"Student name: \", self.name)\n",
    "         \n",
    "     How to call an instance method?\n",
    "         by using objectreference\n",
    "         t1.m1()\n",
    "         \n",
    "     "
   ]
  },
  {
   "cell_type": "markdown",
   "id": "61582085",
   "metadata": {},
   "source": [
    "    class Student:\n",
    "\n",
    "        def __init__(self, name, marks): # Special Instance Method        \n",
    "            self.name = name\n",
    "            self.marks = marks\n",
    "\n",
    "        def display(self): # Instance Method \n",
    "            print('Hi', self.name)\n",
    "            print('Your marks are: ', self.marks)\n",
    "\n",
    "        def grade(self):  # Instance Method       \n",
    "            if self.marks >= 60:\n",
    "                print(\"You got First Grade\")\n",
    "            elif self.marks >= 50:\n",
    "                print(\"You got Second Grade\")\n",
    "            elif self.marks >= 35:\n",
    "                print(\"You got Third Grade\")\n",
    "            else:\n",
    "                print(\"You are not recommended for next class.\")\n",
    "\n",
    "    n = int(input(\"Enter number of students: \"))\n",
    "\n",
    "    for i in range(n):\n",
    "        name = input(\"Enter Student's name: \")\n",
    "        marks = int(input(\"Enter Student's Marks: \"))\n",
    "        print()\n",
    "        s = Student(name,marks)\n",
    "        s.display()\n",
    "        s.grade()\n",
    "        print()"
   ]
  },
  {
   "cell_type": "markdown",
   "id": "414624c5",
   "metadata": {},
   "source": [
    "##### Getter & Setter Methods"
   ]
  },
  {
   "cell_type": "markdown",
   "id": "da97bc2b",
   "metadata": {},
   "source": [
    "    If you want to set values to the instance variable then go for setter methods.\n",
    "    \n",
    "    If you wnat to get values of instance variable then go for getter methods.\n",
    "    \n",
    "    s = Student()\n",
    "    \n",
    "    s.setName('Sid')\n",
    "    print(s.getName())\n",
    "    \n",
    "    def setName(self, name):\n",
    "        self.name = name\n",
    "        \n",
    "    def getName(self):\n",
    "        return self.name\n",
    "        \n",
    "    \n",
    "    For security reasons it is not allowed to access instance variables. by using setters and getters only we are allowed to access. Data hiding concept, encapsulation concept.\n",
    "    \n",
    "    getter methods are aslo known as accessor methods\n",
    "    \n",
    "    setter methods are also known as mutator methods"
   ]
  },
  {
   "cell_type": "markdown",
   "id": "e99f4674",
   "metadata": {},
   "source": [
    "    class Student:\n",
    "\n",
    "        def setName(self, name):\n",
    "            self.name = name\n",
    "\n",
    "        def getName(self):\n",
    "            return self.name\n",
    "\n",
    "        def setMarks(self, marks):\n",
    "            self.marks = marks\n",
    "\n",
    "        def getMarks(self):\n",
    "            return self.marks\n",
    "\n",
    "    n = int(input(\"Enter number os Students: \"))\n",
    "\n",
    "    for i in range(n):\n",
    "        s = Student()\n",
    "        name = input(\"Enter the name of the Student: \")\n",
    "        s.setName(name)\n",
    "        marks = int(input(\"Enter marks of student: \"))\n",
    "        s.setMarks(marks)\n",
    "\n",
    "        print(\"Hi\", s.getName())\n",
    "        print(\"Your marks are: \", s.getMarks())"
   ]
  },
  {
   "cell_type": "markdown",
   "id": "edfad6ec",
   "metadata": {},
   "source": [
    "#### 2. Class Method"
   ]
  },
  {
   "cell_type": "markdown",
   "id": "cb10d8ea",
   "metadata": {},
   "source": [
    "    If inisde your method you are using only Class level variables i.e. static variables then that method is declared as class method.\n",
    "    \n",
    "    We can declare class level variables by using cls.\n",
    "    \n",
    "    How to call class method?\n",
    "        Either by using class name or object reference. But it is recommended to use ClassName.\n",
    "        \n",
    "    Program to track the number of objects created for a class.\n",
    "        "
   ]
  },
  {
   "cell_type": "markdown",
   "id": "9e00551f",
   "metadata": {},
   "source": [
    "    class Animal:\n",
    "\n",
    "        legs = 4\n",
    "\n",
    "        @classmethod\n",
    "        def walk(cls, name):\n",
    "            print(f'{name} walks with {cls.legs} legs')\n",
    "\n",
    "    Animal.walk('Dog')\n",
    "    Animal.walk('Cat')"
   ]
  },
  {
   "cell_type": "markdown",
   "id": "9582e866",
   "metadata": {},
   "source": [
    "    class Test:\n",
    "\n",
    "        count = 0\n",
    "\n",
    "        def __init__(self):\n",
    "            Test.count += 1\n",
    "\n",
    "        @classmethod\n",
    "        def noOfObjects(cls):\n",
    "            print(\"Number of objects created: \", cls.count)\n",
    "\n",
    "    t1 = Test()\n",
    "    t2 = Test()\n",
    "    Test.noOfObjects()\n",
    "    t3 = Test()\n",
    "    t4 = Test()\n",
    "    t5 = Test()\n",
    "\n",
    "    Test.noOfObjects()"
   ]
  },
  {
   "cell_type": "markdown",
   "id": "8e85bb1f",
   "metadata": {},
   "source": [
    "#### 3. Static Method"
   ]
  },
  {
   "cell_type": "markdown",
   "id": "38ef0f2f",
   "metadata": {},
   "source": [
    "    If we are not using any instance variable or static variable then we should go for static method.\n",
    "    \n",
    "    Static methods are general utility methods.\n",
    "    \n",
    "    Class Method is rarely used. most use only two methods. One is static method other is instance method.\n",
    "    \n",
    "    If not using @staticmethod decorator still it is considered as static method.\n",
    "    \n",
    "    If you want to access static variables better to go for class method only, it is good programming convention. If you don't want to acces then go for static method"
   ]
  },
  {
   "cell_type": "markdown",
   "id": "97210b1c",
   "metadata": {},
   "source": [
    "    class SidMath:\n",
    "\n",
    "        @staticmethod\n",
    "        def add(x,y):\n",
    "            print(\"The sum is :\\t\", x+y)\n",
    "\n",
    "        @staticmethod\n",
    "        def product(x,y):\n",
    "            print(\"The product is :\\t\", x*y)\n",
    "\n",
    "        @staticmethod\n",
    "        def avg(x,y):\n",
    "            print(\"The avg is :\\t\", (x+y)/2)\n",
    "\n",
    "    SidMath.add(10,20)\n",
    "    SidMath.product(10,20)\n",
    "    SidMath.avg(10,20)"
   ]
  },
  {
   "cell_type": "markdown",
   "id": "c2eec827",
   "metadata": {},
   "source": [
    "    # after remocing the @staticmethod decorator\n",
    "\n",
    "    class SidMath:\n",
    "\n",
    "\n",
    "        def add(x,y):\n",
    "            print(\"The sum is :\\t\", x+y)\n",
    "\n",
    "\n",
    "        def product(x,y):\n",
    "            print(\"The product is :\\t\", x*y)\n",
    "\n",
    "\n",
    "        def avg(x,y):\n",
    "            print(\"The avg is :\\t\", (x+y)/2)\n",
    "\n",
    "    SidMath.add(100,200)\n",
    "    SidMath.product(100,200)\n",
    "    SidMath.avg(100,200)"
   ]
  },
  {
   "cell_type": "markdown",
   "id": "00d87ea9",
   "metadata": {},
   "source": [
    "##### Conclusion"
   ]
  },
  {
   "cell_type": "markdown",
   "id": "2cbf3d0c",
   "metadata": {},
   "source": [
    "    Generally we follow only two methods\n",
    "    1. Instance method\n",
    "    2. Static method\n",
    "    \n",
    "    Acording to Pyton there are 3 methods but according to programmers point of view we can say there are two methods. One is Instance Method other is Staic Method\n",
    "    \n",
    "    You cannot access instance variable using class method or static method because there is no self. self can be accessed using only self."
   ]
  },
  {
   "cell_type": "markdown",
   "id": "59be6be0",
   "metadata": {},
   "source": [
    "#### Passing members of one class to another class"
   ]
  },
  {
   "cell_type": "markdown",
   "id": "01a9a0e4",
   "metadata": {},
   "source": [
    "    class Employee:\n",
    "\n",
    "        def __init__(self,eno,ename,esal):\n",
    "            self.eno = eno\n",
    "            self.ename = ename\n",
    "            self. esal = esal\n",
    "\n",
    "        def display(self):\n",
    "            print(\"Employee Number: \", self.eno)\n",
    "            print(\"Employee Name: \", self.ename)\n",
    "            print(\"Employee Salary: \", self.esal)\n",
    "\n",
    "    class Test:\n",
    "\n",
    "        def modify(emp):\n",
    "            emp.esal = emp.esal + 1000\n",
    "            emp.display()\n",
    "\n",
    "    e = Employee(100, 'Sid', 10000)\n",
    "\n",
    "    Test.modify(e)"
   ]
  },
  {
   "cell_type": "markdown",
   "id": "386e0bd1",
   "metadata": {},
   "source": [
    "#### Inner Classes"
   ]
  },
  {
   "cell_type": "markdown",
   "id": "b649574b",
   "metadata": {},
   "source": [
    "    Some call it Nested Classes.\n",
    "    \n",
    "    class Outer:\n",
    "        \n",
    "        class Inner:\n",
    "        \n",
    "    \n",
    "    Without existing one type of object if there is no chance of existing another type of object then we should go for inner classes.\n",
    "    \n",
    "    Example 1:\n",
    "        Car    Engine\n",
    "        Engine is always part of car. Without existing car there cannot be engine.\n",
    "        \n",
    "        calss Car:\n",
    "            .....\n",
    "            .....            \n",
    "            class Engine:\n",
    "                .....\n",
    "                .....\n",
    "            \n",
    "    Example 2:\n",
    "        University    Department\n",
    "        \n",
    "        calss University:\n",
    "            ......\n",
    "            ......\n",
    "            calss Department:\n",
    "                .....\n",
    "                .....\n",
    "            \n",
    "    Example 3:\n",
    "        Human     Brain\n",
    "        \n",
    "        class Human:\n",
    "            ......\n",
    "            ......\n",
    "            class Brain:\n",
    "                .....\n",
    "                .....\n",
    "            \n",
    "    Modularity of the application will improve.\n",
    "    \n",
    "    Without existing outer class object there is no chance of existing inner class object. Inner class object is always associated with outer class object.\n",
    "    \n",
    "    Outer class members bydefault are not available to Inner class members. Similarly, inner class members bydefault are not available to Outer class members."
   ]
  },
  {
   "cell_type": "markdown",
   "id": "91011605",
   "metadata": {},
   "source": [
    "    EXAMPLE:\n",
    "    \n",
    "    class Outer:\n",
    "\n",
    "        def method1(self):\n",
    "            print('Outer Class')\n",
    "\n",
    "        class Inner:\n",
    "\n",
    "            def method2(self):\n",
    "                print('Inner Class')\n",
    "\n",
    "    o = Outer()\n",
    "    o.method1()\n",
    "    i = o.Inner()\n",
    "    i.method2()\n",
    "    Outer().Inner().method2()"
   ]
  },
  {
   "cell_type": "markdown",
   "id": "584f226f",
   "metadata": {},
   "source": [
    "    EXAMPLE:\n",
    "    \n",
    "    class Person:\n",
    "\n",
    "        def __init__(self):\n",
    "            print('Person Constructor')\n",
    "            self.name = 'Sid'\n",
    "            self.db = self.Dob()\n",
    "\n",
    "        def display(self):\n",
    "            print('Name is: ', self.name)\n",
    "\n",
    "        class Dob:\n",
    "\n",
    "            def __init__(self):\n",
    "                print('Dob Constructor')\n",
    "                self.dd = 5\n",
    "                self.mm = 6\n",
    "                self.yy = 1989\n",
    "\n",
    "            def display(self):\n",
    "                print(f'DOB = {self.dd}/{self.mm}/{self.yy}')\n",
    "\n",
    "\n",
    "    p = Person()\n",
    "    p.display()\n",
    "    p.db.display()"
   ]
  },
  {
   "cell_type": "markdown",
   "id": "e7890392",
   "metadata": {},
   "source": [
    "    class Human:\n",
    "\n",
    "        def __init__(self):\n",
    "            self.name = 'Sid'\n",
    "            self.head = self.Head()\n",
    "            self.brain = self.Brain()\n",
    "\n",
    "        def display(self):\n",
    "            print('Hello ', self.name)\n",
    "\n",
    "        class Head:\n",
    "            def talk(self):\n",
    "                print('Talking')\n",
    "\n",
    "        class Brain:\n",
    "            def think(self):\n",
    "                print('Thinking')\n",
    "\n",
    "    h = Human()\n",
    "\n",
    "    h.display()\n",
    "\n",
    "    h.head.talk()\n",
    "\n",
    "    h.brain.think()"
   ]
  },
  {
   "cell_type": "markdown",
   "id": "d6d320be",
   "metadata": {},
   "source": [
    "# Garbage Collection"
   ]
  },
  {
   "cell_type": "markdown",
   "id": "54677bd4",
   "metadata": {},
   "source": [
    "     If object does not have nay reference variable then the object is available for garbage collection.\n",
    "     \n",
    "     How to enable and disable GC in our programs?\n",
    "     \n",
    "         There is a gc module\n",
    "         \n",
    "             1. gc.isenabled()\n",
    "             2. gc.disable()\n",
    "             3. gc.enable()\n",
    "     \n",
    "     By default garbage collector is enabled in Python."
   ]
  },
  {
   "cell_type": "markdown",
   "id": "3dc7195e",
   "metadata": {},
   "source": [
    "    import gc\n",
    "\n",
    "    print(gc.isenabled())\n",
    "\n",
    "    print(gc.disable())\n",
    "\n",
    "    print(gc.enable())"
   ]
  },
  {
   "cell_type": "markdown",
   "id": "4ad1c007",
   "metadata": {},
   "source": [
    "### Destructor"
   ]
  },
  {
   "cell_type": "markdown",
   "id": "9716cec5",
   "metadata": {},
   "source": [
    "    __del__() this is a destructor method. It is a special method.\n",
    "    \n",
    "    What is the role of destructor?\n",
    "        \n",
    "        Destructor doesn't destroy the objects. GC destroys the objects.\n",
    "        \n",
    "        GC will call destructor method to perform clean up activities. Once clean up activity is completed immediately the GC will destroy the object.\n",
    "        \n",
    "    \n",
    "    How to find number of references of an object?\n",
    "    \n",
    "        sys.getrefcount(objectreference)"
   ]
  },
  {
   "cell_type": "markdown",
   "id": "e141f336",
   "metadata": {},
   "source": [
    "    import time\n",
    "\n",
    "    class Test:\n",
    "        def __init__(self):\n",
    "            print('Object Initialization...')\n",
    "\n",
    "        def __del__(self):\n",
    "            print('Objects Deleted...')\n",
    "\n",
    "    t1 = Test()\n",
    "\n",
    "    t1 = None # t1 is still available for use\n",
    "\n",
    "    time.sleep(5)\n",
    "\n",
    "    print('End of application....')\n",
    "    print(t1)"
   ]
  },
  {
   "cell_type": "markdown",
   "id": "ad8c3fe8",
   "metadata": {},
   "source": [
    "    import time\n",
    "\n",
    "    class Test:\n",
    "        def __init__(self):\n",
    "            print('Object Initialization...')\n",
    "\n",
    "        def __del__(self):\n",
    "            print('Objects Execution...')\n",
    "\n",
    "    t1 = Test()\n",
    "\n",
    "    del t1 # t1 is not available, it is permanently deleted\n",
    "\n",
    "    time.sleep(5)\n",
    "\n",
    "    print('End of application....')\n",
    "    print(t1)"
   ]
  },
  {
   "cell_type": "markdown",
   "id": "43c72f93",
   "metadata": {},
   "source": [
    "    import time\n",
    "\n",
    "    class Test:\n",
    "        def __init__(self):\n",
    "            print('Object Initialization...')\n",
    "\n",
    "        def __del__(self):\n",
    "            print(' Destructor Objects Execution...')\n",
    "\n",
    "    t1 = Test()\n",
    "    t2 = t1\n",
    "    t3 = t2 # If atleat one object variable is available then then the objects is not available for garbage collections \n",
    "\n",
    "    del t1\n",
    "\n",
    "    time.sleep(10)\n",
    "    print('Object not yet destroyed!')\n",
    "\n",
    "    del t2\n",
    "\n",
    "    time.sleep(10)\n",
    "    print('Object not yet destroyed!')\n",
    "    print('Trying to delete object...')\n",
    "\n",
    "    del t3\n",
    "\n",
    "    time.sleep(10)"
   ]
  },
  {
   "cell_type": "markdown",
   "id": "fd226254",
   "metadata": {},
   "source": [
    "    import time\n",
    "\n",
    "    class Test:\n",
    "        def __init__(self):\n",
    "            print('Object Initialization...')\n",
    "\n",
    "        def __del__(self):\n",
    "            print('Destructor Objects Execution...')\n",
    "\n",
    "    l1 = [Test(), Test(), Test()]\n",
    "\n",
    "    time.sleep(5)\n",
    "\n",
    "    del l1 # all the three objects will be available for garbage collection\n",
    "\n",
    "    time.sleep(5)\n",
    "    print('End of application....')"
   ]
  },
  {
   "cell_type": "markdown",
   "id": "c0a22b22",
   "metadata": {},
   "source": [
    "    import sys\n",
    "\n",
    "    class Test:\n",
    "        pass\n",
    "\n",
    "    t1 = Test()\n",
    "    t2 = t1\n",
    "    t3 = t1\n",
    "    t4 = t1\n",
    "    del t1\n",
    "    print(sys.getrefcount(t2)) # output is 5 and not 4. Python internally maintains one implicit variable to refer current object.Internally self variable is there."
   ]
  },
  {
   "cell_type": "markdown",
   "id": "46510b36",
   "metadata": {},
   "source": [
    "# Inheritance and Polymorphism"
   ]
  },
  {
   "cell_type": "markdown",
   "id": "a6bb01b8",
   "metadata": {},
   "source": [
    "##### How can we use members of one class inside another class?"
   ]
  },
  {
   "cell_type": "markdown",
   "id": "3cb3d840",
   "metadata": {},
   "source": [
    "    1. By using Composition (Has a relationship)\n",
    "    \n",
    "    2. By using Inheritance (Is a Relationship)"
   ]
  },
  {
   "cell_type": "markdown",
   "id": "ea71ee65",
   "metadata": {},
   "source": [
    "    class Car:\n",
    "\n",
    "        def __init__(self, name, model, color):\n",
    "            self.name = name\n",
    "            self.model = model\n",
    "            self.color = color\n",
    "\n",
    "        def getinfo(self):\n",
    "            print(f\"Name of Car: {self.name}, Model: {self.model} and Color: {self.color}\")\n",
    "\n",
    "    class Employee:\n",
    "\n",
    "        def __init__(self, ename, eno, car):\n",
    "            self.ename = ename\n",
    "            self.eno = eno\n",
    "            self.car = car\n",
    "\n",
    "        def empinfo(self):\n",
    "            print(f\"Employee Name: {self.ename}, Employee Number: {self.eno}\")\n",
    "            print()\n",
    "            print(\"Employee Car Info: \")\n",
    "            self.car.getinfo()\n",
    "\n",
    "    c = Car('BMW', 'SL200', 'Grey')\n",
    "    e = Employee('Sid', 100, c)\n",
    "\n",
    "    e.empinfo()\n",
    "\n",
    "    c.getinfo() # just checking"
   ]
  },
  {
   "cell_type": "markdown",
   "id": "5bc66c96",
   "metadata": {},
   "source": [
    "    class A:\n",
    "        def m1():\n",
    "            pass\n",
    "        def m2():\n",
    "        pass\n",
    "        def m3():\n",
    "        pass\n",
    "        def m4():\n",
    "        pass\n",
    "\n",
    "    class B:\n",
    "        a = A()    \n",
    "        a.m1()\n",
    "        a.m2()\n",
    "        a.m3()\n",
    "        a.m4()\n",
    "\n",
    "\n",
    "    Class B has-a A reference\n",
    "    "
   ]
  },
  {
   "cell_type": "markdown",
   "id": "b17fb575",
   "metadata": {},
   "source": [
    "#### 2. Inheritance (Is-A Relationship)"
   ]
  },
  {
   "cell_type": "markdown",
   "id": "283a4bbf",
   "metadata": {},
   "source": [
    "    This is inheritance:\n",
    "    \n",
    "    class A:\n",
    "        x  =10\n",
    "\n",
    "    class B(A):\n",
    "        pass\n",
    "    \n",
    "    b = B()\n",
    "    \n",
    "    print(b.x)\n",
    "    \n",
    "    Every method is available to the child class. Either instance method, static or class method, all is available"
   ]
  },
  {
   "cell_type": "markdown",
   "id": "05aedcf4",
   "metadata": {},
   "source": [
    "    class X:\n",
    "\n",
    "        a = 10\n",
    "\n",
    "        def method1(self):\n",
    "            print(\"Parent class INSTANCE method\")\n",
    "\n",
    "        @classmethod\n",
    "        def method2(cls):\n",
    "            print(\"Parent class CLASS method\")\n",
    "\n",
    "\n",
    "        @staticmethod\n",
    "        def method3():\n",
    "            print(\"Parent class STATIC method\")\n",
    "\n",
    "        def __init__(self):\n",
    "            self.b = 20\n",
    "            print(\"Parent Constructor...\")\n",
    "\n",
    "        def __del__(self):\n",
    "            print(\"Parent Destructor...\")\n",
    "\n",
    "\n",
    "    class Y(X):\n",
    "        pass\n",
    "\n",
    "    y = Y()\n",
    "    print(y.a)\n",
    "    y.method1()\n",
    "    y.method2()\n",
    "    y.method3()\n",
    "    print(y.b)"
   ]
  },
  {
   "cell_type": "markdown",
   "id": "092b1d00",
   "metadata": {},
   "source": [
    "    If any member not available in the Child class only then it will go and search in Parent class."
   ]
  },
  {
   "cell_type": "markdown",
   "id": "a8cf97e5",
   "metadata": {},
   "source": [
    "    class X:\n",
    "\n",
    "        a = 10\n",
    "\n",
    "        def method1(self):\n",
    "            print(\"Parent class INSTANCE method\")\n",
    "\n",
    "        @classmethod\n",
    "        def method2(cls):\n",
    "            print(\"Parent class CLASS method\")\n",
    "\n",
    "\n",
    "        @staticmethod\n",
    "        def method3():\n",
    "            print(\"Parent class STATIC method\")\n",
    "\n",
    "        def __init__(self):\n",
    "            self.b = 20\n",
    "            print(\"Parent Constructor...\")\n",
    "\n",
    "        def __del__(self):\n",
    "            print(\"Parent Destructor...\")\n",
    "\n",
    "\n",
    "    class Y(X):\n",
    "        a = 30\n",
    "\n",
    "    y = Y()\n",
    "    print(y.a)"
   ]
  },
  {
   "cell_type": "markdown",
   "id": "765025f9",
   "metadata": {},
   "source": [
    "    If the constructor available in the child class:"
   ]
  },
  {
   "cell_type": "markdown",
   "id": "4033e967",
   "metadata": {},
   "source": [
    "    class X:\n",
    "\n",
    "        a = 10\n",
    "\n",
    "        def method1(self):\n",
    "            print(\"Parent class INSTANCE method\")\n",
    "\n",
    "        @classmethod\n",
    "        def method2(cls):\n",
    "            print(\"Parent class CLASS method\")\n",
    "\n",
    "\n",
    "        @staticmethod\n",
    "        def method3():\n",
    "            print(\"Parent class STATIC method\")\n",
    "\n",
    "        def __init__(self):\n",
    "            self.b = 20\n",
    "            print(\"Parent Constructor...\")\n",
    "\n",
    "        def __del__(self):\n",
    "            print(\"Parent Destructor...\")\n",
    "\n",
    "\n",
    "    class Y(X):\n",
    "        a = 30\n",
    "\n",
    "        def __init__(self):\n",
    "            print(\"Child Constructor...\")\n",
    "\n",
    "    y = Y()\n",
    "    print(y.a)\n"
   ]
  },
  {
   "cell_type": "markdown",
   "id": "ff15b6ba",
   "metadata": {},
   "source": [
    "    Assume Child class contains Destructor:"
   ]
  },
  {
   "cell_type": "markdown",
   "id": "3d171f64",
   "metadata": {},
   "source": [
    "    class X:\n",
    "\n",
    "        a = 10\n",
    "\n",
    "        def method1(self):\n",
    "            print(\"Parent class INSTANCE method\")\n",
    "\n",
    "        @classmethod\n",
    "        def method2(cls):\n",
    "            print(\"Parent class CLASS method\")\n",
    "\n",
    "\n",
    "        @staticmethod\n",
    "        def method3():\n",
    "            print(\"Parent class STATIC method\")\n",
    "\n",
    "        def __init__(self):\n",
    "            self.b = 20\n",
    "            print(\"Parent Constructor...\")\n",
    "\n",
    "        def __del__(self):\n",
    "            print(\"Parent Destructor...\")\n",
    "\n",
    "\n",
    "    class Y(X):\n",
    "        a = 30\n",
    "\n",
    "        def __init__(self):\n",
    "            print(\"Child Constructor...\")\n",
    "\n",
    "        def __del__(self):\n",
    "            print(\"Child Destructor...\")\n",
    "\n",
    "    y = Y()\n",
    "    print(y.a)"
   ]
  },
  {
   "cell_type": "markdown",
   "id": "ad472eeb",
   "metadata": {},
   "source": [
    "    Not just constructors or destructors but all methods/members can be in both parent class and child class."
   ]
  },
  {
   "cell_type": "markdown",
   "id": "a2af0f41",
   "metadata": {},
   "source": [
    "    class X:\n",
    "\n",
    "        a = 10\n",
    "\n",
    "        def method1(self):\n",
    "            print(\"Parent class INSTANCE method\")\n",
    "\n",
    "        @classmethod\n",
    "        def method2(cls):\n",
    "            print(\"Parent class CLASS method\")\n",
    "\n",
    "\n",
    "        @staticmethod\n",
    "        def method3():\n",
    "            print(\"Parent class STATIC method\")\n",
    "\n",
    "        def __init__(self):\n",
    "            self.b = 20\n",
    "            print(\"Parent Constructor...\")\n",
    "\n",
    "        def __del__(self):\n",
    "            print(\"Parent Destructor...\")\n",
    "\n",
    "\n",
    "    class Y(X):\n",
    "        a = 30\n",
    "\n",
    "        def method1(self):\n",
    "            print(\"Child class INSTANCE method\")\n",
    "\n",
    "        @classmethod\n",
    "        def method2(cls):\n",
    "            print(\"Child class CLASS method\")\n",
    "\n",
    "\n",
    "        @staticmethod\n",
    "        def method3():\n",
    "            print(\"Child class STATIC method\")\n",
    "\n",
    "        def __init__(self):\n",
    "            print(\"Child Constructor...\")\n",
    "\n",
    "        def __del__(self):\n",
    "            print(\"Child Destructor...\")\n",
    "\n",
    "    y = Y()\n",
    "    print(y.a)\n",
    "    y.method1()\n",
    "    y.method2()\n",
    "    y.method3()"
   ]
  },
  {
   "cell_type": "markdown",
   "id": "7aea387a",
   "metadata": {},
   "source": [
    "#####    Calling Parent class methods from the Child Classes"
   ]
  },
  {
   "cell_type": "code",
   "execution_count": 35,
   "id": "f4b34367",
   "metadata": {},
   "outputs": [
    {
     "name": "stdout",
     "output_type": "stream",
     "text": [
      "Parent Constructor...\n",
      "Parent Destructor...\n",
      "10\n",
      "Parent class INSTANCE method\n",
      "Parent class CLASS method\n",
      "Parent class STATIC method\n",
      "20\n"
     ]
    }
   ],
   "source": [
    "class X:\n",
    "    \n",
    "    a = 10\n",
    "    \n",
    "    def method1(self):\n",
    "        print(\"Parent class INSTANCE method\")\n",
    "        \n",
    "    @classmethod\n",
    "    def method2(cls):\n",
    "        print(\"Parent class CLASS method\")\n",
    "        \n",
    "    \n",
    "    @staticmethod\n",
    "    def method3():\n",
    "        print(\"Parent class STATIC method\")\n",
    "        \n",
    "    def __init__(self):\n",
    "        self.b = 20\n",
    "        print(\"Parent Constructor...\")\n",
    "        \n",
    "    def __del__(self):\n",
    "        print(\"Parent Destructor...\")\n",
    "        \n",
    "        \n",
    "class Y(X):\n",
    "    pass\n",
    "\n",
    "        def method1(self):\n",
    "            print(\"Parent class INSTANCE method\")\n",
    "\n",
    "        @classmethod\n",
    "        def method2(cls):\n",
    "            print(\"Parent class CLASS method\")\n",
    "\n",
    "\n",
    "        @staticmethod\n",
    "        def method3():\n",
    "            print(\"Parent class STATIC method\")\n",
    "\n",
    "        def __init__(self):\n",
    "            self.b = 20\n",
    "            print(\"Parent Constructor...\")\n",
    "\n",
    "        def __del__(self):\n",
    "            print(\"Parent Destructor...\")\n",
    "\n",
    "\n",
    "    class Y(X):\n",
    "        pass\n",
    "\n",
    "    y = Y()\n",
    "    print(y.a)\n",
    "    y.method1()\n",
    "    y.method2()\n",
    "    y.method3()\n",
    "    print(y.b)"
   ]
  },
  {
   "cell_type": "markdown",
   "id": "0b43aa01",
   "metadata": {},
   "source": [
    "    If any member not available in the Child class only then it will go and search in Parent class."
   ]
  },
  {
   "cell_type": "markdown",
   "id": "d47bd16f",
   "metadata": {},
   "source": [
    "    class X:\n",
    "\n",
    "        a = 10\n",
    "\n",
    "        def method1(self):\n",
    "            print(\"Parent class INSTANCE method\")\n",
    "\n",
    "        @classmethod\n",
    "        def method2(cls):\n",
    "            print(\"Parent class CLASS method\")\n",
    "\n",
    "\n",
    "        @staticmethod\n",
    "        def method3():\n",
    "            print(\"Parent class STATIC method\")\n",
    "\n",
    "        def __init__(self):\n",
    "            self.b = 20\n",
    "            print(\"Parent Constructor...\")\n",
    "\n",
    "        def __del__(self):\n",
    "            print(\"Parent Destructor...\")\n",
    "\n",
    "\n",
    "    class Y(X):\n",
    "        a = 30\n",
    "\n",
    "    y = Y()\n",
    "    print(y.a)"
   ]
  },
  {
   "cell_type": "markdown",
   "id": "fc136574",
   "metadata": {},
   "source": [
    "    If the constructor available in the child class:"
   ]
  },
  {
   "cell_type": "markdown",
   "id": "1f3001b3",
   "metadata": {},
   "source": [
    "    class X:\n",
    "\n",
    "        a = 10\n",
    "\n",
    "        def method1(self):\n",
    "            print(\"Parent class INSTANCE method\")\n",
    "\n",
    "        @classmethod\n",
    "        def method2(cls):\n",
    "            print(\"Parent class CLASS method\")\n",
    "\n",
    "\n",
    "        @staticmethod\n",
    "        def method3():\n",
    "            print(\"Parent class STATIC method\")\n",
    "\n",
    "        def __init__(self):\n",
    "            self.b = 20\n",
    "            print(\"Parent Constructor...\")\n",
    "\n",
    "        def __del__(self):\n",
    "            print(\"Parent Destructor...\")\n",
    "\n",
    "\n",
    "    class Y(X):\n",
    "        a = 30\n",
    "\n",
    "        def __init__(self):\n",
    "            print(\"Child Constructor...\")\n",
    "\n",
    "    y = Y()\n",
    "    print(y.a)\n"
   ]
  },
  {
   "cell_type": "markdown",
   "id": "24590459",
   "metadata": {},
   "source": [
    "    Assume Child class contains Destructor:"
   ]
  },
  {
   "cell_type": "markdown",
   "id": "1ac9990f",
   "metadata": {},
   "source": [
    "    class X:\n",
    "\n",
    "        a = 10\n",
    "\n",
    "        def method1(self):\n",
    "            print(\"Parent class INSTANCE method\")\n",
    "\n",
    "        @classmethod\n",
    "        def method2(cls):\n",
    "            print(\"Parent class CLASS method\")\n",
    "\n",
    "\n",
    "        @staticmethod\n",
    "        def method3():\n",
    "            print(\"Parent class STATIC method\")\n",
    "\n",
    "        def __init__(self):\n",
    "            self.b = 20\n",
    "            print(\"Parent Constructor...\")\n",
    "\n",
    "        def __del__(self):\n",
    "            print(\"Parent Destructor...\")\n",
    "\n",
    "\n",
    "    class Y(X):\n",
    "        a = 30\n",
    "\n",
    "        def __init__(self):\n",
    "            print(\"Child Constructor...\")\n",
    "\n",
    "        def __del__(self):\n",
    "            print(\"Child Destructor...\")\n",
    "\n",
    "    y = Y()\n",
    "    print(y.a)"
   ]
  },
  {
   "cell_type": "markdown",
   "id": "fcd1f716",
   "metadata": {},
   "source": [
    "    Not just constructors or destructors but all methods/members can be in both parent class and child class."
   ]
  },
  {
   "cell_type": "markdown",
   "id": "b629d455",
   "metadata": {},
   "source": [
    "    class X:\n",
    "\n",
    "        a = 10\n",
    "\n",
    "        def method1(self):\n",
    "            print(\"Parent class INSTANCE method\")\n",
    "\n",
    "        @classmethod\n",
    "        def method2(cls):\n",
    "            print(\"Parent class CLASS method\")\n",
    "\n",
    "\n",
    "        @staticmethod\n",
    "        def method3():\n",
    "            print(\"Parent class STATIC method\")\n",
    "\n",
    "        def __init__(self):\n",
    "            self.b = 20\n",
    "            print(\"Parent Constructor...\")\n",
    "\n",
    "        def __del__(self):\n",
    "            print(\"Parent Destructor...\")\n",
    "\n",
    "\n",
    "    class Y(X):\n",
    "        a = 30\n",
    "\n",
    "        def method1(self):\n",
    "            print(\"Child class INSTANCE method\")\n",
    "\n",
    "        @classmethod\n",
    "        def method2(cls):\n",
    "            print(\"Child class CLASS method\")\n",
    "\n",
    "\n",
    "        @staticmethod\n",
    "        def method3():\n",
    "            print(\"Child class STATIC method\")\n",
    "\n",
    "        def __init__(self):\n",
    "            print(\"Child Constructor...\")\n",
    "\n",
    "        def __del__(self):\n",
    "            print(\"Child Destructor...\")\n",
    "\n",
    "    y = Y()\n",
    "    print(y.a)\n",
    "    y.method1()\n",
    "    y.method2()\n",
    "    y.method3()"
   ]
  },
  {
   "cell_type": "markdown",
   "id": "8f1ba126",
   "metadata": {},
   "source": [
    "#####    Calling Parent class methods from the Child Classes - super() method#### 2. Inheritance (Is-A Relationship)"
   ]
  },
  {
   "cell_type": "markdown",
   "id": "48dde2d7",
   "metadata": {},
   "source": [
    "    If you want to call parent class from the child class.\n",
    "    \n",
    "    super() method.\n",
    "    \n",
    "    \n",
    "    "
   ]
  },
  {
   "cell_type": "markdown",
   "id": "1a321b8f",
   "metadata": {},
   "source": [
    "    class A:\n",
    "\n",
    "        def __init__(self):\n",
    "            print(\"Parent constructor\")\n",
    "\n",
    "    class B(A):\n",
    "\n",
    "\n",
    "\n",
    "        def __init__(self):\n",
    "\n",
    "            super().__init__()\n",
    "\n",
    "            print(\"Child constructor\")\n",
    "\n",
    "\n",
    "\n",
    "    b = B()\n"
   ]
  },
  {
   "cell_type": "markdown",
   "id": "30f5c0a4",
   "metadata": {},
   "source": [
    "    class A:\n",
    "\n",
    "        def __init__(self):\n",
    "            print(\"Parent constructor\")\n",
    "\n",
    "    class B(A):\n",
    "\n",
    "\n",
    "\n",
    "        def __init__(self):\n",
    "\n",
    "            print(\"Child constructor\")\n",
    "            super().__init__()\n",
    "\n",
    "\n",
    "\n",
    "    b = B()"
   ]
  },
  {
   "cell_type": "markdown",
   "id": "3d01ef4a",
   "metadata": {},
   "source": [
    "    class A:\n",
    "        a = 10\n",
    "        \n",
    "        def __init__(self):\n",
    "            print(\"Parent constructor\")\n",
    "\n",
    "        def m1(self):\n",
    "            print('This is m1 from class A')\n",
    "\n",
    "        def m2(self):\n",
    "            print('This is m2 from class A')\n",
    "\n",
    "    class B(A):\n",
    "\n",
    "        b = 20\n",
    "\n",
    "        def __init__(self):\n",
    "            \n",
    "            print(\"Child constructor\")\n",
    "            super().__init__()\n",
    "\n",
    "            super().m1() # explicitly calling methods from class A\n",
    "\n",
    "            super().m2()\n",
    "            \n",
    "            print(super().a)\n",
    "\n",
    "            print(B.b)\n",
    "\n",
    "    b = B()"
   ]
  },
  {
   "cell_type": "markdown",
   "id": "ab087bca",
   "metadata": {},
   "source": [
    "    class Person:\n",
    "\n",
    "        def __init__(self, name, age):\n",
    "            self.name = name\n",
    "            self.age = age\n",
    "\n",
    "        def eat_and_drink(self):\n",
    "            print(\"Eat and Drink and Merry\")\n",
    "\n",
    "    class SoftwareEngineer(Person):\n",
    "\n",
    "        def __init__(self, eno, esal):\n",
    "            self.eno = eno\n",
    "            self.esal = esal\n",
    "\n",
    "        def work(self):\n",
    "            print(\"Python Coding is Awesome\")\n",
    "\n",
    "    s = SoftwareEngineer('Sid', 33, 100, 10000) # is this a valid line? This is an invalid line"
   ]
  },
  {
   "cell_type": "markdown",
   "id": "b2ec90fb",
   "metadata": {},
   "source": [
    "    class Person:\n",
    "\n",
    "        def __init__(self, name, age):\n",
    "            self.name = name\n",
    "            self.age = age\n",
    "\n",
    "        def eat_and_drink(self):\n",
    "            print(\"Eat and Drink and Merry\")\n",
    "\n",
    "    class SoftwareEngineer(Person):\n",
    "\n",
    "        def __init__(self, name, age, eno, esal):\n",
    "            self.eno = eno\n",
    "            self.esal = esal\n",
    "\n",
    "        def work(self):\n",
    "            print(\"Python Coding is Awesome\")\n",
    "\n",
    "    s = SoftwareEngineer('Sid', 33, 100, 10000) # it is valid but you can't access name and age\n",
    "\n",
    "    print(s.name, s.age)"
   ]
  },
  {
   "cell_type": "markdown",
   "id": "f0488414",
   "metadata": {},
   "source": [
    "    class Person:\n",
    "\n",
    "        def __init__(self, name, age):\n",
    "            self.name = name\n",
    "            self.age = age\n",
    "\n",
    "        def eat_and_drink(self):\n",
    "            print(\"Eat and Drink and Merry\")\n",
    "\n",
    "    class SoftwareEngineer(Person):\n",
    "\n",
    "        def __init__(self, name, age, eno, esal):\n",
    "            super().__init__(name,age) # Using super() method to access varible from parent class\n",
    "            self.eno = eno\n",
    "            self.esal = esal\n",
    "\n",
    "        def work(self):\n",
    "            print(\"Python Coding is Awesome\")\n",
    "\n",
    "    s = SoftwareEngineer('Sid', 33, 100, 10000)\n",
    "\n",
    "    print(s.name, s.age, s.eno, s.esal)\n",
    "\n",
    "    s.eat_and_drink()\n",
    "\n",
    "    s.work()"
   ]
  },
  {
   "cell_type": "markdown",
   "id": "fdf8b2d1",
   "metadata": {},
   "source": [
    "    \n",
    "    What is the possibility of code reusabaility?"
   ]
  },
  {
   "cell_type": "markdown",
   "id": "0156fe44",
   "metadata": {},
   "source": [
    "    class Person:\n",
    "\n",
    "        def __init__(self, name, age):\n",
    "            self.name = name\n",
    "            self.age = age\n",
    "\n",
    "        def eat_and_drink(self):\n",
    "            print(\"Eat and Drink and Merry\")\n",
    "\n",
    "    class SoftwareEngineer(Person):\n",
    "\n",
    "        def __init__(self, name, age, eno, esal):\n",
    "            super().__init__(name,age) # Using super() method to access varible from parent class\n",
    "            self.eno = eno\n",
    "            self.esal = esal\n",
    "\n",
    "        def work(self):\n",
    "            print(\"Python Coding is Awesome\")\n",
    "\n",
    "    s = SoftwareEngineer('Sid', 33, 100, 10000)\n",
    "\n",
    "    print(s.name, s.age, s.eno, s.esal)\n",
    "\n",
    "    s.eat_and_drink()\n",
    "\n",
    "    s.work()\n",
    "\n",
    "    class Student(Person): # this is code reusability\n",
    "        pass\n",
    "\n",
    "    class Teacher(Person): # this is code reusability\n",
    "        pass\n"
   ]
  },
  {
   "cell_type": "markdown",
   "id": "c25b35b0",
   "metadata": {},
   "source": [
    "    super() can access only parent class variables. They can't access instance variable."
   ]
  },
  {
   "cell_type": "markdown",
   "id": "cb2c7e4c",
   "metadata": {},
   "source": [
    "    class P:\n",
    "\n",
    "        a = 10\n",
    "\n",
    "        def method1(self):\n",
    "            self.a = 20\n",
    "\n",
    "    class C(P):\n",
    "        def __init__(self):\n",
    "            super().method1()\n",
    "            print(super().a) # Parent class - class variable, super can't access instance varibale\n",
    "            print(self.a) # Parent class - instance variable can be accessed\n",
    "\n",
    "    c = C()"
   ]
  },
  {
   "cell_type": "markdown",
   "id": "fd0ac991",
   "metadata": {},
   "source": [
    "##### When to go for Is-A and when for Has-A relation?"
   ]
  },
  {
   "cell_type": "markdown",
   "id": "5a0dda93",
   "metadata": {},
   "source": [
    "    Extending existing functionality to some more functions then go for Inheritance.\n",
    "    \n",
    "    If you just want to use a functionality but not extend the functionality then go fro Composition."
   ]
  },
  {
   "cell_type": "markdown",
   "id": "28a07433",
   "metadata": {},
   "source": [
    "    Note: Abstract class and Interface concepts are not available in Python. But these can be implemented indirectly.    "
   ]
  },
  {
   "cell_type": "markdown",
   "id": "0415696a",
   "metadata": {},
   "source": [
    "#### Types of Inheritance"
   ]
  },
  {
   "cell_type": "markdown",
   "id": "282250d3",
   "metadata": {},
   "source": [
    "    1. Single\n",
    "    2. Multilevel\n",
    "    3. Hierarchical\n",
    "    4. Multiple\n",
    "    5. cyclic (not in python)\n",
    "    6. Hybrid "
   ]
  },
  {
   "cell_type": "markdown",
   "id": "1b8f8ac4",
   "metadata": {},
   "source": [
    "##### 1. Single Inheritance"
   ]
  },
  {
   "cell_type": "markdown",
   "id": "69e90b07",
   "metadata": {},
   "source": [
    "    Members of one class to another class. Only one parent and one child.\n",
    "    \n",
    "    class P:\n",
    "        def method1(self):\n",
    "            print('Parent method')\n",
    "        \n",
    "    class C(P):\n",
    "        def method2(self)\n",
    "            print('Child Method')\n",
    "            \n",
    "    c = C()    \n",
    "    c.method1()\n",
    "    c.method2()"
   ]
  },
  {
   "cell_type": "markdown",
   "id": "489149a2",
   "metadata": {},
   "source": [
    "##### 2. Multi-level Inheritance"
   ]
  },
  {
   "cell_type": "markdown",
   "id": "ed60dbe8",
   "metadata": {},
   "source": [
    "    class GF:\n",
    "        def method1(self):\n",
    "            print('Grand Father')\n",
    "\n",
    "    class F(GF):\n",
    "        def method2(self):\n",
    "            print('Father')\n",
    "\n",
    "    class S(F):\n",
    "        def method3(self):\n",
    "            print('Son')\n",
    "\n",
    "    s = S()\n",
    "    s.method1()\n",
    "    s.method2()\n",
    "    s.method3()"
   ]
  },
  {
   "cell_type": "markdown",
   "id": "f89f02ea",
   "metadata": {},
   "source": [
    "##### 3. Hierarchical Inheritance"
   ]
  },
  {
   "cell_type": "markdown",
   "id": "6c2dcada",
   "metadata": {},
   "source": [
    "    Parent is only one with multiple children."
   ]
  },
  {
   "cell_type": "markdown",
   "id": "50f96246",
   "metadata": {},
   "source": [
    "    class P:\n",
    "        def method1(self):\n",
    "            print('Parent')\n",
    "\n",
    "    class C1(P):\n",
    "        def method2(self):\n",
    "            print('Child 1')\n",
    "\n",
    "    class C2(P):\n",
    "        def method3(self):\n",
    "            print('Child 2')\n",
    "\n",
    "    c1 = C1()\n",
    "    c1.method1()\n",
    "    c1.method2()\n",
    "\n",
    "    c2 = C2()\n",
    "    c2.method1()\n",
    "    c2.method3()"
   ]
  },
  {
   "cell_type": "markdown",
   "id": "bfebe527",
   "metadata": {},
   "source": [
    "###### Notes on super()"
   ]
  },
  {
   "cell_type": "markdown",
   "id": "80876151",
   "metadata": {},
   "source": [
    "    We cannot call instance variables by using super(). Instance variables can only be called using 'self'."
   ]
  },
  {
   "cell_type": "markdown",
   "id": "762803d0",
   "metadata": {},
   "source": [
    "    class P:\n",
    "        a = 10\n",
    "\n",
    "        def __init__(self):\n",
    "            self.b = 20\n",
    "\n",
    "    class C(P):\n",
    "        def method1(self):\n",
    "            print(super().a)\n",
    "\n",
    "    c = C()\n",
    "\n",
    "    c.method1()"
   ]
  },
  {
   "cell_type": "markdown",
   "id": "cc9e0c92",
   "metadata": {},
   "source": [
    "    # How to acces b variable in the above code?\n",
    "\n",
    "    class P:\n",
    "        a = 10\n",
    "\n",
    "        def __init__(self):\n",
    "            self.b = 20\n",
    "\n",
    "    class C(P):\n",
    "        def method1(self):\n",
    "            print(super().a)\n",
    "            print(super().b) # this line will throw error. you cannot access instance variable\n",
    "\n",
    "    c = C()\n",
    "\n",
    "    c.method1()\n",
    "\n",
    "\n",
    "    Inside parent class we can have:\n",
    "    \n",
    "        1. static variables\n",
    "        2. instance variables # super() method can't access this.\n",
    "        3. instance methods\n",
    "        4. class methods\n",
    "        5. static methods"
   ]
  },
  {
   "cell_type": "markdown",
   "id": "5e9b1c5f",
   "metadata": {},
   "source": [
    "##### Where can we use super()?"
   ]
  },
  {
   "cell_type": "markdown",
   "id": "d3453a18",
   "metadata": {},
   "source": [
    "    class P:\n",
    "        a = 10\n",
    "\n",
    "        def __init__(self):\n",
    "            self.b = 20\n",
    "\n",
    "    class C(P):\n",
    "        def method1(self):\n",
    "            print(super().a)\n",
    "\n",
    "    c = C()\n",
    "\n",
    "    c.method1()"
   ]
  },
  {
   "cell_type": "markdown",
   "id": "74e03ce3",
   "metadata": {},
   "source": [
    "    Inside Child Class:\n",
    "    \n",
    "    1. Instance Method\n",
    "        No restrictions to use super()"
   ]
  },
  {
   "cell_type": "markdown",
   "id": "2bdd2311",
   "metadata": {},
   "source": [
    "    class P:\n",
    "        a = 10\n",
    "\n",
    "        def __init__(self):\n",
    "            self.b = 20\n",
    "            print('Constructor')\n",
    "\n",
    "    class C(P):\n",
    "\n",
    "        a = 20 \n",
    "\n",
    "        def method1(self):\n",
    "            print(super().a)\n",
    "            print(self.a)\n",
    "\n",
    "    c = C()\n",
    "\n",
    "    c.method1()"
   ]
  },
  {
   "cell_type": "markdown",
   "id": "11cd8376",
   "metadata": {},
   "source": [
    "    class P:\n",
    "\n",
    "        a = 10\n",
    "\n",
    "        def __init__(self):\n",
    "            print('Constructor')\n",
    "\n",
    "        def method1(self):\n",
    "            print('Instance Method')\n",
    "\n",
    "        @classmethod\n",
    "        def method2(cls):\n",
    "            print('Class Method')\n",
    "\n",
    "        @staticmethod\n",
    "        def method3():\n",
    "            print('Static Method')\n",
    "\n",
    "    class C(P):\n",
    "        def method1(self):\n",
    "            print(super().a)\n",
    "            super().__init__()\n",
    "            super().method1()\n",
    "            super().method2()\n",
    "            super().method3()\n",
    "\n",
    "    c = C()\n",
    "\n",
    "    c.method1()"
   ]
  },
  {
   "cell_type": "markdown",
   "id": "200acdc9",
   "metadata": {},
   "source": [
    "    2. Constructor Method\n",
    "        \n",
    "        We can use it here too, there are no restrictions."
   ]
  },
  {
   "cell_type": "markdown",
   "id": "1e5131f5",
   "metadata": {},
   "source": [
    "    class P:\n",
    "\n",
    "        a = 10\n",
    "\n",
    "        def __init__(self):\n",
    "            print('Constructor')\n",
    "\n",
    "        def method1(self):\n",
    "            print('Instance Method')\n",
    "\n",
    "        @classmethod\n",
    "        def method2(cls):\n",
    "            print('Class Method')\n",
    "\n",
    "        @staticmethod\n",
    "        def method3():\n",
    "            print('Static Method')\n",
    "\n",
    "    class C(P):\n",
    "        def __init__(self):\n",
    "            print(super().a)\n",
    "            super().__init__()\n",
    "            super().method1()\n",
    "            super().method2()\n",
    "            super().method3()\n",
    "\n",
    "    c = C()\n",
    "\n",
    "    c.method1()"
   ]
  },
  {
   "cell_type": "markdown",
   "id": "bf1b57a9",
   "metadata": {},
   "source": [
    "    3. Class Method\n",
    "    \n",
    "        From child class, class method we cannot call parent class constructor by using super()"
   ]
  },
  {
   "cell_type": "markdown",
   "id": "dca3e954",
   "metadata": {},
   "source": [
    "    class P:\n",
    "\n",
    "        a = 10\n",
    "\n",
    "        def __init__(self):\n",
    "            print('Constructor')\n",
    "\n",
    "        def method1(self):\n",
    "            print('Instance Method')\n",
    "\n",
    "        @classmethod\n",
    "        def method2(cls):\n",
    "            print('Class Method')\n",
    "\n",
    "        @staticmethod\n",
    "        def method3():\n",
    "            print('Static Method')\n",
    "\n",
    "    class C(P):\n",
    "\n",
    "        @classmethod\n",
    "        def method1(cls):\n",
    "            print(super().a)\n",
    "            super().__init__() # this line is throwing the error\n",
    "            super().method1()\n",
    "            super().method2()\n",
    "            super().method3()\n",
    "\n",
    "    c = C()\n",
    "\n",
    "    c.method1()"
   ]
  },
  {
   "cell_type": "markdown",
   "id": "14965d6f",
   "metadata": {},
   "source": [
    "    After commenting the super().__init__(), will it work?\n",
    "    \n",
    "        You cannot access instance method. But you can still access classmethod and staticmethod.\n",
    "        \n",
    "        Why does this happen? Instance method and constructor method always talk about objects. Without the objects super().__init__() and super().method1() doesn't work."
   ]
  },
  {
   "cell_type": "markdown",
   "id": "9d0496e2",
   "metadata": {},
   "source": [
    "    class P:\n",
    "\n",
    "        a = 10\n",
    "\n",
    "        def __init__(self):\n",
    "            print('Constructor')\n",
    "\n",
    "        def method1(self):\n",
    "            print('Instance Method')\n",
    "\n",
    "        @classmethod\n",
    "        def method2(cls):\n",
    "            print('Class Method')\n",
    "\n",
    "        @staticmethod\n",
    "        def method3():\n",
    "            print('Static Method')\n",
    "\n",
    "    class C(P):\n",
    "        @classmethod\n",
    "        def method1(cls):\n",
    "            print(super().a)\n",
    "            #super().__init__() # still this throws error even after commenting this method\n",
    "            super().method1()\n",
    "            super().method2()\n",
    "            super().method3()\n",
    "\n",
    "    c = C()\n",
    "\n",
    "    c.method1()"
   ]
  },
  {
   "cell_type": "markdown",
   "id": "858b4e0d",
   "metadata": {},
   "source": [
    "    4. Static Method\n",
    "    \n",
    "        Inside child-class staticmethod we cannot use super() method."
   ]
  },
  {
   "cell_type": "markdown",
   "id": "941bf6d6",
   "metadata": {},
   "source": [
    "    class P:\n",
    "\n",
    "        a = 10\n",
    "\n",
    "        def __init__(self):\n",
    "            print('Constructor')\n",
    "\n",
    "        def method1(self):\n",
    "            print('Instance Method')\n",
    "\n",
    "        @classmethod\n",
    "        def method2(cls):\n",
    "            print('Class Method')\n",
    "\n",
    "        @staticmethod\n",
    "        def method3():\n",
    "            print('Static Method')\n",
    "\n",
    "    class C(P):\n",
    "\n",
    "        @staticmethod\n",
    "        def method1():\n",
    "            #print(super().a) # the problem arises here itself. It throws an error.\n",
    "            #super().__init__() # throws error\n",
    "            #super().method1() # throws error\n",
    "            #super().method2() # throws error\n",
    "            #super().method3() throws error\n",
    "            pass\n",
    "\n",
    "    c = C()\n",
    "\n",
    "    c.method1()"
   ]
  },
  {
   "cell_type": "markdown",
   "id": "d7c52a02",
   "metadata": {},
   "source": [
    "##### 4. Multiple Inheritance"
   ]
  },
  {
   "cell_type": "markdown",
   "id": "a2a6f6a2",
   "metadata": {},
   "source": [
    "    From multiple parent sto one child.\n",
    "    \n",
    "    class P1:\n",
    "        ...\n",
    "        ...\n",
    "        pass\n",
    "    \n",
    "    class P2:\n",
    "        ...\n",
    "        ...\n",
    "        pass\n",
    "        \n",
    "    class C(P1, P2):\n",
    "        ...\n",
    "        ...\n",
    "        pass"
   ]
  },
  {
   "cell_type": "markdown",
   "id": "ddb0c2c2",
   "metadata": {},
   "source": [
    "    class Father:\n",
    "\n",
    "        def height(self):\n",
    "            print('Height is 6 feet')\n",
    "\n",
    "    class Mother:\n",
    "\n",
    "        def color(self):\n",
    "            print('Brown color')\n",
    "\n",
    "    class Child(Father, Mother):\n",
    "        pass\n",
    "\n",
    "    c = Child()\n",
    "\n",
    "    c.height()\n",
    "    c.color()"
   ]
  },
  {
   "cell_type": "markdown",
   "id": "f51dd046",
   "metadata": {},
   "source": [
    "    class P1:\n",
    "\n",
    "        def method1(self):\n",
    "            print('P1 method 1')\n",
    "\n",
    "    class P2:\n",
    "\n",
    "        def method1(self):\n",
    "            print('P2 method 2')\n",
    "\n",
    "    class C(P1, P2):\n",
    "        pass\n",
    "\n",
    "    c = C()\n",
    "    c.method1() # P1 method1() will be accessed first. If method1() is not available in the P1 class then it will check for method1() in P2 class."
   ]
  },
  {
   "cell_type": "markdown",
   "id": "57a00954",
   "metadata": {},
   "source": [
    "    class P1:\n",
    "\n",
    "        def method1(self):\n",
    "            print('P1 method 1')\n",
    "\n",
    "    class P2:\n",
    "\n",
    "        def method1(self):\n",
    "            print('P2 method 2')\n",
    "\n",
    "    class C(P2, P1): # of we change the order\n",
    "        pass\n",
    "\n",
    "    c = C()\n",
    "    c.method1() # P2 method1() will be accessed first."
   ]
  },
  {
   "cell_type": "markdown",
   "id": "243a7fe1",
   "metadata": {},
   "source": [
    "##### 5. Cyclic Inheritance"
   ]
  },
  {
   "cell_type": "markdown",
   "id": "a4fd054f",
   "metadata": {},
   "source": [
    "    class A(B):\n",
    "        ...\n",
    "        pass\n",
    "    class B(A):\n",
    "        ...\n",
    "        pass\n",
    "\n",
    "    #This type is not allowed in python.\n",
    "\n",
    "    Why is it not allowed?\n",
    "\n",
    "    If A and B class are equal thenwhy require a cyclic relationship?"
   ]
  },
  {
   "cell_type": "markdown",
   "id": "a9b5d30d",
   "metadata": {},
   "source": [
    "##### 6. Hybrid Inheritance"
   ]
  },
  {
   "cell_type": "markdown",
   "id": "a43d6c09",
   "metadata": {},
   "source": [
    "    Combination of all the previous Inheritance types is hybrid inheritance.\n",
    "    Single\n",
    "    Multiple\n",
    "    Multilevel\n",
    "    Hierarchical    "
   ]
  },
  {
   "cell_type": "markdown",
   "id": "f79fb54a",
   "metadata": {},
   "source": [
    "## Method Resolution Order - MRO"
   ]
  },
  {
   "cell_type": "markdown",
   "id": "89a131db",
   "metadata": {},
   "source": [
    "    Internally it follows C3 algortihm. \n",
    "    Linearisation - in which order?\n",
    "    \n",
    "    Samuel Pedroni\n",
    "    \n",
    "    If Python requres any method?\n",
    "        1. First priority is always for child class\n",
    "        2. If Child class does't contain then only Parent class method will be executed.\n",
    "        3. If multiple parents available then Python will consider from left to right (declration in class).\n",
    "            example: class C(P1, P2, P3): pass # from left to right i.e P1 to P3.\n",
    "        4. In MRO Python will consider/visit any class only once.\n",
    "        \n",
    "        "
   ]
  },
  {
   "cell_type": "markdown",
   "id": "1312dacf",
   "metadata": {},
   "source": [
    "    class P1: pass\n",
    "    class P2: pass\n",
    "    class C(P1, P2): pass\n",
    "    print(C.mro())"
   ]
  },
  {
   "cell_type": "markdown",
   "id": "9e47bdfc",
   "metadata": {},
   "source": [
    "##### Linearization"
   ]
  },
  {
   "cell_type": "markdown",
   "id": "197eb7f4",
   "metadata": {},
   "source": [
    "    L(C) = C + merge(L(P1), L(P2),,,, ParentList)\n",
    "\n",
    "    L(C) = C + merge(L(P1), L(P2), P1P2)"
   ]
  },
  {
   "cell_type": "markdown",
   "id": "3678774f",
   "metadata": {},
   "source": [
    "    merge(P1P2P3, P1P3P4,P1P2)\n",
    "\n",
    "    P1 is head element\n",
    "    All remaining is tail element\n",
    "    If head is not present in tail part of any other list then consider that class in the result."
   ]
  },
  {
   "cell_type": "markdown",
   "id": "5dcd7a5d",
   "metadata": {},
   "source": [
    "# Polymorphism"
   ]
  },
  {
   "cell_type": "markdown",
   "id": "93dcdcbb",
   "metadata": {},
   "source": [
    "    One but multiple/many forms.\n",
    "\n",
    "    + operator\n",
    "\n",
    "    10+20 >>> 30\n",
    "    'Sid'+'Sid' >>> SidSid\n",
    "\n",
    "    10*20 >>> 200\n",
    "    'Sid'*2 >>> SidSid"
   ]
  },
  {
   "cell_type": "markdown",
   "id": "dcf16811",
   "metadata": {},
   "source": [
    "##### Method Overloading an example for polymorphism"
   ]
  },
  {
   "cell_type": "markdown",
   "id": "dd0fd4e3",
   "metadata": {},
   "source": [
    "    deposit(cash)\n",
    "    deposit(cheque)\n",
    "    deposit(DD)\n",
    "\n",
    "    Same name but multiple number/different arguments types"
   ]
  },
  {
   "cell_type": "code",
   "execution_count": 1,
   "id": "5578a554",
   "metadata": {},
   "outputs": [],
   "source": [
    "class P:\n",
    "    def marry(self):\n",
    "        print(\"Subba Laxmi\")\n",
    "        \n",
    "class C(P):\n",
    "    def marry(self):\n",
    "        print(\"Katrina\") #this is known as overriding, bes example of polymorphism"
   ]
  },
  {
   "cell_type": "markdown",
   "id": "597cffb6",
   "metadata": {},
   "source": [
    "    Important topics in Polymorphism\n",
    "\n",
    "    1. Duck Typing Philosophy in Python\n",
    "    2. Overloading\n",
    "        Operator overloading\n",
    "        Method overloading\n",
    "        Constructor overloading\n",
    "    3. Overriding\n",
    "        Method Overriding\n",
    "        Constructor overriding"
   ]
  },
  {
   "cell_type": "markdown",
   "id": "449ca671",
   "metadata": {},
   "source": [
    "#### 1. Duck Typing Philosophy in Python"
   ]
  },
  {
   "cell_type": "markdown",
   "id": "648152d2",
   "metadata": {},
   "source": [
    "    Dynamically typed programing language\n",
    "\n",
    "    We can't decide the type at the beginning. It happens at the run time.\n",
    "\n",
    "    How to decide whether Duck object is coming?\n",
    "\n",
    "        If it walks like a duck and talks like a duck then it is duck. Because there is no way to know the type of objects in Pyhton. This is Duck Typing Philosophy of Python."
   ]
  },
  {
   "cell_type": "code",
   "execution_count": 2,
   "id": "3fff53d4",
   "metadata": {},
   "outputs": [
    {
     "name": "stdout",
     "output_type": "stream",
     "text": [
      "Quack Quack Quack Quack...\n",
      "Bow Bow Bow Bow...\n",
      "Meaa Meaa Meaa Meaa...\n",
      "Mew Mew Mew Mew...\n",
      "Quack Quack Quack Quack...\n",
      "Bow Bow Bow Bow...\n",
      "Meaa Meaa Meaa Meaa...\n",
      "Mew Mew Mew Mew...\n"
     ]
    }
   ],
   "source": [
    "class Duck:\n",
    "    \n",
    "    def talk(self):\n",
    "        print(\"Quack Quack Quack Quack...\")\n",
    "        \n",
    "class Dog:\n",
    "    \n",
    "    def talk(self):\n",
    "        print(\"Bow Bow Bow Bow...\")\n",
    "\n",
    "class Cat:\n",
    "    \n",
    "    def talk(self):\n",
    "        print(\"Mew Mew Mew Mew...\")\n",
    "\n",
    "class Goat:\n",
    "    \n",
    "    def talk(self):\n",
    "        print(\"Meaa Meaa Meaa Meaa...\")\n",
    "        \n",
    "l = [Duck(), Dog(), Goat(), Cat()]\n",
    "\n",
    "for obj in l:\n",
    "    obj.talk()\n",
    "    \n",
    "for obj in l:\n",
    "    if hasattr(obj, 'talk'):\n",
    "        obj.talk()\n",
    "    elif hasattr(obj, 'bark'):\n",
    "        obj.talk()"
   ]
  },
  {
   "cell_type": "markdown",
   "id": "e9d043b9",
   "metadata": {},
   "source": [
    "#### 2. Overloading"
   ]
  },
  {
   "cell_type": "markdown",
   "id": "2456f844",
   "metadata": {},
   "source": [
    "##### 1. Operator Overloading"
   ]
  },
  {
   "cell_type": "markdown",
   "id": "887a7ccf",
   "metadata": {},
   "source": [
    "    + operator is overloaded\n",
    "        Same operator we are using for multiple purposes is called operator overloading.\n",
    "\n",
    "    * operator\n",
    "\n",
    "    class Book:\n",
    "\n",
    "        def __init__(self, pages):\n",
    "            self.pages = pages\n",
    "\n",
    "    b1 = Book(100)\n",
    "    b2 = Book(200)\n",
    "\n",
    "    print('Total pages: ', b1+b2) # throws an error : TypeError: unsupported operand type(s) for +: 'Book' and 'Book'\n",
    "\n",
    "    You need to define your own operator overload methods.\n",
    "\n",
    "    Every operator there is a method associated with it. Such methods are called magic methods.\n",
    "\n",
    "    Magic method for + is __add__()"
   ]
  },
  {
   "cell_type": "code",
   "execution_count": 3,
   "id": "0f21bd92",
   "metadata": {},
   "outputs": [
    {
     "name": "stdout",
     "output_type": "stream",
     "text": [
      "Total pages:  300\n"
     ]
    }
   ],
   "source": [
    "class Book:\n",
    "\n",
    "    def __init__(self, pages):\n",
    "        self.pages = pages\n",
    "    \n",
    "    def __add__(self, other): # other here is other object that is to be passed\n",
    "        return self.pages + other.pages\n",
    "\n",
    "b1 = Book(100)\n",
    "b2 = Book(200)\n",
    "print('Total pages: ', b1+b2)"
   ]
  },
  {
   "cell_type": "markdown",
   "id": "695046f4",
   "metadata": {},
   "source": [
    "    + operator is applicable fo rnumbers, strings and now Book class. This is nothing but operator overloading."
   ]
  },
  {
   "cell_type": "markdown",
   "id": "d35bdb75",
   "metadata": {},
   "source": [
    "##### 2. Method Overloading"
   ]
  },
  {
   "cell_type": "markdown",
   "id": "a0c6cc1e",
   "metadata": {},
   "source": [
    "    This is not applicable in python\n",
    "    \n",
    "    If is possible to declare different methods with same name in python and it is possible. But method overloading is not possible.\n",
    "    \n",
    "    It is possible because the latest method will replace the previous method. Only the last declared method is available."
   ]
  },
  {
   "cell_type": "code",
   "execution_count": 7,
   "id": "3e43fdcc",
   "metadata": {},
   "outputs": [
    {
     "name": "stdout",
     "output_type": "stream",
     "text": [
      "Third method 1\n"
     ]
    },
    {
     "ename": "TypeError",
     "evalue": "method1() takes 3 positional arguments but 4 were given",
     "output_type": "error",
     "traceback": [
      "\u001b[1;31m---------------------------------------------------------------------------\u001b[0m",
      "\u001b[1;31mTypeError\u001b[0m                                 Traceback (most recent call last)",
      "\u001b[1;32m~\\AppData\\Local\\Temp/ipykernel_8780/634541423.py\u001b[0m in \u001b[0;36m<module>\u001b[1;34m\u001b[0m\n\u001b[0;32m     15\u001b[0m \u001b[1;31m#t.method1(10)\u001b[0m\u001b[1;33m\u001b[0m\u001b[1;33m\u001b[0m\u001b[0m\n\u001b[0;32m     16\u001b[0m \u001b[0mt\u001b[0m\u001b[1;33m.\u001b[0m\u001b[0mmethod1\u001b[0m\u001b[1;33m(\u001b[0m\u001b[1;36m10\u001b[0m\u001b[1;33m,\u001b[0m\u001b[1;36m20\u001b[0m\u001b[1;33m)\u001b[0m\u001b[1;33m\u001b[0m\u001b[1;33m\u001b[0m\u001b[0m\n\u001b[1;32m---> 17\u001b[1;33m \u001b[0mt\u001b[0m\u001b[1;33m.\u001b[0m\u001b[0mmethod1\u001b[0m\u001b[1;33m(\u001b[0m\u001b[1;36m10\u001b[0m\u001b[1;33m,\u001b[0m\u001b[1;36m20\u001b[0m\u001b[1;33m,\u001b[0m\u001b[1;36m30\u001b[0m\u001b[1;33m)\u001b[0m\u001b[1;33m\u001b[0m\u001b[1;33m\u001b[0m\u001b[0m\n\u001b[0m",
      "\u001b[1;31mTypeError\u001b[0m: method1() takes 3 positional arguments but 4 were given"
     ]
    }
   ],
   "source": [
    "class Test:\n",
    "    \n",
    "    def method1():\n",
    "        print('First method 1')\n",
    "    \n",
    "    def method1(self,a):\n",
    "        print('Second method 1')\n",
    "    \n",
    "    def method1(self, a,b):\n",
    "        print('Third method 1')\n",
    "    \n",
    "t = Test()\n",
    "\n",
    "#t.method1()\n",
    "#t.method1(10)\n",
    "t.method1(10,20)\n",
    "t.method1(10,20,30)"
   ]
  },
  {
   "cell_type": "markdown",
   "id": "ee3cff02",
   "metadata": {},
   "source": [
    "    But there is a way to handle. There are two ways to handle this situation i.e. overloading.\n",
    "        1. With default arguments\n",
    "        2. With variable number of arguments    "
   ]
  },
  {
   "cell_type": "code",
   "execution_count": 8,
   "id": "5ce120b7",
   "metadata": {},
   "outputs": [],
   "source": [
    "# 1. Default Arguments\n",
    "\n",
    "class Test:\n",
    "    def sum(self, a=None, b=None, c=None):\n",
    "        if a != None and b != None and c != None:\n",
    "            print('The Sum: ', a+b+c)\n",
    "            \n",
    "        elif a != None and b != None:\n",
    "            print('The Sum: ', a+b)\n",
    "            \n",
    "        else:\n",
    "            print('Two or three values only.')\n",
    "            "
   ]
  },
  {
   "cell_type": "code",
   "execution_count": 12,
   "id": "63c0f8ef",
   "metadata": {},
   "outputs": [
    {
     "name": "stdout",
     "output_type": "stream",
     "text": [
      "The Sum:  30\n",
      "The Sum:  60\n",
      "The Sum:  100\n"
     ]
    }
   ],
   "source": [
    "# 2. Variable number of arguments\n",
    "\n",
    "class Test:\n",
    "    def sum(self, *n):\n",
    "        total = 0\n",
    "        \n",
    "        for n1 in n:\n",
    "            total = total + n1\n",
    "            \n",
    "        print('The Sum: ', total)\n",
    "        \n",
    "t = Test()\n",
    "\n",
    "t.sum(10,20)\n",
    "t.sum(10,20,30)\n",
    "t.sum(10,20,30,40)"
   ]
  },
  {
   "cell_type": "markdown",
   "id": "87cf117a",
   "metadata": {},
   "source": [
    "##### 3. Constructor Overloading"
   ]
  },
  {
   "cell_type": "markdown",
   "id": "d6f5f3e7",
   "metadata": {},
   "source": [
    "    Constructor overloading is not available in python.\n",
    "    \n",
    "    Only the last/recent declared constructor is executed. Same as in method overloading."
   ]
  },
  {
   "cell_type": "code",
   "execution_count": 16,
   "id": "fc9f60f4",
   "metadata": {},
   "outputs": [
    {
     "name": "stdout",
     "output_type": "stream",
     "text": [
      "Two argument constructor\n"
     ]
    }
   ],
   "source": [
    "class Test:\n",
    "    def __init__(self):\n",
    "        print('No argument constructor')\n",
    "        \n",
    "    def __init__(self, a):\n",
    "        print('One argument constructor')\n",
    "        \n",
    "    def __init__(self, a, b):\n",
    "        print('Two argument constructor')\n",
    "        \n",
    "t = Test(10,20)"
   ]
  },
  {
   "cell_type": "markdown",
   "id": "f0098eef",
   "metadata": {},
   "source": [
    "#### 3. Overriding"
   ]
  },
  {
   "cell_type": "markdown",
   "id": "df763751",
   "metadata": {},
   "source": [
    "    What ever methods/constructor available in the parent class by default are available to the child class.\n",
    "    \n",
    "    Sometime child-class may not stisfy with the implementation of parent-class. Then the child-class is allowed to modify/change/redefine based on its requirement. This is nothing but overriding concept."
   ]
  },
  {
   "cell_type": "code",
   "execution_count": 17,
   "id": "a507ef65",
   "metadata": {},
   "outputs": [
    {
     "name": "stdout",
     "output_type": "stream",
     "text": [
      "Property\n",
      "Marriage\n"
     ]
    }
   ],
   "source": [
    "class P:\n",
    "    def property(self):\n",
    "        print('Property')\n",
    "        \n",
    "    def marriage(self):\n",
    "        print('Marriage')\n",
    "        \n",
    "class C(P): pass\n",
    "\n",
    "c = C()\n",
    "\n",
    "c.property()\n",
    "c.marriage()"
   ]
  },
  {
   "cell_type": "markdown",
   "id": "7dc60f09",
   "metadata": {},
   "source": [
    "    Child can be overrode. Here in example if the child doesn't satisfy"
   ]
  },
  {
   "cell_type": "code",
   "execution_count": 18,
   "id": "3c9998ed",
   "metadata": {},
   "outputs": [
    {
     "name": "stdout",
     "output_type": "stream",
     "text": [
      "Property\n",
      "Marriage 2\n"
     ]
    }
   ],
   "source": [
    "class P:\n",
    "    def property(self):\n",
    "        print('Property')\n",
    "        \n",
    "    def marriage(self):\n",
    "        print('Marriage 1')\n",
    "        \n",
    "class C(P):\n",
    "    def marriage(self):     # this is nothing but method overriding.\n",
    "        print('Marriage 2')\n",
    "\n",
    "c = C()\n",
    "\n",
    "c.property()\n",
    "c.marriage()"
   ]
  },
  {
   "cell_type": "markdown",
   "id": "b3831895",
   "metadata": {},
   "source": [
    "    What if I want some extra functionality in parent-class? That is possible too. And this too is called"
   ]
  },
  {
   "cell_type": "code",
   "execution_count": 19,
   "id": "d486c13f",
   "metadata": {},
   "outputs": [
    {
     "name": "stdout",
     "output_type": "stream",
     "text": [
      "Property\n",
      "Marriage 1\n",
      "Marriage 2\n"
     ]
    }
   ],
   "source": [
    "class P:\n",
    "    def property(self):\n",
    "        print('Property')\n",
    "        \n",
    "    def marriage(self):\n",
    "        print('Marriage 1')\n",
    "        \n",
    "class C(P):\n",
    "    def marriage(self):     # this is nothing but method overriding.\n",
    "        super().marriage()  # both the methods get executed here. i.e from parent-class too.\n",
    "        print('Marriage 2')\n",
    "\n",
    "c = C()\n",
    "\n",
    "c.property()\n",
    "c.marriage()"
   ]
  },
  {
   "cell_type": "code",
   "execution_count": 20,
   "id": "740da099",
   "metadata": {},
   "outputs": [],
   "source": [
    "class Loan:\n",
    "    \n",
    "    def interest_rate(self):\n",
    "        return 10.5\n",
    "    \n",
    "class GoldLoad:\n",
    "    \n",
    "    def interest_rate(self):\n",
    "        return 14.5\n",
    "    \n",
    "class CarLoan:\n",
    "    \n",
    "    def interest_rate(self):\n",
    "        return 8.5\n",
    "    "
   ]
  },
  {
   "cell_type": "markdown",
   "id": "012ea450",
   "metadata": {},
   "source": [
    "#### 2. Constructor Overriding"
   ]
  },
  {
   "cell_type": "code",
   "execution_count": 21,
   "id": "66ee7395",
   "metadata": {},
   "outputs": [
    {
     "name": "stdout",
     "output_type": "stream",
     "text": [
      "Parent Constructor\n"
     ]
    }
   ],
   "source": [
    "class P:\n",
    "    \n",
    "    def __init__(self):\n",
    "        print('Parent Constructor')\n",
    "        \n",
    "class C(P): pass\n",
    "\n",
    "c = C() # parent constructor executes."
   ]
  },
  {
   "cell_type": "code",
   "execution_count": 22,
   "id": "42752cfa",
   "metadata": {},
   "outputs": [
    {
     "name": "stdout",
     "output_type": "stream",
     "text": [
      "Child Constructor\n"
     ]
    }
   ],
   "source": [
    "class P:\n",
    "    \n",
    "    def __init__(self):\n",
    "        print('Parent Constructor')\n",
    "        \n",
    "class C(P):\n",
    "    \n",
    "    def __init__(self):\n",
    "        print('Child Constructor')\n",
    "\n",
    "c = C() # child constructor executes."
   ]
  },
  {
   "cell_type": "markdown",
   "id": "0a8c60bd",
   "metadata": {},
   "source": [
    "    If you want ot call parent constructor we can do it, there is a way:"
   ]
  },
  {
   "cell_type": "code",
   "execution_count": 23,
   "id": "e676c19a",
   "metadata": {},
   "outputs": [
    {
     "name": "stdout",
     "output_type": "stream",
     "text": [
      "Parent Constructor\n",
      "Child Constructor\n"
     ]
    }
   ],
   "source": [
    "class P:\n",
    "    \n",
    "    def __init__(self):\n",
    "        print('Parent Constructor')\n",
    "        \n",
    "class C(P):\n",
    "    \n",
    "    def __init__(self):\n",
    "        super().__init__()     # now this line executes the constructor from the parent-class\n",
    "        print('Child Constructor')\n",
    "\n",
    "c = C() # both constructors executes from parent as well as."
   ]
  },
  {
   "cell_type": "code",
   "execution_count": 29,
   "id": "ced77034",
   "metadata": {},
   "outputs": [
    {
     "name": "stdout",
     "output_type": "stream",
     "text": [
      "Name: Sid, Age: 33, E-Number: 12345, E-Salary: 45000\n",
      "Name: Plato, Age: 33, E-Number: 12345678, E-Salary: 45000000\n"
     ]
    }
   ],
   "source": [
    "class Person:\n",
    "    def __init__(self, name, age):\n",
    "        self.name = name\n",
    "        self.age = age\n",
    "        \n",
    "class Employee(Person):\n",
    "    def __init__(self, name, age, eno, esal):\n",
    "        super().__init__(name, age)\n",
    "        self.eno = eno\n",
    "        self.esal = esal\n",
    "        \n",
    "    def display(self):\n",
    "        print(f'Name: {self.name}, Age: {self.age}, E-Number: {self.eno}, E-Salary: {self.esal}')\n",
    "        \n",
    "e = Employee('Sid', 33, 12345, 45000)\n",
    "e.display()\n",
    "\n",
    "e = Employee('Plato', 33, 12345678, 45000000)\n",
    "e.display()"
   ]
  },
  {
   "cell_type": "markdown",
   "id": "2d6c3927",
   "metadata": {},
   "source": [
    "# Abstraction"
   ]
  },
  {
   "cell_type": "markdown",
   "id": "a918dfae",
   "metadata": {},
   "source": [
    "    There three types:\n",
    "        \n",
    "        1. Abstract Method\n",
    "        2. Abstract Class\n",
    "        3. Interface"
   ]
  },
  {
   "cell_type": "markdown",
   "id": "7da4cac4",
   "metadata": {},
   "source": [
    "#### 1. Abstract Method"
   ]
  },
  {
   "cell_type": "markdown",
   "id": "ff113a17",
   "metadata": {},
   "source": [
    "    Abstract means not complete.\n",
    "    \n",
    "    Methods that are only declared but without proper implementation.\n",
    "    \n",
    "    Syntactically it is valid but it is not meaningful."
   ]
  },
  {
   "cell_type": "code",
   "execution_count": 2,
   "id": "fc12e626",
   "metadata": {},
   "outputs": [],
   "source": [
    "from abc import * # importing @abstractmethod decorator\n",
    "\n",
    "class Vehicle:    \n",
    "    @abstractmethod         # this decorator is needed to be used.\n",
    "    def getNoOfWheels(self):\n",
    "        pass\n",
    "    \n",
    "class Fruit:\n",
    "    @abstractmethod\n",
    "    def taste(self):\n",
    "        pass\n",
    "        "
   ]
  },
  {
   "cell_type": "markdown",
   "id": "0ee8088b",
   "metadata": {},
   "source": [
    "#### 2. Abstract Class"
   ]
  },
  {
   "cell_type": "markdown",
   "id": "b6d0cf3e",
   "metadata": {},
   "source": [
    "    The class is not having full implementation. Such classes are called abstract class.\n",
    "    \n",
    "    Partially implemented classes.\n",
    "    \n",
    "    Every abstract class should be a child class or ABC class. ABC module is there and ABC class is also there.\n",
    "    \n",
    "    ABC means - Abstract Base Class"
   ]
  },
  {
   "cell_type": "code",
   "execution_count": 4,
   "id": "444772b7",
   "metadata": {},
   "outputs": [],
   "source": [
    "from abc import *\n",
    "\n",
    "class Vehicle(ABC):    \n",
    "    @abstractmethod\n",
    "    def getNoOfWheels(self):\n",
    "        pass"
   ]
  },
  {
   "cell_type": "markdown",
   "id": "725c7589",
   "metadata": {},
   "source": [
    "##### Creating object. Possible or Not?"
   ]
  },
  {
   "cell_type": "markdown",
   "id": "bc787ce8",
   "metadata": {},
   "source": [
    "    Is it possible to create an object for abstract class?\n",
    "    \n",
    "    yes it is possible.\n",
    "    \n",
    "    There is one scenario where python is strict, and it is not possible.\n",
    "    \n",
    "    If a class extends ABC class and contains atleate one abstract method, then object creation is not possible"
   ]
  },
  {
   "cell_type": "code",
   "execution_count": 7,
   "id": "a20fe5b5",
   "metadata": {},
   "outputs": [],
   "source": [
    "from abc import *\n",
    "\n",
    "class Vehicle():    # This will not throw error\n",
    "    @abstractmethod\n",
    "    def getNoOfWheels(self):\n",
    "        pass\n",
    "    \n",
    "v = Vehicle()"
   ]
  },
  {
   "cell_type": "code",
   "execution_count": 8,
   "id": "5104c342",
   "metadata": {},
   "outputs": [
    {
     "ename": "TypeError",
     "evalue": "Can't instantiate abstract class Vehicle with abstract method getNoOfWheels",
     "output_type": "error",
     "traceback": [
      "\u001b[1;31m---------------------------------------------------------------------------\u001b[0m",
      "\u001b[1;31mTypeError\u001b[0m                                 Traceback (most recent call last)",
      "\u001b[1;32m~\\AppData\\Local\\Temp/ipykernel_9164/3973348419.py\u001b[0m in \u001b[0;36m<module>\u001b[1;34m\u001b[0m\n\u001b[0;32m      6\u001b[0m         \u001b[1;32mpass\u001b[0m\u001b[1;33m\u001b[0m\u001b[1;33m\u001b[0m\u001b[0m\n\u001b[0;32m      7\u001b[0m \u001b[1;33m\u001b[0m\u001b[0m\n\u001b[1;32m----> 8\u001b[1;33m \u001b[0mv\u001b[0m \u001b[1;33m=\u001b[0m \u001b[0mVehicle\u001b[0m\u001b[1;33m(\u001b[0m\u001b[1;33m)\u001b[0m\u001b[1;33m\u001b[0m\u001b[1;33m\u001b[0m\u001b[0m\n\u001b[0m",
      "\u001b[1;31mTypeError\u001b[0m: Can't instantiate abstract class Vehicle with abstract method getNoOfWheels"
     ]
    }
   ],
   "source": [
    "from abc import *\n",
    "\n",
    "class Vehicle(ABC):    # This will throw error\n",
    "    @abstractmethod\n",
    "    def getNoOfWheels(self):\n",
    "        pass\n",
    "    \n",
    "v = Vehicle()"
   ]
  },
  {
   "cell_type": "markdown",
   "id": "ffa5b232",
   "metadata": {},
   "source": [
    "    Even some concrete (fully implemented) methods, abstract class can contain both abstract methods and normal methods also.\n",
    "    \n",
    "    Child classes are responsible to provide proper implementation of parent class abstract method."
   ]
  },
  {
   "cell_type": "code",
   "execution_count": 10,
   "id": "65e1ae1a",
   "metadata": {},
   "outputs": [
    {
     "ename": "TypeError",
     "evalue": "Can't instantiate abstract class Bus with abstract method getNoOfWheels",
     "output_type": "error",
     "traceback": [
      "\u001b[1;31m---------------------------------------------------------------------------\u001b[0m",
      "\u001b[1;31mTypeError\u001b[0m                                 Traceback (most recent call last)",
      "\u001b[1;32m~\\AppData\\Local\\Temp/ipykernel_9164/2856560709.py\u001b[0m in \u001b[0;36m<module>\u001b[1;34m\u001b[0m\n\u001b[0;32m      9\u001b[0m     \u001b[1;32mpass\u001b[0m\u001b[1;33m\u001b[0m\u001b[1;33m\u001b[0m\u001b[0m\n\u001b[0;32m     10\u001b[0m \u001b[1;33m\u001b[0m\u001b[0m\n\u001b[1;32m---> 11\u001b[1;33m \u001b[0mb\u001b[0m \u001b[1;33m=\u001b[0m \u001b[0mBus\u001b[0m\u001b[1;33m(\u001b[0m\u001b[1;33m)\u001b[0m\u001b[1;33m\u001b[0m\u001b[1;33m\u001b[0m\u001b[0m\n\u001b[0m",
      "\u001b[1;31mTypeError\u001b[0m: Can't instantiate abstract class Bus with abstract method getNoOfWheels"
     ]
    }
   ],
   "source": [
    "from abc import *\n",
    "\n",
    "class Vehicle(ABC):\n",
    "    @abstractmethod\n",
    "    def getNoOfWheels(self):\n",
    "        pass\n",
    "\n",
    "class Bus(Vehicle): # It will throw error because it is the child class of parent class where\n",
    "    pass\n",
    "    \n",
    "b = Bus()"
   ]
  },
  {
   "cell_type": "code",
   "execution_count": 11,
   "id": "3a8e7759",
   "metadata": {},
   "outputs": [
    {
     "name": "stdout",
     "output_type": "stream",
     "text": [
      "7\n"
     ]
    }
   ],
   "source": [
    "from abc import *\n",
    "\n",
    "class Vehicle(ABC):\n",
    "    @abstractmethod\n",
    "    def getNoOfWheels(self):\n",
    "        pass\n",
    "\n",
    "class Bus(Vehicle):\n",
    "    def getNoOfWheels(self):\n",
    "        return 7\n",
    "    \n",
    "b = Bus()\n",
    "\n",
    "print(b.getNoOfWheels())"
   ]
  },
  {
   "cell_type": "code",
   "execution_count": 13,
   "id": "2230d9eb",
   "metadata": {},
   "outputs": [
    {
     "name": "stdout",
     "output_type": "stream",
     "text": [
      "7\n",
      "3\n"
     ]
    }
   ],
   "source": [
    "from abc import *\n",
    "\n",
    "class Vehicle(ABC):\n",
    "    @abstractmethod\n",
    "    def getNoOfWheels(self):\n",
    "        pass\n",
    "\n",
    "class Bus(Vehicle): \n",
    "    def getNoOfWheels(self):\n",
    "        return 7\n",
    "    \n",
    "class Auto(Vehicle): \n",
    "    def getNoOfWheels(self):\n",
    "        return 3\n",
    "    \n",
    "b = Bus()\n",
    "print(b.getNoOfWheels())\n",
    "\n",
    "a = Auto()\n",
    "print(a.getNoOfWheels())"
   ]
  },
  {
   "cell_type": "markdown",
   "id": "04a373bd",
   "metadata": {},
   "source": [
    "#### 3. Interface"
   ]
  },
  {
   "cell_type": "markdown",
   "id": "b2466481",
   "metadata": {},
   "source": [
    "    Officially Python doesn,t have Interface concept.\n",
    "    \n",
    "    But logically you can do this.\n",
    "    \n",
    "    If abstract class contains only abstract methods then it is considered as interface.\n",
    "    \n",
    "    Interface talks of only specification.\n",
    "    \n",
    "        1. If we don't know anything about implementation and we just have requirement specification then we should go for interface."
   ]
  },
  {
   "cell_type": "code",
   "execution_count": 14,
   "id": "288c88a5",
   "metadata": {},
   "outputs": [
    {
     "ename": "TypeError",
     "evalue": "Can't instantiate abstract class ImplementationClass with abstract methods m3, m4",
     "output_type": "error",
     "traceback": [
      "\u001b[1;31m---------------------------------------------------------------------------\u001b[0m",
      "\u001b[1;31mTypeError\u001b[0m                                 Traceback (most recent call last)",
      "\u001b[1;32m~\\AppData\\Local\\Temp/ipykernel_9164/433732243.py\u001b[0m in \u001b[0;36m<module>\u001b[1;34m\u001b[0m\n\u001b[0;32m     26\u001b[0m \u001b[1;33m\u001b[0m\u001b[0m\n\u001b[0;32m     27\u001b[0m \u001b[1;33m\u001b[0m\u001b[0m\n\u001b[1;32m---> 28\u001b[1;33m \u001b[0mc\u001b[0m \u001b[1;33m=\u001b[0m \u001b[0mImplementationClass\u001b[0m\u001b[1;33m(\u001b[0m\u001b[1;33m)\u001b[0m\u001b[1;33m\u001b[0m\u001b[1;33m\u001b[0m\u001b[0m\n\u001b[0m",
      "\u001b[1;31mTypeError\u001b[0m: Can't instantiate abstract class ImplementationClass with abstract methods m3, m4"
     ]
    }
   ],
   "source": [
    "from abc import *\n",
    "\n",
    "class CA(ABC):\n",
    "    \n",
    "    @abstractmethod\n",
    "    def m1(self): pass\n",
    "    \n",
    "    @abstractmethod\n",
    "    def m2(self): pass\n",
    "    \n",
    "    @abstractmethod\n",
    "    def m3(self): pass\n",
    "    \n",
    "    @abstractmethod\n",
    "    def m4(self): pass"
   ]
  },
  {
   "cell_type": "markdown",
   "id": "4b49edfc",
   "metadata": {},
   "source": [
    "    2. If we are talking about implementation but not completely, then go for abstract class (partially implemented class).\n",
    "    \n",
    "    Below you have rewuirement for 4 methods but you provided with only 2"
   ]
  },
  {
   "cell_type": "code",
   "execution_count": 15,
   "id": "3f727f05",
   "metadata": {},
   "outputs": [
    {
     "ename": "TypeError",
     "evalue": "Can't instantiate abstract class ImplementationClass with abstract methods m3, m4",
     "output_type": "error",
     "traceback": [
      "\u001b[1;31m---------------------------------------------------------------------------\u001b[0m",
      "\u001b[1;31mTypeError\u001b[0m                                 Traceback (most recent call last)",
      "\u001b[1;32m~\\AppData\\Local\\Temp/ipykernel_9164/433732243.py\u001b[0m in \u001b[0;36m<module>\u001b[1;34m\u001b[0m\n\u001b[0;32m     26\u001b[0m \u001b[1;33m\u001b[0m\u001b[0m\n\u001b[0;32m     27\u001b[0m \u001b[1;33m\u001b[0m\u001b[0m\n\u001b[1;32m---> 28\u001b[1;33m \u001b[0mc\u001b[0m \u001b[1;33m=\u001b[0m \u001b[0mImplementationClass\u001b[0m\u001b[1;33m(\u001b[0m\u001b[1;33m)\u001b[0m\u001b[1;33m\u001b[0m\u001b[1;33m\u001b[0m\u001b[0m\n\u001b[0m",
      "\u001b[1;31mTypeError\u001b[0m: Can't instantiate abstract class ImplementationClass with abstract methods m3, m4"
     ]
    }
   ],
   "source": [
    "from abc import *\n",
    "\n",
    "class CA(ABC):\n",
    "    \n",
    "    @abstractmethod\n",
    "    def m1(self): pass\n",
    "    \n",
    "    @abstractmethod\n",
    "    def m2(self): pass\n",
    "    \n",
    "    @abstractmethod\n",
    "    def m3(self): pass\n",
    "    \n",
    "    @abstractmethod\n",
    "    def m4(self): pass\n",
    "\n",
    "    \n",
    "    \n",
    "class ImplementationClass(CA):\n",
    "    \n",
    "    def m1(self):\n",
    "        print(\"m1 method implementation\")\n",
    "        \n",
    "    def m2(self):\n",
    "        print(\"m2 method implementation\")\n",
    "    \n",
    "    \n",
    "c = ImplementationClass()"
   ]
  },
  {
   "cell_type": "markdown",
   "id": "c4cf1f63",
   "metadata": {},
   "source": [
    "    3. If we are talking about implementation and ready to provide service then we should go for concrete class."
   ]
  },
  {
   "cell_type": "code",
   "execution_count": 17,
   "id": "bc857e90",
   "metadata": {},
   "outputs": [
    {
     "name": "stdout",
     "output_type": "stream",
     "text": [
      "m1 method implementation\n",
      "m2 method implementation\n",
      "m3 method implementation\n",
      "m4 method implementation\n"
     ]
    }
   ],
   "source": [
    "from abc import *\n",
    "\n",
    "class CA(ABC):     # Interface - only pecifications are given\n",
    "                   # If we didn't prove ABC class then \n",
    "    @abstractmethod\n",
    "    def m1(self): pass\n",
    "    \n",
    "    @abstractmethod\n",
    "    def m2(self): pass\n",
    "    \n",
    "    @abstractmethod\n",
    "    def m3(self): pass\n",
    "    \n",
    "    @abstractmethod\n",
    "    def m4(self): pass\n",
    "\n",
    "    \n",
    "    \n",
    "class ImplementationClass(CA): # Abstact class\n",
    "    \n",
    "    def m1(self):\n",
    "        print(\"m1 method implementation\")\n",
    "        \n",
    "    def m2(self):\n",
    "        print(\"m2 method implementation\")\n",
    "    \n",
    "\n",
    "class ConcreteClass(ImplementationClass): #Concrete class\n",
    "    def m3(self):\n",
    "        print(\"m3 method implementation\")\n",
    "        \n",
    "    def m4(self):\n",
    "        print(\"m4 method implementation\")\n",
    "        \n",
    "        \n",
    "c = ConcreteClass()\n",
    "\n",
    "c.m1()\n",
    "c.m2()\n",
    "c.m3()\n",
    "c.m4()"
   ]
  },
  {
   "cell_type": "markdown",
   "id": "cc417251",
   "metadata": {},
   "source": [
    "# Public, Private, Protected Variables"
   ]
  },
  {
   "cell_type": "markdown",
   "id": "f5971e12",
   "metadata": {},
   "source": [
    "### Yet to be done!!!"
   ]
  },
  {
   "cell_type": "code",
   "execution_count": 18,
   "id": "b282a00e",
   "metadata": {},
   "outputs": [],
   "source": [
    "X = 10 # public, can be accessed\n",
    "\n",
    "_x = 10 # protected, can be accessed but not recommended\n",
    "\n",
    "__x = 10 # private, it will throw AttributeError"
   ]
  },
  {
   "cell_type": "markdown",
   "id": "1be786a0",
   "metadata": {},
   "source": [
    "    We can access the private variables in Python. That is by using objectreference.\n",
    "    \n",
    "    objectreference._classname__variablename"
   ]
  },
  {
   "cell_type": "code",
   "execution_count": 24,
   "id": "e243aa17",
   "metadata": {},
   "outputs": [
    {
     "name": "stdout",
     "output_type": "stream",
     "text": [
      "10\n"
     ]
    }
   ],
   "source": [
    "class Test:\n",
    "    \n",
    "    def __init__(self):\n",
    "        self.__x = 10\n",
    "        \n",
    "t = Test()\n",
    "\n",
    "# print(t.__x) this throws an error\n",
    "\n",
    "print(t._Test__x) # this give the access to the private variable. This is not recommended\n",
    "                  # for security reason"
   ]
  },
  {
   "cell_type": "code",
   "execution_count": 26,
   "id": "ab191ba6",
   "metadata": {},
   "outputs": [
    {
     "name": "stdout",
     "output_type": "stream",
     "text": [
      "This is Name: Sid. And Roll No. is: 100\n",
      "This is Name: Sam. And Roll No. is: 101\n"
     ]
    }
   ],
   "source": [
    "class Student:\n",
    "    \n",
    "    def __init__(self, name, rollnumber):\n",
    "        self.name = name\n",
    "        self.rollnumber = rollnumber\n",
    "        \n",
    "    def __str__(self):\n",
    "        return f'This is Name: {self.name}. And Roll No. is: {self.rollnumber}'\n",
    "    \n",
    "s1 = Student('Sid', 100)\n",
    "s2 = Student('Sam', 101)\n",
    "\n",
    "print(s1) # before using __str__ the output just gave the address of object\n",
    "print(s2) # same with this function too"
   ]
  },
  {
   "cell_type": "markdown",
   "id": "b0822312",
   "metadata": {},
   "source": [
    "### Constants"
   ]
  },
  {
   "cell_type": "markdown",
   "id": "0a0eada1",
   "metadata": {},
   "source": [
    "    Not applicable in Python but there is convention to be followed:\n",
    "    \n",
    "    an example:\n",
    "    \n",
    "    CONSTANT_VALUE = 100"
   ]
  },
  {
   "cell_type": "markdown",
   "id": "dfb72ee8",
   "metadata": {},
   "source": [
    "# Multi-Threading"
   ]
  },
  {
   "cell_type": "markdown",
   "id": "947f6b90",
   "metadata": {},
   "source": [
    "##### Multi-Tasking"
   ]
  },
  {
   "cell_type": "markdown",
   "id": "28cf8157",
   "metadata": {},
   "source": [
    "     Two types of multi-tasking\n",
    "     \n",
    "         1. Process based \n",
    "         2. Thread based"
   ]
  },
  {
   "cell_type": "markdown",
   "id": "d250632e",
   "metadata": {},
   "source": [
    "### 1. Process based multi-tasking"
   ]
  },
  {
   "cell_type": "markdown",
   "id": "3ef87037",
   "metadata": {},
   "source": [
    "    Executing several tasks simultaneously where each task is a separate independent process.\n",
    "    \n",
    "        1. We are typing code in an editor\n",
    "        2. Download file from internet\n",
    "        3. Listen audio songs\n",
    "        \n",
    "        \n",
    "    Such type of multitaksing is suitable for Operating System level"
   ]
  },
  {
   "cell_type": "markdown",
   "id": "bca580e5",
   "metadata": {},
   "source": [
    "### 2. Thread based multi-tasking"
   ]
  },
  {
   "cell_type": "markdown",
   "id": "a95b3032",
   "metadata": {},
   "source": [
    "    Assume that 10000 line os code is there.\n",
    "    \n",
    "    It may require 1 hour\n",
    "    \n",
    "    Again assume that first 5000 lines of code and next 5000 lines of code are. If both are independent, second part has to wait for the first part to complete execution. But we do it simulteneously then it could be finished in 30 - 45mins may be. This is called thread based multitasking.\n",
    "    \n",
    "    For every individual part you can be able to define a separate thread. So that multiple flow of exdecution happens.\n",
    "        \n",
    "    An exmaple to udnderstand:\n",
    "        Several files in the computer.\n",
    "        Some mobile numbers.\n",
    "        There are certain number of drives. Each drive contains a number of folders, each folder may contain number of files. Assume that the drive has over 100,000 files. If you search then it may take a day of two.\n",
    "        What if I create a thread for each drive. Each search can be done separately. The search can be finished in 8 - 10 hours, to make a point."
   ]
  },
  {
   "cell_type": "markdown",
   "id": "8a7b5f13",
   "metadata": {},
   "source": [
    "    We can reduce execution time and improve performance. \n",
    "    \n",
    "    Examples:\n",
    "        1. Animations\n",
    "        2. Multi Media Graphics\n",
    "        3. Video Games\n",
    "        4. Web Servers and Application Servers\n",
    "        \n",
    "    Gmail apllication. Simulteneoulsy you can receive or check mails."
   ]
  },
  {
   "cell_type": "markdown",
   "id": "407ed3ba",
   "metadata": {},
   "source": [
    "    Wherever a group of independent jobs are there. There multi-threading is necessary."
   ]
  },
  {
   "cell_type": "markdown",
   "id": "b4493f59",
   "metadata": {},
   "source": [
    "##### How to develop multi-threaded programs"
   ]
  },
  {
   "cell_type": "markdown",
   "id": "3aac7a13",
   "metadata": {},
   "source": [
    "    90% of work is done by Python Threading module, we need to do 10% of work.\n",
    "    \n",
    "    Every Python program has a thread, it is called main-thread.\n",
    "    \n",
    "    Thread means:\n",
    "        Independent of the program\n",
    "        It is a task or action\n",
    "        An independent flow of execution\n",
    "        It is a part of the process\n",
    "        \n",
    "    Definition of Thread:\n",
    "        1. It is a flow of execution\n",
    "        2. For every thread there is some job available.\n",
    "        3. \n",
    "        \n",
    "    By default python program has a single thread, that thread is called main-thread."
   ]
  },
  {
   "cell_type": "markdown",
   "id": "c428241b",
   "metadata": {},
   "source": [
    "    Module name is 'threading'\n",
    "    \n",
    "    current_thread().getName() # this will give the thread object, to know name use getName() function."
   ]
  },
  {
   "cell_type": "code",
   "execution_count": null,
   "id": "6d313fca",
   "metadata": {},
   "outputs": [],
   "source": []
  }
 ],
 "metadata": {
  "kernelspec": {
   "display_name": "Python 3 (ipykernel)",
   "language": "python",
   "name": "python3"
  },
  "language_info": {
   "codemirror_mode": {
    "name": "ipython",
    "version": 3
   },
   "file_extension": ".py",
   "mimetype": "text/x-python",
   "name": "python",
   "nbconvert_exporter": "python",
   "pygments_lexer": "ipython3",
   "version": "3.9.7"
  }
 },
 "nbformat": 4,
 "nbformat_minor": 5
}
